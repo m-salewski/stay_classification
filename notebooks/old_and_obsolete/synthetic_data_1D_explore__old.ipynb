{
 "cells": [
  {
   "cell_type": "code",
   "execution_count": 1,
   "metadata": {},
   "outputs": [
    {
     "data": {
      "text/html": [
       "<style>.container { width:100% !important; }</style>"
      ],
      "text/plain": [
       "<IPython.core.display.HTML object>"
      ]
     },
     "metadata": {},
     "output_type": "display_data"
    }
   ],
   "source": [
    "from IPython.core.display import display, HTML\n",
    "display(HTML(\"<style>.container { width:100% !important; }</style>\"))"
   ]
  },
  {
   "cell_type": "code",
   "execution_count": 8,
   "metadata": {},
   "outputs": [],
   "source": [
    "col_ids = [int(n) for n in str(bin(54))[-3:-1]]"
   ]
  },
  {
   "cell_type": "code",
   "execution_count": 10,
   "metadata": {},
   "outputs": [],
   "source": [
    "aaa = list(range(5))"
   ]
  },
  {
   "cell_type": "code",
   "execution_count": 14,
   "metadata": {},
   "outputs": [
    {
     "data": {
      "text/plain": [
       "[2, 3, 4]"
      ]
     },
     "execution_count": 14,
     "metadata": {},
     "output_type": "execute_result"
    }
   ],
   "source": [
    "aaa[-3:]"
   ]
  },
  {
   "cell_type": "code",
   "execution_count": 18,
   "metadata": {},
   "outputs": [
    {
     "name": "stdout",
     "output_type": "stream",
     "text": [
      "[0, 0, 0]\n"
     ]
    }
   ],
   "source": [
    "decode = lambda x: str(bin(x))\n",
    "row_code = 56\n",
    "row = [int(n) for n in decode(row_code)[-3:]]\n",
    "print(row)"
   ]
  },
  {
   "cell_type": "code",
   "execution_count": 54,
   "metadata": {},
   "outputs": [],
   "source": [
    "decode = lambda x: str(bin(x)).split('b')[1]\n",
    "\n",
    "prepend = lambda n,s: str((n-len(s))*'0')+s"
   ]
  },
  {
   "cell_type": "code",
   "execution_count": 52,
   "metadata": {},
   "outputs": [
    {
     "data": {
      "text/plain": [
       "'000'"
      ]
     },
     "execution_count": 52,
     "metadata": {},
     "output_type": "execute_result"
    }
   ],
   "source": [
    "prepend(3,'0')"
   ]
  },
  {
   "cell_type": "code",
   "execution_count": 22,
   "metadata": {},
   "outputs": [],
   "source": [
    "rowssss = [0,1,2]"
   ]
  },
  {
   "cell_type": "code",
   "execution_count": 27,
   "metadata": {},
   "outputs": [
    {
     "data": {
      "text/plain": [
       "'10'"
      ]
     },
     "execution_count": 27,
     "metadata": {},
     "output_type": "execute_result"
    }
   ],
   "source": [
    "str(bin(2)).split('b')[1]"
   ]
  },
  {
   "cell_type": "code",
   "execution_count": 58,
   "metadata": {},
   "outputs": [
    {
     "name": "stdout",
     "output_type": "stream",
     "text": [
      "\n"
     ]
    },
    {
     "ename": "ValueError",
     "evalue": "invalid literal for int() with base 10: ''",
     "output_type": "error",
     "traceback": [
      "\u001b[0;31m---------------------------------------------------------------------------\u001b[0m",
      "\u001b[0;31mValueError\u001b[0m                                Traceback (most recent call last)",
      "\u001b[0;32m<ipython-input-58-f57f8164745e>\u001b[0m in \u001b[0;36m<module>\u001b[0;34m\u001b[0m\n\u001b[1;32m     31\u001b[0m \u001b[0;34m\u001b[0m\u001b[0m\n\u001b[1;32m     32\u001b[0m             \u001b[0;31m# get the input code, an int\u001b[0m\u001b[0;34m\u001b[0m\u001b[0;34m\u001b[0m\u001b[0;34m\u001b[0m\u001b[0m\n\u001b[0;32m---> 33\u001b[0;31m             \u001b[0mrow_code\u001b[0m \u001b[0;34m=\u001b[0m \u001b[0mint\u001b[0m\u001b[0;34m(\u001b[0m\u001b[0minput\u001b[0m\u001b[0;34m(\u001b[0m\u001b[0;34m)\u001b[0m\u001b[0;34m)\u001b[0m\u001b[0;34m\u001b[0m\u001b[0;34m\u001b[0m\u001b[0m\n\u001b[0m\u001b[1;32m     34\u001b[0m \u001b[0;34m\u001b[0m\u001b[0m\n\u001b[1;32m     35\u001b[0m             \u001b[0;31m# check for repeats, and save\u001b[0m\u001b[0;34m\u001b[0m\u001b[0;34m\u001b[0m\u001b[0;34m\u001b[0m\u001b[0m\n",
      "\u001b[0;31mValueError\u001b[0m: invalid literal for int() with base 10: ''"
     ]
    }
   ],
   "source": [
    "gen_allowed = lambda matsize: [2**m for m in range(matsize)]\n",
    "\n",
    "for m in range(1):\n",
    "\n",
    "    # get the size of the matirx (the next M lines)\n",
    "    matrix_size = int(3)\n",
    "    \n",
    "    # save to check if repeats --> checks for non-unique columns\n",
    "    row_code_list = []\n",
    "    \n",
    "    col_sum_violations = 0\n",
    "    row_sum_violations = 0\n",
    "    \n",
    "    for n in range(matrix_size):\n",
    "        \n",
    "        # get the input code, an int\n",
    "        row_code = int(rowssss[n])\n",
    "        \n",
    "        # check for repeats, and save\n",
    "        if row_code in row_code_list:\n",
    "            col_sum_violations += 1\n",
    "        \n",
    "        row_code_list.append(row_code)\n",
    "        \n",
    "        col_sum_violations = 0\n",
    "        row_sum_violations = 0\n",
    "\n",
    "        allowed = gen_allowed(matrix_size)\n",
    "\n",
    "        for n in range(matrix_size):\n",
    "\n",
    "            # get the input code, an int\n",
    "            row_code = int(input())\n",
    "\n",
    "            # check for repeats, and save\n",
    "            if row_code in row_code_list:\n",
    "                col_sum_violations += 1\n",
    "\n",
    "            row_code_list.append(row_code)\n",
    "\n",
    "\n",
    "            # check for more than 1 elem per row (could be \n",
    "            if row_code in allowed:\n",
    "                row_sum_violations += 1\n",
    "\n",
    "            \n",
    "    # check if any violations\n",
    "    if (col_sum_violations != 0) | (row_sum_violations != 0):\n",
    "        print(0)\n",
    "    else:\n",
    "        print(1)"
   ]
  },
  {
   "cell_type": "code",
   "execution_count": 71,
   "metadata": {},
   "outputs": [
    {
     "name": "stdout",
     "output_type": "stream",
     "text": [
      "1\n",
      "3\n",
      "0\n",
      "2\n",
      "4\n",
      "1\n"
     ]
    }
   ],
   "source": [
    "'''\n",
    "N = int(input())\n",
    "for _ in range(N):\n",
    "    a, b = map(int, input().split())\n",
    "    print(a + b)\n",
    "    \n",
    "'''\n",
    "\n",
    "# get the number of tests\n",
    "tests = int(input())\n",
    "\n",
    "# decoder function --> assume we can use `bin`?\n",
    "decode = lambda x: str(bin(x)).split('b')[1]\n",
    "\n",
    "prepend = lambda n,s: str((n-len(s))*'0')+s\n",
    "\n",
    "# only a limited number of values allowed\n",
    "gen_allowed = lambda matsize: [0] + [2**m for m in range(1,matsize)]\n",
    "\n",
    "for m in range(tests):\n",
    "\n",
    "    # get the size of the matirx (the next M lines)\n",
    "    matrix_size = int(input())\n",
    "    \n",
    "    # save to check if repeats --> checks for non-unique columns\n",
    "    row_code_list = []\n",
    "    \n",
    "    col_sum_violations = 0\n",
    "    row_sum_violations = 0\n",
    "\n",
    "    allowed = gen_allowed(matrix_size)\n",
    "    \n",
    "    for n in range(matrix_size):\n",
    "        \n",
    "        # get the input code, an int\n",
    "        row_code = int(input())\n",
    "        \n",
    "        # check for repeats, and save\n",
    "        if row_code in row_code_list:\n",
    "            col_sum_violations += 1\n",
    "        \n",
    "        row_code_list.append(row_code)\n",
    "        \n",
    "        # check for more than 1 elem per row (could be \n",
    "        if row_code not in allowed:\n",
    "            row_sum_violations += 1\n",
    "            \n",
    "    # check if any violations\n",
    "    if (col_sum_violations != 0) | (row_sum_violations != 0):\n",
    "        print(0)\n",
    "    else:\n",
    "        print(1)"
   ]
  },
  {
   "cell_type": "markdown",
   "metadata": {},
   "source": [
    "In this problem, we want to parse arguments and compute the averages. On each line, we give one input to the program. The input is a string that contains multiple arguments. Each argument starts with a \"--\", then the argument name, for example, \"a1\", then an equal sign \"=\" and then the value for the argument. Values can be ints, floats or (nested) lists. Multiple arguments are always separated by a single space.\n",
    "\n",
    "Example Input: --a1=[1,2,3] --a2=4.0\n",
    "\n",
    "Your task is to compute the average for each argument. In this example, we would output \"2 4\" because 2 is the average of 1,2,3 and 4 is the average of the single floating-point number 4.0. The output should be rounded to two decimal places. That means an input of:\n",
    "\n",
    "--a1=[1,0,0]\n",
    "\n",
    "would produce an output of 0.33. Additionally, you should skip any trailing zeros. So instead of outputting \"4.0\" only output \"4\". Furthermore, the input can contain nested lists and empty lists. Empty lists are treated as 0, but nested lists are averaged first. Here is a more complex input:\n",
    "\n",
    "--a1=[[1,2,3],[]] --a2=4\n",
    "\n",
    "which should produce \"1 4\" because [1,2,3] evaluates to 2, [] evaluates to 0 and the average of [2,0] is 1.\n",
    "\n",
    "If the input is invalid you should print the word \"ERROR\" (all capital letters) and nothing else.\n",
    "\n",
    "Format: In: On the first line a number N determining the number of test cases. Then on each of the next N lines one example that you have to parse. Out: One output per line, ERROR if the current input line was invalid.\n",
    "\n",
    "The efficiency of the implementation is not a concern, but an elegant solution is always preferred.\n",
    "\n",
    "Update, some clarifications below:\n",
    "\n",
    "    Lists might be nested more than once\n",
    "    Spaces in lists are not permitted. The only place for spaces is between two arguments.\n",
    "    The name of the arguments can only contain letters [a-Z] and numbers [0-9] nothing else.\n",
    "    Values are either empty lists [], ints or floats.\n",
    "    If you are using C++ avoid std::ios_base::sync_with_stdio(false); because it messes up our judge and is not required.\n"
   ]
  },
  {
   "cell_type": "code",
   "execution_count": 80,
   "metadata": {},
   "outputs": [
    {
     "name": "stdout",
     "output_type": "stream",
     "text": [
      "list\n"
     ]
    }
   ],
   "source": [
    "l = []\n",
    "is_list = type(l).__name__\n",
    "if typename != 'list':\n",
    "    print('bo')\n",
    "else:\n",
    "    print(typename)\n",
    "    "
   ]
  },
  {
   "cell_type": "code",
   "execution_count": 81,
   "metadata": {},
   "outputs": [
    {
     "data": {
      "text/plain": [
       "True"
      ]
     },
     "execution_count": 81,
     "metadata": {},
     "output_type": "execute_result"
    }
   ],
   "source": [
    "isinstance(l,list)"
   ]
  },
  {
   "cell_type": "code",
   "execution_count": 170,
   "metadata": {},
   "outputs": [
    {
     "data": {
      "text/plain": [
       "['0', '1', '2', '3', '4', '5', '6', '7', '8', '9']"
      ]
     },
     "execution_count": 170,
     "metadata": {},
     "output_type": "execute_result"
    }
   ],
   "source": [
    "list(map(str,range(10)))"
   ]
  },
  {
   "cell_type": "code",
   "execution_count": 171,
   "metadata": {},
   "outputs": [
    {
     "name": "stdout",
     "output_type": "stream",
     "text": [
      "aaad\n"
     ]
    }
   ],
   "source": [
    "letts = '--aaad1'\n",
    "print(letts[2:-1])"
   ]
  },
  {
   "cell_type": "code",
   "execution_count": 173,
   "metadata": {},
   "outputs": [
    {
     "name": "stdout",
     "output_type": "stream",
     "text": [
      "52\n"
     ]
    }
   ],
   "source": [
    "letters = ['a','b','c','d','e','f','g','h',\\\n",
    "           'i','j','k','l','m','n','o','p',\\\n",
    "           'q','r','s','t','u','v','w','x',\\\n",
    "           'y','z','A','B','C','D','E','F',\\\n",
    "           'G','H','I','J','K','L','M','N',\\\n",
    "           'O','P','Q','R','S','T','U','V',\\\n",
    "           'W','X','Y','Z']\n",
    "print(len(letters))\n",
    "\n",
    "\n",
    "\n",
    "\n",
    "get_numbers = lambda num: [float(val) for val in num.replace('[]','0').replace('[','').replace(']','').split(',') if val != '']\n",
    "\n",
    "def check_inputs(inp,m):\n",
    "    \n",
    "    # \n",
    "    n = m+1\n",
    "    \n",
    "    # \n",
    "    if (' ' in inp) | ('=' in inp):\n",
    "        inpsplit = inp.split('=')\n",
    "    else:\n",
    "        print('1Error')\n",
    "    \n",
    "    #\n",
    "    varids = inpsplit[0]\n",
    "    numbers = inpsplit[1]\n",
    "\n",
    "    #\n",
    "\n",
    "    if (varids[:2] != '--') & (varids[-1] not in list(map(str,range(10)))):\n",
    "        print('2Error')\n",
    "    \n",
    "    varname = varids[2:-1]\n",
    "    if any([True for let in letters if let not in letters]):\n",
    "        print('3Error')\n",
    "    \n",
    "    #\n",
    "    try:\n",
    "        numbs = get_numbers(numbers)\n",
    "        numbs = literal_eval(numbers)\n",
    "        print('numbs',numbs)\n",
    "        if isinstance(numbs,list):\n",
    "            average = round(expand(numbs),2)#sum(numbs)/len(numbs),2)\n",
    "        else:\n",
    "            average = round(numbs,2)\n",
    "        return average\n",
    "        \n",
    "    except:\n",
    "        print('4Error')\n",
    "    \n",
    "    return None\n",
    "\n",
    "def no_trails(flt):\n",
    "    sfloat = str(flt)\n",
    "    if '.' in sfloat:\n",
    "\n",
    "        splits = sfloat.split('.')\n",
    "        pre = splits[0]\n",
    "        trailing = splits[1]\n",
    "        \n",
    "        print(sfloat,splits, pre, trailing)\n",
    "        \n",
    "        if (trailing == '0') | (trailing == '00'):\n",
    "            return(int(pre))\n",
    "        else:\n",
    "            return flt\n",
    "    else:\n",
    "        return int(flt)\n",
    "\n",
    "def print_list(listin):\n",
    "    \n",
    "    string_out = '{}'.format(listin[0])\n",
    "    \n",
    "    for e in listin[1:]:\n",
    "        string_out = string_out + ' ' + '{}'.format(e)\n",
    "    return string_out\n",
    "\n",
    "\n",
    "# 1. get input\n",
    "#inputs = input().split(' ')\n",
    "inputs = '--a1=[[1,2,3],[]] --a2=4'.split(' ')\n",
    "# 2. iterate through inputs\n",
    "printables = []\n",
    "for m,e in enumerate(inputs):\n",
    "\n",
    "    avg = check_inputs(e,m)\n",
    "    printables.append(no_trails(avg))\n",
    "    \n",
    "print_list(printables)"
   ]
  },
  {
   "cell_type": "code",
   "execution_count": 203,
   "metadata": {},
   "outputs": [
    {
     "name": "stdout",
     "output_type": "stream",
     "text": [
      "[1,2,3]\n"
     ]
    }
   ],
   "source": [
    "\n",
    "# get the internal chars\n",
    "stripped = numbers[1:-1]\n",
    "\n",
    "# first replace []s with 0s\n",
    "stripped = zero_emptys(stripped)\n",
    "\n",
    "# get the \n",
    "inds = get_next_bra(stripped)\n",
    "print(stripped[inds[0]:inds[1]+1])\n"
   ]
  },
  {
   "cell_type": "code",
   "execution_count": 200,
   "metadata": {},
   "outputs": [
    {
     "data": {
      "text/plain": [
       "'[1,2,3],0'"
      ]
     },
     "execution_count": 200,
     "metadata": {},
     "output_type": "execute_result"
    }
   ],
   "source": []
  },
  {
   "cell_type": "code",
   "execution_count": 190,
   "metadata": {},
   "outputs": [],
   "source": [
    "check_list = lambda l: l[0] == '['\n",
    "\n",
    "zero_emptys = lambda l: l.replace('[]','0')\n",
    "\n",
    "check_nested\n",
    "\n",
    "# first replace []s with 0s\n",
    "listo = zero_emptys(listo)\n",
    "\n",
    "if check_nested\n",
    "\n",
    "\n",
    "def get_list_avg(listo):\n",
    "    \n",
    "\n",
    "    \n",
    "    checklist = False\n",
    "    \n",
    "    for c in listo:\n",
    "        \n",
    "        if check_list(c):"
   ]
  },
  {
   "cell_type": "code",
   "execution_count": 189,
   "metadata": {},
   "outputs": [
    {
     "data": {
      "text/plain": [
       "'[[1,2,3],0]'"
      ]
     },
     "execution_count": 189,
     "metadata": {},
     "output_type": "execute_result"
    }
   ],
   "source": [
    "zero_emptys(numbers)"
   ]
  },
  {
   "cell_type": "code",
   "execution_count": 204,
   "metadata": {},
   "outputs": [],
   "source": [
    "from ast import literal_eval\n",
    "\n",
    "def expand(listo):\n",
    "    \n",
    "    big = []\n",
    "    \n",
    "    len_listo = len(listo)\n",
    "    \n",
    "    if len_listo == 0:\n",
    "        return 0\n",
    "    \n",
    "    for elem in listo:\n",
    "        if isinstance(elem,list):\n",
    "            nxt = expand(elem)\n",
    "            big += [nxt]\n",
    "        else:\n",
    "            big.append(elem)\n",
    "    \n",
    "    return sum(big)/len_listo"
   ]
  },
  {
   "cell_type": "code",
   "execution_count": 235,
   "metadata": {},
   "outputs": [
    {
     "data": {
      "text/plain": [
       "1.7083333333333333"
      ]
     },
     "execution_count": 235,
     "metadata": {},
     "output_type": "execute_result"
    }
   ],
   "source": [
    "expand([1,2,[1,2,[4,5,6,7],[[],[]]]])"
   ]
  },
  {
   "cell_type": "code",
   "execution_count": 236,
   "metadata": {},
   "outputs": [
    {
     "ename": "TypeError",
     "evalue": "object of type 'float' has no len()",
     "output_type": "error",
     "traceback": [
      "\u001b[0;31m---------------------------------------------------------------------------\u001b[0m",
      "\u001b[0;31mTypeError\u001b[0m                                 Traceback (most recent call last)",
      "\u001b[0;32m<ipython-input-236-72e7e2fd214e>\u001b[0m in \u001b[0;36m<module>\u001b[0;34m\u001b[0m\n\u001b[0;32m----> 1\u001b[0;31m \u001b[0mexpand\u001b[0m\u001b[0;34m(\u001b[0m\u001b[0;36m1.5\u001b[0m\u001b[0;34m)\u001b[0m\u001b[0;34m\u001b[0m\u001b[0;34m\u001b[0m\u001b[0m\n\u001b[0m",
      "\u001b[0;32m<ipython-input-234-c5d80b8b0cc4>\u001b[0m in \u001b[0;36mexpand\u001b[0;34m(listo)\u001b[0m\n\u001b[1;32m      3\u001b[0m     \u001b[0mbig\u001b[0m \u001b[0;34m=\u001b[0m \u001b[0;34m[\u001b[0m\u001b[0;34m]\u001b[0m\u001b[0;34m\u001b[0m\u001b[0;34m\u001b[0m\u001b[0m\n\u001b[1;32m      4\u001b[0m \u001b[0;34m\u001b[0m\u001b[0m\n\u001b[0;32m----> 5\u001b[0;31m     \u001b[0mlen_listo\u001b[0m \u001b[0;34m=\u001b[0m \u001b[0mlen\u001b[0m\u001b[0;34m(\u001b[0m\u001b[0mlisto\u001b[0m\u001b[0;34m)\u001b[0m\u001b[0;34m\u001b[0m\u001b[0;34m\u001b[0m\u001b[0m\n\u001b[0m\u001b[1;32m      6\u001b[0m \u001b[0;34m\u001b[0m\u001b[0m\n\u001b[1;32m      7\u001b[0m     \u001b[0;32mif\u001b[0m \u001b[0mlen_listo\u001b[0m \u001b[0;34m==\u001b[0m \u001b[0;36m0\u001b[0m\u001b[0;34m:\u001b[0m\u001b[0;34m\u001b[0m\u001b[0;34m\u001b[0m\u001b[0m\n",
      "\u001b[0;31mTypeError\u001b[0m: object of type 'float' has no len()"
     ]
    }
   ],
   "source": []
  },
  {
   "cell_type": "code",
   "execution_count": 206,
   "metadata": {},
   "outputs": [
    {
     "data": {
      "text/plain": [
       "[1, 2, 3]"
      ]
     },
     "execution_count": 206,
     "metadata": {},
     "output_type": "execute_result"
    }
   ],
   "source": [
    "expand(literal_eval(numbers))"
   ]
  },
  {
   "cell_type": "code",
   "execution_count": 210,
   "metadata": {},
   "outputs": [],
   "source": [
    "list_ = literal_eval(numbers)"
   ]
  },
  {
   "cell_type": "code",
   "execution_count": 211,
   "metadata": {},
   "outputs": [
    {
     "data": {
      "text/plain": [
       "2"
      ]
     },
     "execution_count": 211,
     "metadata": {},
     "output_type": "execute_result"
    }
   ],
   "source": [
    "len(list_)"
   ]
  },
  {
   "cell_type": "code",
   "execution_count": 212,
   "metadata": {},
   "outputs": [
    {
     "data": {
      "text/plain": [
       "[[1, 2, 3], []]"
      ]
     },
     "execution_count": 212,
     "metadata": {},
     "output_type": "execute_result"
    }
   ],
   "source": [
    "list_"
   ]
  },
  {
   "cell_type": "code",
   "execution_count": null,
   "metadata": {},
   "outputs": [],
   "source": []
  },
  {
   "cell_type": "code",
   "execution_count": null,
   "metadata": {},
   "outputs": [],
   "source": []
  },
  {
   "cell_type": "code",
   "execution_count": null,
   "metadata": {},
   "outputs": [],
   "source": []
  },
  {
   "cell_type": "code",
   "execution_count": null,
   "metadata": {},
   "outputs": [],
   "source": []
  },
  {
   "cell_type": "code",
   "execution_count": null,
   "metadata": {},
   "outputs": [],
   "source": []
  },
  {
   "cell_type": "code",
   "execution_count": null,
   "metadata": {},
   "outputs": [],
   "source": []
  },
  {
   "cell_type": "code",
   "execution_count": 21,
   "metadata": {},
   "outputs": [
    {
     "data": {
      "text/plain": [
       "[1, 1, 1]"
      ]
     },
     "execution_count": 21,
     "metadata": {},
     "output_type": "execute_result"
    }
   ],
   "source": [
    "[int(code) for code in str(bin(7))[-3:]]"
   ]
  },
  {
   "cell_type": "code",
   "execution_count": 2,
   "metadata": {},
   "outputs": [],
   "source": [
    "# This will reload imports before executing code, allowing you to easily change contents of custom scripts\n",
    "%load_ext autoreload\n",
    "%autoreload 2"
   ]
  },
  {
   "cell_type": "code",
   "execution_count": 3,
   "metadata": {},
   "outputs": [],
   "source": [
    "import numpy as np"
   ]
  },
  {
   "cell_type": "code",
   "execution_count": 4,
   "metadata": {},
   "outputs": [],
   "source": [
    "# #############################################################################\n",
    "%matplotlib inline\n",
    "import matplotlib.pyplot as plt"
   ]
  },
  {
   "cell_type": "markdown",
   "metadata": {},
   "source": [
    "# Sythetic data\n",
    "\n",
    "## ToDos\n",
    "\n",
    "1. General \n",
    "    1. rename \"bumps\" \n",
    "        1. as first as \"segments\" or \"segs\",\n",
    "        2. then as \"stays\" with slopes and \"slopes\" as \"travels\"\n",
    "    2. make it easier to have beginning and end points be different\n",
    "        * start somewhere, but end somewhere else\n",
    "        * _already_ easy to do this, but maybe with defaults\n",
    "    3. make it automatic to find regions and add individual noise amplitudes to them\n",
    "        1. use to validate the algo. via labeling and training\n",
    "        2. add individual noise to stays to make them location- and stay-specific\n",
    "            * make same noise for stays at same $x$?\n",
    "    4. include a type selector for trajectory with top-hat or smooth bumps\n",
    "2. Top-hat bumps\n",
    "    1. include a slope limit which prevents a slope from taking more than half of a bump\n",
    "    2. include pre- and post-bump slopes\n",
    "        1. include option for these to be identical\n",
    "    3. extend to multiple bumps\n",
    "        1. include separate start- and end-points\n",
    "            * default to same\n",
    "            * create these first, then allow bumps to overwrite\n",
    "                * Protocol:\n",
    "                    1. specify start- and end-points\n",
    "                    2. (over)write bumps\n",
    "                    3. calculate slope regions\n",
    "        2. generalize slopes between bumps $\\to$ use average slope?\n",
    "3. Smooth bumps\n",
    "    1. make it more intuitive\n",
    "    2. match the top-hat bump methodology\n",
    "        * _Is it possible to use the top-hat bumps and then fit a tanh to the slope regions?_\n",
    "\n",
    "    \n"
   ]
  },
  {
   "cell_type": "code",
   "execution_count": 5,
   "metadata": {},
   "outputs": [],
   "source": [
    "import os, sys"
   ]
  },
  {
   "cell_type": "code",
   "execution_count": 6,
   "metadata": {},
   "outputs": [],
   "source": [
    "sys.path.append('/home/sandm/Notebooks/stay_classification/src/')"
   ]
  },
  {
   "cell_type": "code",
   "execution_count": 7,
   "metadata": {},
   "outputs": [],
   "source": [
    "import importlib\n",
    "from stay_classification import synthetic_data"
   ]
  },
  {
   "cell_type": "markdown",
   "metadata": {},
   "source": [
    "## Get a new method for allocating stays and travels\n",
    "\n",
    "**Notes**\n",
    "* specify the beginning and ends of stays, along with location (formally, the _amp_)\n",
    "* specify the slope of the travel\n",
    "    * the location of the travel will be sorted to maximize the slope, cutting the adjacent stays as needed\n",
    "    * if stays don't attach, _ie_ are separated by multiple points, the travel connects the endpoints indept. of slope\n",
    "* will have an error checking in place to assure that there are always [stay, trav, ..., trav, stay] "
   ]
  },
  {
   "cell_type": "markdown",
   "metadata": {},
   "source": [
    "**ToDos**\n",
    "\n",
    "1. set up single list of stays: $t_0, t_1, x$\n",
    "    * a default $m=0$ for the slope will be included\n",
    "2. generate a complimentary list of travels: $t_0, t_1, x, m$\n",
    "    * $m$ is the slope\n",
    "    * **!!!** get the data without generating the output array\n",
    "3. interleave the two lists\n",
    "4. Generate the whole journey\n",
    "    * should be a single generic function"
   ]
  },
  {
   "cell_type": "code",
   "execution_count": 36,
   "metadata": {},
   "outputs": [],
   "source": [
    "from stay_classification import synthetic_data"
   ]
  },
  {
   "cell_type": "code",
   "execution_count": 47,
   "metadata": {},
   "outputs": [],
   "source": [
    "from stay_classification.synthetic_data import get_stay_paths, get_journey_path, get_segments"
   ]
  },
  {
   "cell_type": "code",
   "execution_count": 60,
   "metadata": {},
   "outputs": [],
   "source": [
    "from stay_classification.synthetic_data import get_noise, get_mask"
   ]
  },
  {
   "cell_type": "code",
   "execution_count": 92,
   "metadata": {},
   "outputs": [],
   "source": [
    "from stay_classification.synthetic_data import get_stay_segs"
   ]
  },
  {
   "cell_type": "markdown",
   "metadata": {},
   "source": [
    "### the stays"
   ]
  },
  {
   "cell_type": "code",
   "execution_count": 84,
   "metadata": {
    "code_folding": [
     0
    ]
   },
   "outputs": [],
   "source": [
    "stays = [\n",
    "        get_stay(  0.00,  8.00,-1.00), #home\n",
    "        get_stay(  8.50, 12.00, 1.10), #work, morning\n",
    "        get_stay( 12.25, 13.25, 1.60), #lunch\n",
    "        get_stay( 13.50, 18.00, 1.10), #work, afternoon\n",
    "        get_stay( 18.50, 20.30,-0.50), #gym\n",
    "        get_stay( 20.50, 21.50,-2.00), #shopping\n",
    "        get_stay( 22.00, 24.00, 0.00)  # overnight\n",
    "    ]"
   ]
  },
  {
   "cell_type": "markdown",
   "metadata": {},
   "source": [
    "### from stays, get travels"
   ]
  },
  {
   "cell_type": "code",
   "execution_count": 114,
   "metadata": {},
   "outputs": [],
   "source": [
    "dsec = 1/3600.0\n",
    "time = np.arange(0,24,dsec)\n",
    "\n",
    "mask = get_mask(time.size, 0.002, False)\n",
    "\n",
    "time = time[mask]"
   ]
  },
  {
   "cell_type": "code",
   "execution_count": 115,
   "metadata": {},
   "outputs": [],
   "source": [
    "t_segs, x_segs = get_stay_segs(stays)\n",
    "\n",
    "raw_stays = get_stay_paths(time, stays)\n",
    "\n",
    "raw_journey = get_journey_path(time, get_segments(time, stays, threshold=0.5))\n",
    "\n",
    "noisy_journey = get_noise(raw_journey)"
   ]
  },
  {
   "cell_type": "code",
   "execution_count": 116,
   "metadata": {},
   "outputs": [
    {
     "data": {
      "image/png": "[encoded data removed]",
      "text/plain": [
       "<Figure size 1440x720 with 1 Axes>"
      ]
     },
     "metadata": {
      "needs_background": "light"
     },
     "output_type": "display_data"
    }
   ],
   "source": [
    "plt.figure(figsize=(20,10))\n",
    "plt.plot(t_segs, x_segs, 'k--', linewidth=3.0, label='raw stays')\n",
    "plt.plot(time, raw_journey, ':', label='raw journey')\n",
    "plt.plot(time, noisy_journey, '.-', label='noisy journey', alpha=0.5)\n",
    "#plt.plot(time[mask], noisy_journey[mask], '.-', label='noisy journey', alpha=0.5)\n",
    "plt.legend();"
   ]
  },
  {
   "cell_type": "code",
   "execution_count": 122,
   "metadata": {},
   "outputs": [
    {
     "data": {
      "text/plain": [
       "array([], dtype=float64)"
      ]
     },
     "execution_count": 122,
     "metadata": {},
     "output_type": "execute_result"
    }
   ],
   "source": [
    "full_times"
   ]
  },
  {
   "cell_type": "code",
   "execution_count": 127,
   "metadata": {},
   "outputs": [
    {
     "data": {
      "text/plain": [
       "(172,)"
      ]
     },
     "execution_count": 127,
     "metadata": {},
     "output_type": "execute_result"
    }
   ],
   "source": [
    "time.transpose().shape"
   ]
  },
  {
   "cell_type": "code",
   "execution_count": 137,
   "metadata": {},
   "outputs": [],
   "source": [
    "full_times = np.hstack([full_times, time.transpose()])"
   ]
  },
  {
   "cell_type": "code",
   "execution_count": 138,
   "metadata": {},
   "outputs": [
    {
     "data": {
      "text/plain": [
       "(344,)"
      ]
     },
     "execution_count": 138,
     "metadata": {},
     "output_type": "execute_result"
    }
   ],
   "source": [
    "full_times.shape"
   ]
  },
  {
   "cell_type": "code",
   "execution_count": 150,
   "metadata": {},
   "outputs": [],
   "source": [
    "import pandas as pd"
   ]
  },
  {
   "cell_type": "code",
   "execution_count": 175,
   "metadata": {},
   "outputs": [],
   "source": [
    "full_times = np.array([])\n",
    "full_locs = np.array([])\n",
    "\n",
    "for _ in range(5):\n",
    "    \n",
    "    time = np.arange(0,24,dsec)\n",
    "\n",
    "    mask = get_mask(time.size, 0.09, False)\n",
    "\n",
    "    time = time[mask]\n",
    "\n",
    "    t_segs, x_segs = get_stay_segs(stays)\n",
    "\n",
    "    raw_stays = get_stay_paths(time, stays)\n",
    "\n",
    "    raw_journey = get_journey_path(time, get_segments(time, stays, threshold=0.5))\n",
    "\n",
    "    noisy_journey = get_noise(raw_journey)\n",
    "    \n",
    "    mask = get_mask(time.size, 0.01, False)\n",
    "    \n",
    "    full_times = np.hstack([full_times, time[mask].transpose()])\n",
    "    full_locs = np.hstack([full_locs, noisy_journey[mask].transpose()])\n",
    "\n",
    "df = pd.DataFrame({'t':full_times, 'x':full_locs})\n",
    "df.sort_values('t', inplace=True)"
   ]
  },
  {
   "cell_type": "code",
   "execution_count": 176,
   "metadata": {},
   "outputs": [
    {
     "data": {
      "image/png": "[encoded data removed]",
      "text/plain": [
       "<Figure size 1440x720 with 1 Axes>"
      ]
     },
     "metadata": {
      "needs_background": "light"
     },
     "output_type": "display_data"
    }
   ],
   "source": [
    "plt.figure(figsize=(20,10))\n",
    "plt.plot(t_segs, x_segs, 'k--', linewidth=3.0, label='raw stays')\n",
    "plt.plot(time, raw_journey, ':', label='raw journey')\n",
    "plt.plot(df.t, df.x, '.-', label='noisy journey', alpha=0.5)\n",
    "#plt.plot(time[mask], noisy_journey[mask], '.-', label='noisy journey', alpha=0.5)\n",
    "plt.legend();"
   ]
  },
  {
   "cell_type": "code",
   "execution_count": null,
   "metadata": {},
   "outputs": [],
   "source": []
  }
 ],
 "metadata": {
  "kernelspec": {
   "display_name": "Python 3",
   "language": "python",
   "name": "python3"
  },
  "language_info": {
   "codemirror_mode": {
    "name": "ipython",
    "version": 3
   },
   "file_extension": ".py",
   "mimetype": "text/x-python",
   "name": "python",
   "nbconvert_exporter": "python",
   "pygments_lexer": "ipython3",
   "version": "3.6.9"
  },
  "toc": {
   "nav_menu": {},
   "number_sections": true,
   "sideBar": true,
   "skip_h1_title": false,
   "title_cell": "Table of Contents",
   "title_sidebar": "Contents",
   "toc_cell": false,
   "toc_position": {},
   "toc_section_display": true,
   "toc_window_display": false
  }
 },
 "nbformat": 4,
 "nbformat_minor": 2
}
