{
 "cells": [
  {
   "cell_type": "code",
   "execution_count": 30,
   "metadata": {},
   "outputs": [
    {
     "name": "stdout",
     "output_type": "stream",
     "text": [
      "3\n",
      "--a1=[[1,2,3],[]] --a2=4\n",
      "1 4\n",
      "--a1=[[1,2,3],[]] --aa32=4\n",
      "1 4\n",
      "a\n",
      "Error\n"
     ]
    }
   ],
   "source": [
    "# a ignorant solution instead of re\n",
    "letters = ['a','b','c','d','e','f','g','h',\\\n",
    "           'i','j','k','l','m','n','o','p',\\\n",
    "           'q','r','s','t','u','v','w','x',\\\n",
    "           'y','z','A','B','C','D','E','F',\\\n",
    "           'G','H','I','J','K','L','M','N',\\\n",
    "           'O','P','Q','R','S','T','U','V',\\\n",
    "           'W','X','Y','Z']\n",
    "\n",
    "valid_chars = letters + list(map(str,range(10)))\n",
    "\n",
    "# Check input formatting and also average when possible\n",
    "def check_inputs_and_avg(inp):\n",
    "    \n",
    "    # Make sure inputs are correct at least with '='s\n",
    "    if ('=' in inp):\n",
    "        inpsplit = inp.split('=')\n",
    "    else:\n",
    "        return None\n",
    "    \n",
    "    # Split input bt the '='\n",
    "    varids = inpsplit[0]\n",
    "    numbers = inpsplit[1]\n",
    "\n",
    "    # Check the variable names for formatting\n",
    "    if (varids[:2] != '--'):\n",
    "        return None\n",
    "    \n",
    "    if all([let in valid_chars for let in varids[2:]]):\n",
    "        return None\n",
    "    \n",
    "    # Check the numbers and if valid, get the average\n",
    "    try:\n",
    "        numbs = literal_eval(numbers)\n",
    "\n",
    "        if isinstance(numbs,list):\n",
    "            average = round(expand(numbs),2)#sum(numbs)/len(numbs),2)\n",
    "        else:\n",
    "            average = round(numbs,2)\n",
    "        return average\n",
    "        \n",
    "    except:\n",
    "        return None\n",
    "    \n",
    "    # if nothing worked, return None\n",
    "    return None    \n",
    "\n",
    "# ignorant method to remove trailing zeros; better to use formatting\n",
    "def no_trails(flt):\n",
    "    sfloat = str(flt)\n",
    "    if '.' in sfloat:\n",
    "\n",
    "        splits = sfloat.split('.')\n",
    "        pre = splits[0]\n",
    "        trailing = splits[1]\n",
    "        \n",
    "        if (trailing == '0') | (trailing == '00'):\n",
    "            return(int(pre))\n",
    "        else:\n",
    "            return flt\n",
    "    else:\n",
    "        return int(flt)\n",
    "\n",
    "#Method to average over nested lists\n",
    "from ast import literal_eval\n",
    "\n",
    "def expand(listo):\n",
    "    \n",
    "    big = []\n",
    "    \n",
    "    len_listo = len(listo)\n",
    "    \n",
    "    if len_listo == 0:\n",
    "        return 0\n",
    "    \n",
    "    for elem in listo:\n",
    "        if isinstance(elem,list):\n",
    "            nxt = expand(elem)\n",
    "            big += [nxt]\n",
    "        else:\n",
    "            big.append(elem)\n",
    "    \n",
    "    return sum(big)/len_listo\n",
    "\n",
    "\n",
    "# 1. get input\n",
    "#inputs = input().split(' ')\n",
    "lines = int(input())\n",
    "\n",
    "for _ in range(lines):\n",
    "\n",
    "    inputs = input()\n",
    "    \n",
    "    # Make sure inputs are correct at least with spaces and '='s\n",
    "    if (' ' in inputs):\n",
    "        inputs = inputs.split(' ')\n",
    "    else:\n",
    "        # if invalid, print the word \"ERROR\" and nothing else.\n",
    "        print('Error')\n",
    "        continue\n",
    "\n",
    "    # 2. iterate through inputs\n",
    "    printables = []\n",
    "    in_len = len(inputs)\n",
    "    \n",
    "    for m,e in enumerate(inputs):\n",
    "        \n",
    "        avg = check_inputs_and_avg(e)\n",
    "        \n",
    "        if avg != None:\n",
    "            \n",
    "            printables.append(no_trails(avg))\n",
    "        else:\n",
    "            break\n",
    "\n",
    "    if len(printables) == in_len:\n",
    "        print(*printables)\n",
    "    else:\n",
    "        print('Error')"
   ]
  },
  {
   "cell_type": "code",
   "execution_count": null,
   "metadata": {},
   "outputs": [],
   "source": [
    "--a1=[[1,2,3],[]] --a2=4\n",
    "--a1=[[1,2,3],[]] --a2=4\n",
    "--a1=[[1,2,3],[]]- -a2=4"
   ]
  },
  {
   "cell_type": "code",
   "execution_count": null,
   "metadata": {},
   "outputs": [],
   "source": [
    "    # Check the variable names for formatting\n",
    "    if (varids[:2] != '--'):\n",
    "        return None\n",
    "    \n",
    "    if all([let in valid_chars for let in varids[2:]]):\n",
    "        return None"
   ]
  },
  {
   "cell_type": "code",
   "execution_count": 25,
   "metadata": {},
   "outputs": [
    {
     "data": {
      "text/plain": [
       "True"
      ]
     },
     "execution_count": 25,
     "metadata": {},
     "output_type": "execute_result"
    }
   ],
   "source": [
    "varname = 'aAvewfowehlmr'\n",
    "all([let in letters for let in varname])"
   ]
  },
  {
   "cell_type": "code",
   "execution_count": 22,
   "metadata": {},
   "outputs": [
    {
     "data": {
      "text/plain": [
       "[True, True, True]"
      ]
     },
     "execution_count": 22,
     "metadata": {},
     "output_type": "execute_result"
    }
   ],
   "source": [
    "[let in letters for let in varname]"
   ]
  },
  {
   "cell_type": "code",
   "execution_count": 21,
   "metadata": {},
   "outputs": [
    {
     "name": "stdout",
     "output_type": "stream",
     "text": [
      "a\n",
      "True\n",
      "a\n",
      "True\n",
      "a\n",
      "True\n"
     ]
    }
   ],
   "source": [
    "for let in varname:\n",
    "    print(let)\n",
    "    print(let in letters)"
   ]
  },
  {
   "cell_type": "code",
   "execution_count": null,
   "metadata": {},
   "outputs": [],
   "source": []
  },
  {
   "cell_type": "code",
   "execution_count": null,
   "metadata": {},
   "outputs": [],
   "source": []
  },
  {
   "cell_type": "code",
   "execution_count": 14,
   "metadata": {},
   "outputs": [
    {
     "data": {
      "text/plain": [
       "4"
      ]
     },
     "execution_count": 14,
     "metadata": {},
     "output_type": "execute_result"
    }
   ],
   "source": [
    "check_inputs_and_avg('--a2=4')"
   ]
  },
  {
   "cell_type": "code",
   "execution_count": 15,
   "metadata": {},
   "outputs": [
    {
     "name": "stdout",
     "output_type": "stream",
     "text": [
      "2\n",
      "2\n",
      "0\n",
      "2\n",
      "1\n",
      "2\n",
      "1\n",
      "1\n",
      "0\n"
     ]
    }
   ],
   "source": [
    "# get the number of tests\n",
    "tests = int(input())\n",
    "\n",
    "# only a limited number of values allowed\n",
    "gen_allowed = lambda matsize: [0,1] + [2**m for m in range(1,matsize)]\n",
    "\n",
    "for m in range(tests):\n",
    "\n",
    "    # get the size of the matirx (the next M lines)\n",
    "    matrix_size = int(input())\n",
    "    \n",
    "    # save to check if repeats --> checks for non-unique columns\n",
    "    row_code_list = []\n",
    "    \n",
    "    col_sum_violations = 0\n",
    "    row_sum_violations = 0\n",
    "\n",
    "    allowed = gen_allowed(matrix_size)\n",
    "    \n",
    "    for n in range(matrix_size):\n",
    "        \n",
    "        # get the input code, an int\n",
    "        row_code = int(input())\n",
    "        \n",
    "        # check for repeats, and save\n",
    "        if row_code in row_code_list:\n",
    "            col_sum_violations += 1\n",
    "        \n",
    "        row_code_list.append(row_code)\n",
    "        \n",
    "        # check for more than 1 elem per row (could be \n",
    "        if row_code not in allowed:\n",
    "            row_sum_violations += 1\n",
    "            \n",
    "    # check if any violations\n",
    "    if (col_sum_violations != 0) | (row_sum_violations != 0):\n",
    "        print(0)\n",
    "    else:\n",
    "        print(1)\n",
    "        "
   ]
  },
  {
   "cell_type": "code",
   "execution_count": null,
   "metadata": {},
   "outputs": [],
   "source": [
    "### print(bin(0))\n",
    "print(bin(2))\n",
    "print(bin(4))\n",
    "print(bin(8))\n",
    "y"
   ]
  },
  {
   "cell_type": "code",
   "execution_count": 6,
   "metadata": {},
   "outputs": [
    {
     "data": {
      "text/plain": [
       "16"
      ]
     },
     "execution_count": 6,
     "metadata": {},
     "output_type": "execute_result"
    }
   ],
   "source": [
    "2**4"
   ]
  },
  {
   "cell_type": "markdown",
   "metadata": {},
   "source": [
    "he next M numbers are all < 2**M and describe one row of the matrix."
   ]
  },
  {
   "cell_type": "code",
   "execution_count": 7,
   "metadata": {},
   "outputs": [
    {
     "data": {
      "text/plain": [
       "'0b1111'"
      ]
     },
     "execution_count": 7,
     "metadata": {},
     "output_type": "execute_result"
    }
   ],
   "source": [
    "bin(15)"
   ]
  },
  {
   "cell_type": "code",
   "execution_count": 2,
   "metadata": {},
   "outputs": [
    {
     "name": "stdout",
     "output_type": "stream",
     "text": [
      "2\n",
      "2\n",
      "2\n",
      "0\n",
      "1\n",
      "2\n",
      "0\n",
      "1\n",
      "0\n"
     ]
    }
   ],
   "source": [
    "# get the number of tests\n",
    "tests = int(input())\n",
    "\n",
    "# only a limited number of values allowed\n",
    "gen_allowed = lambda matsize: [0] + [2**m for m in range(1,matsize)]\n",
    "\n",
    "for m in range(tests):\n",
    "\n",
    "    # get the size of the matirx (the next M lines)\n",
    "    matrix_size = int(input())\n",
    "    \n",
    "    # save to check if repeats --> checks for non-unique columns\n",
    "    row_code_list = []\n",
    "    \n",
    "    col_sum_violations = 0\n",
    "    row_sum_violations = 0\n",
    "\n",
    "    # Generate the list of allowed values for size of matrix\n",
    "    allowed = gen_allowed(matrix_size)\n",
    "    \n",
    "    for n in range(matrix_size):\n",
    "        \n",
    "        # get the input code, an int\n",
    "        row_code = int(input())\n",
    "        \n",
    "        # check for repeats, and save\n",
    "        if row_code in row_code_list:\n",
    "            col_sum_violations += 1\n",
    "        \n",
    "        row_code_list.append(row_code)\n",
    "        \n",
    "        # check for more than 1 elem per row\n",
    "        if row_code not in allowed:\n",
    "            row_sum_violations += 1\n",
    "            \n",
    "    # check if any violations, print 0 if so, otherwise print 1\n",
    "    if (col_sum_violations != 0) | (row_sum_violations != 0):\n",
    "        print(0)\n",
    "    else:\n",
    "        print(1)"
   ]
  },
  {
   "cell_type": "code",
   "execution_count": 27,
   "metadata": {},
   "outputs": [
    {
     "name": "stdout",
     "output_type": "stream",
     "text": [
      "1\n",
      "3\n",
      "1\n",
      "3\n",
      "3\n",
      "0\n"
     ]
    }
   ],
   "source": [
    "# only a limited number of values allowed\n",
    "gen_allowed = lambda matsize: [1] + [2**m for m in range(1,matsize)]\n",
    "\n",
    "for _ in range(int(input())):\n",
    "\n",
    "    # get the size of the matirx (the next M lines)\n",
    "    matrix_size = int(input())\n",
    "    \n",
    "    # save to check if repeats --> checks for non-unique columns\n",
    "    row_code_list = [int(input()) for _ in range(matrix_size)] \n",
    "\n",
    "    # check if any violations\n",
    "    if (sum(row_code_list) == sum(gen_allowed(matrix_size))) & all([True if e in allowed else False for e in row_code_list]):\n",
    "        print(1)\n",
    "    else:\n",
    "        print(0)"
   ]
  },
  {
   "cell_type": "markdown",
   "metadata": {},
   "source": [
    "### row_code_list"
   ]
  },
  {
   "cell_type": "code",
   "execution_count": 19,
   "metadata": {},
   "outputs": [
    {
     "data": {
      "text/plain": [
       "False"
      ]
     },
     "execution_count": 19,
     "metadata": {},
     "output_type": "execute_result"
    }
   ],
   "source": [
    "all([True if e in allowed else False for e in row_code_list])"
   ]
  },
  {
   "cell_type": "code",
   "execution_count": 20,
   "metadata": {},
   "outputs": [
    {
     "data": {
      "text/plain": [
       "False"
      ]
     },
     "execution_count": 20,
     "metadata": {},
     "output_type": "execute_result"
    }
   ],
   "source": [
    "all([True if e in allowed else False for e in row_code_list])"
   ]
  },
  {
   "cell_type": "code",
   "execution_count": 8,
   "metadata": {},
   "outputs": [
    {
     "name": "stdout",
     "output_type": "stream",
     "text": [
      "1\n",
      "3\n",
      "1\n",
      "2\n",
      "3\n",
      "0\n"
     ]
    }
   ],
   "source": [
    "# only a limited number of values allowed\n",
    "gen_allowed = lambda matsize: [1] + [2**m for m in range(1,matsize)]\n",
    "\n",
    "get_val = lambda allowed, val: val if val in gen_allowed(matrix_size) else 0\n",
    "\n",
    "for _ in range(int(input())):\n",
    "\n",
    "    # get the size of the matirx (the next M lines)\n",
    "    matrix_size = int(input())\n",
    "    \n",
    "    # save to check if repeats --> checks for non-unique columns\n",
    "    row_code_list = [get_val(gen_allowed(matrix_size),int(input())) for _ in range(matrix_size)] \n",
    "\n",
    "    # check if any violations\n",
    "    if (sum(row_code_list) == sum(gen_allowed(matrix_size))):\n",
    "        print(1)\n",
    "    else:\n",
    "        print(0)"
   ]
  },
  {
   "cell_type": "code",
   "execution_count": 4,
   "metadata": {},
   "outputs": [],
   "source": [
    "get_val = lambda allowed, val: val if val in gen_allowed(matrix_size) else 0"
   ]
  },
  {
   "cell_type": "code",
   "execution_count": null,
   "metadata": {},
   "outputs": [],
   "source": []
  }
 ],
 "metadata": {
  "kernelspec": {
   "display_name": "Python 3",
   "language": "python",
   "name": "python3"
  },
  "language_info": {
   "codemirror_mode": {
    "name": "ipython",
    "version": 3
   },
   "file_extension": ".py",
   "mimetype": "text/x-python",
   "name": "python",
   "nbconvert_exporter": "python",
   "pygments_lexer": "ipython3",
   "version": "3.6.9"
  },
  "toc": {
   "nav_menu": {},
   "number_sections": true,
   "sideBar": true,
   "skip_h1_title": false,
   "title_cell": "Table of Contents",
   "title_sidebar": "Contents",
   "toc_cell": false,
   "toc_position": {},
   "toc_section_display": true,
   "toc_window_display": false
  }
 },
 "nbformat": 4,
 "nbformat_minor": 2
}
