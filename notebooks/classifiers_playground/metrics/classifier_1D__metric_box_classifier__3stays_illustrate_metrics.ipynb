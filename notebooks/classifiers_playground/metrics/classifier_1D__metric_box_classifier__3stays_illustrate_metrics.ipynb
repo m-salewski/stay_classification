{
 "cells": [
  {
   "cell_type": "code",
   "execution_count": 1,
   "metadata": {},
   "outputs": [
    {
     "data": {
      "text/html": [
       "<style>.container { width:100% !important; }</style>"
      ],
      "text/plain": [
       "<IPython.core.display.HTML object>"
      ]
     },
     "metadata": {},
     "output_type": "display_data"
    }
   ],
   "source": [
    "from IPython.core.display import display, HTML\n",
    "display(HTML(\"<style>.container { width:100% !important; }</style>\"))"
   ]
  },
  {
   "cell_type": "code",
   "execution_count": 2,
   "metadata": {},
   "outputs": [],
   "source": [
    "# This will reload imports before executing code, allowing you to easily change contents of custom scripts\n",
    "%load_ext autoreload\n",
    "%autoreload 2"
   ]
  },
  {
   "cell_type": "markdown",
   "metadata": {},
   "source": [
    "# Metric box classifier: evaluation metrics\n",
    "\n",
    "**25.08.2020**\n",
    "\n",
    "It's important to have a measure of how well a classifier performs, and given the data, there are a few metrics which can be used to measure this."
   ]
  },
  {
   "cell_type": "code",
   "execution_count": 3,
   "metadata": {},
   "outputs": [],
   "source": [
    "import numpy as np\n",
    "\n",
    "%matplotlib inline\n",
    "import matplotlib.pyplot as plt\n",
    "from matplotlib.ticker import MultipleLocator, FormatStrFormatter, AutoMinorLocator\n",
    "\n",
    "import os, sys\n",
    "sys.path.append('/home/sandm/Notebooks/stay_classification/src/')"
   ]
  },
  {
   "cell_type": "code",
   "execution_count": 4,
   "metadata": {},
   "outputs": [],
   "source": [
    "from synthetic_data.plotting import plot_trajectory, add_plot_trajectory, add_plot_seg_boxes, add_plot_cluster_boxplots"
   ]
  },
  {
   "cell_type": "code",
   "execution_count": 5,
   "metadata": {},
   "outputs": [],
   "source": [
    "from synthetic_data.trajectory import get_stay_segs, get_adjusted_stays"
   ]
  },
  {
   "cell_type": "markdown",
   "metadata": {},
   "source": [
    "# Theory\n",
    "\n",
    "## Standard metrics\n",
    "\n",
    "There are a few standard metrics which can be used for classification problems. Here, we use the precision and recall as well as the error (aka the accuracy).\n",
    "\n",
    "For all metrics, there are a few things to consider.\n",
    "1. The sequence of events is not simply classified as independent events; the clusters of events also matter\n",
    "2. Since the clusters matter, the correct number of segments also matters\n",
    "3. However, there is (or may be) a propensity towards false positive stays but which (may) have a small impact.\n",
    "\n",
    "Therefore, we apply the metrics to the entire sequence and also on the segments of the sequence."
   ]
  },
  {
   "cell_type": "markdown",
   "metadata": {},
   "source": [
    "### Precision and Recall\n",
    " \n",
    "A brief review of the definitions:\n",
    "\n",
    "Let the total number of stay (travel) events be $N_s$ ($N_t$) and the corresponding incorrect counts denoted as $\\tilde{N}_{\\{\\}}$. \n",
    "* $\\mathrm{prec.} = {N_s}/(N_s + \\tilde{N}_s)$, the number of correctly classified stay-events over the total number classified stay events.\n",
    "    * this is sensitive the the number of false positives\n",
    "* $\\mathrm{rec.} = {N_s}/(N_s + \\tilde{N}_t)$, the number of correctly classified stay-events over the total number stay events."
   ]
  },
  {
   "cell_type": "markdown",
   "metadata": {},
   "source": [
    "### Error fraction (and/or Accuracy)\n",
    "\n",
    "The error is given effectively by treating the arrays of labels as vectors of 1's (stays) and 0's (travels) and then computing \n",
    "\n",
    "$\\varepsilon = |\\mathbf{v}_{\\mathrm{true}} - \\mathbf{v}_{\\mathrm{pred}}|/\\mathrm{size}(\\mathbf{v}_{\\mathrm{true}})$. \n",
    "\n",
    "This is related to the accuracy by \n",
    "\n",
    "$\\mathrm{acc.} = 1 - \\varepsilon$, \n",
    "\n",
    "which is the same as \n",
    "\n",
    "$\\mathrm{acc.} = \\big((N_t + \\tilde{N}_s + \\tilde{N}_t + N_s) - (\\tilde{N}_s + \\tilde{N}_t)\\big)/(N_t + \\tilde{N}_s + \\tilde{N}_t + N_s)$"
   ]
  },
  {
   "cell_type": "markdown",
   "metadata": {},
   "source": [
    "---"
   ]
  },
  {
   "cell_type": "markdown",
   "metadata": {},
   "source": [
    "# Illustrations\n",
    "\n",
    "Here is a bit more theory but fleshed out with some examples"
   ]
  },
  {
   "cell_type": "markdown",
   "metadata": {},
   "source": [
    "## Example 1"
   ]
  },
  {
   "cell_type": "code",
   "execution_count": 6,
   "metadata": {},
   "outputs": [],
   "source": [
    "from synthetic_data.trajectory_class import get_pickle_trajectory\n",
    "from stay_classification.metric_box_classifier.metric_box_classifier import stay_classifier_testing\n",
    "\n",
    "time_thresh = 1/6\n",
    "dist_thresh=0.25"
   ]
  },
  {
   "cell_type": "code",
   "execution_count": 17,
   "metadata": {},
   "outputs": [],
   "source": [
    "data_dir = f\"../../testdata/testdata_training_set__canonical_3stays/\"\n",
    "stays_tag = 3"
   ]
  },
  {
   "cell_type": "markdown",
   "metadata": {
    "hide_input": true
   },
   "source": [
    "### Classification"
   ]
  },
  {
   "cell_type": "markdown",
   "metadata": {},
   "source": [
    "Load data"
   ]
  },
  {
   "cell_type": "code",
   "execution_count": 19,
   "metadata": {},
   "outputs": [],
   "source": [
    "trajectory_nr = 445 #488 #958 #445\n",
    "\n",
    "trajectory_tag = f\"trajectory{trajectory_nr}_{stays_tag}stays\"    \n",
    "path_to_file =  data_dir + trajectory_tag"
   ]
  },
  {
   "cell_type": "code",
   "execution_count": 20,
   "metadata": {},
   "outputs": [],
   "source": [
    "t_arr, r_arr, x_arr, segments = get_pickle_trajectory(path_to_file)\n",
    "t_segs, x_segs = get_stay_segs(get_adjusted_stays(segments, t_arr))"
   ]
  },
  {
   "cell_type": "markdown",
   "metadata": {},
   "source": [
    "Classification"
   ]
  },
  {
   "cell_type": "code",
   "execution_count": 21,
   "metadata": {},
   "outputs": [],
   "source": [
    "# Get the stay clusters\n",
    "all_clusters = stay_classifier_testing(t_arr, x_arr, dist_thresh, time_thresh, False)    "
   ]
  },
  {
   "cell_type": "markdown",
   "metadata": {},
   "source": [
    "Plotting"
   ]
  },
  {
   "cell_type": "code",
   "execution_count": 22,
   "metadata": {
    "hide_input": false,
    "scrolled": false
   },
   "outputs": [
    {
     "data": {
      "image/png": "[encoded data removed]",
      "text/plain": [
       "<Figure size 1440x360 with 2 Axes>"
      ]
     },
     "metadata": {
      "needs_background": "light"
     },
     "output_type": "display_data"
    }
   ],
   "source": [
    "fig, ax = plt.subplots(1,1,figsize=[20,5])\n",
    "\n",
    "ylim = [x_arr.min()-2*dist_thresh, x_arr.max()+2*dist_thresh]\n",
    "\n",
    "add_plot_trajectory(t_arr, r_arr, x_arr, t_segs, x_segs, dist_thresh, ax)\n",
    "ax.set_xlim(0.7,23.3)\n",
    "add_plot_seg_boxes(t_segs, x_segs, dist_thresh, ax)\n",
    "add_plot_cluster_boxplots(t_arr, x_arr, all_clusters[-1], dist_thresh, ax)\n",
    "ax.set_ylim(ylim);\n",
    "#ax.set_title(f\"{stage_titels[-1]}\", fontsize=16);"
   ]
  },
  {
   "cell_type": "markdown",
   "metadata": {},
   "source": [
    "**Notes**\n",
    "* There are three stays, all of which are mostly correctly identified by the classifier\n",
    "* There are a few false stays (_ie_ false positives) during the main travels but these are all mostly short in duration"
   ]
  },
  {
   "cell_type": "markdown",
   "metadata": {},
   "source": [
    "#### Prec & Rec\n",
    "\n",
    "#### Total Precision and Recall\n",
    "\n",
    "The first is to consider the entire sequence of points which are classified as either \"stay\" (1) or \"travel\" (0).\n",
    "    \n",
    "Again, the definitions of the (p)rec. scores:\n",
    "* $\\mathrm{prec.} = {N_s}/(N_s + \\tilde{N}_s)$\n",
    "* $\\mathrm{rec.} = {N_s}/(N_s + \\tilde{N}_t)$\n",
    "    * **Note** if all events are classified as a stay, then $\\tilde{N}_t = 0$, and recall is unity."
   ]
  },
  {
   "cell_type": "code",
   "execution_count": null,
   "metadata": {},
   "outputs": [],
   "source": [
    "from stay_classification.metrics import eval_synth_data, eval_synth_data_clusters_long, get_segments_scores, print_p_and_r"
   ]
  },
  {
   "cell_type": "code",
   "execution_count": null,
   "metadata": {},
   "outputs": [],
   "source": [
    "prec, rec, cmat = eval_synth_data(t_arr, segments, all_clusters[-1])\n",
    "print_p_and_r(all_clusters[-1], prec, rec, cmat)"
   ]
  },
  {
   "cell_type": "markdown",
   "metadata": {},
   "source": [
    "The confusion matrix is also given, but as usual, it is confusing\n",
    "\n",
    "$\\left[\\begin{array}[cc]\\\\ N_t & \\tilde{N}_s\\\\ \\tilde{N}_t & N_s \\end{array}\\right] = \\left[\\begin{array}[cc]\\\\ 87 & 102\\\\ 0 & 633 \\end{array}\\right]$\n",
    "\n",
    "Let's break it down:\n",
    "* $N_t $ is the number of correctly identified travel events\n",
    "    * there are overall 189 true travel events but the classifier only gets 87 of those correct\n",
    "* $\\tilde{N}_s$ is the number of false stay events (mis-labeled travel events)\n",
    "    * there are 102 of these\n",
    "* $\\tilde{N}_t$ is the number of false travel events (mis-labeled stay events)\n",
    "    * here, the classifier gets 0, which is common given the spatial constraints of the synthetic data and the spatial resolution of the classifier\n",
    "* $N_s$ is the number of correctly identified stay events\n",
    "    * for this example, all the true stay events are identified by the classifier."
   ]
  },
  {
   "cell_type": "markdown",
   "metadata": {},
   "source": [
    "#### Segment-based Precision and Recall\n",
    "\n",
    "The total (p)rec. scores above are not specific enough since there no indication if the total number of stays is correct or not.\n",
    "* As an example, consider two adjacent predicted stays which match with a true stay; \n",
    "    using only the labels misses the fact that there are two predicted stays when there should only be one.\n",
    "\n",
    "A way to measure this is to generalize these score to the predicted segments, _ie_ to the stays and travels. \n",
    "\n",
    "Let the number of stay (travel) events in segment $i$ be $n_{s,i}$($n_{t,i}$) and $\\tilde{n}_{\\{\\}}$ (as above). \n",
    "The the scores are given as \n",
    "* $\\mathrm{prec.}_i = n_{s,i}/(n_{s,i} + \\tilde{n}_{s,i})$\n",
    "* $\\mathrm{rec.}_i = n_{s,i}/(n_{s,i} + \\tilde{n}_{t,i})$\n",
    "\n",
    "To get an overall measure, the segment scores are weighted by the duration and then summed over. \n",
    "For each segment $s_i$,\n",
    "1. check it against the true stays to see if there are any overlaps, and compute the scores\n",
    "    1. if so, compute (p)rec.s for all overlapping sections\n",
    "        * when a pred. segment overlaps multiple true segments, the average of the scores is used\n",
    "        * Since the pred./true stay segments can be any size, they are first embedded into the entire sequence (see the methods below).\n",
    "    2. if not, then assign (p)rec.s as $0$ for the segment\n",
    "2. compute the total duration of the segment and multiply the segment score by a weight\n",
    "    * Normalize by the total sum of pred. durations. \n",
    "    * this helps minimize the false positives which are short\n",
    "3. compute the average, and/or the weighted average, over all pred. stays    "
   ]
  },
  {
   "cell_type": "code",
   "execution_count": null,
   "metadata": {},
   "outputs": [],
   "source": [
    "get_segments_scores(t_arr, segments, all_clusters[-1], True);"
   ]
  },
  {
   "cell_type": "markdown",
   "metadata": {},
   "source": [
    "**Notes** \n",
    "* The three main stays are found by the classifier, each with $\\mathrm{(p)rec} > 0.95$\n",
    "* The avg. scores are relatively low because there are three false stays and one misalinged stay\n",
    "    * however, these are relatively short in duration\n",
    "* The weighted avg. (as \"`w-avg.`\"), shows a more useful measure of how good the classification is. \n",
    "    * _ie_ it's not as bad as $\\mathrm{(p)rec} \\approx 0.44$"
   ]
  },
  {
   "cell_type": "markdown",
   "metadata": {},
   "source": [
    "### Error"
   ]
  },
  {
   "cell_type": "markdown",
   "metadata": {},
   "source": [
    "#### Total error"
   ]
  },
  {
   "cell_type": "code",
   "execution_count": null,
   "metadata": {},
   "outputs": [],
   "source": [
    "from evaluation import get_pred_labels, get_labels_from_clusters"
   ]
  },
  {
   "cell_type": "code",
   "execution_count": null,
   "metadata": {},
   "outputs": [],
   "source": [
    "from synthetic_data.trajectory import get_stay_indices, get_adjusted_stays"
   ]
  },
  {
   "cell_type": "code",
   "execution_count": null,
   "metadata": {},
   "outputs": [],
   "source": [
    "true_indices = get_stay_indices(get_adjusted_stays(segments, t_arr), t_arr)\n",
    "true_labels = np.zeros(t_arr.shape)\n",
    "\n",
    "for pair in true_indices:\n",
    "    true_labels[pair[0]:pair[1]+1] = 1\n",
    "\n",
    "pred_labels = get_pred_labels(all_clusters[-1], t_arr.shape)"
   ]
  },
  {
   "cell_type": "code",
   "execution_count": null,
   "metadata": {},
   "outputs": [],
   "source": [
    "err__labels = abs(true_labels-pred_labels)\n",
    "err__labels[err__labels == 0] = np.nan"
   ]
  },
  {
   "cell_type": "code",
   "execution_count": null,
   "metadata": {
    "scrolled": false
   },
   "outputs": [],
   "source": [
    "fig, ax = plt.subplots(1,1,figsize=(22,4))\n",
    "\n",
    "plt.plot(t_arr, true_labels, '.:', markersize=10, label='True')\n",
    "plt.plot(t_arr, pred_labels, 'o--', markerfacecolor=\"None\", markersize=10, label='Pred.', alpha=0.5)\n",
    "plt.plot(t_arr, err__labels, 'rx', markersize=15, label='Err')\n",
    "plt.ylim(-0.2,1.2)\n",
    "plt.xlim(5.5,18.5)\n",
    "\n",
    "ax = plt.gca()\n",
    "\n",
    "ax.xaxis.set_major_locator(MultipleLocator(1))\n",
    "#ax.xaxis.set_major_formatter(FormatStrFormatter('%d'))\n",
    "\n",
    "# For the minor ticks, use no labels; default NullFormatter.\n",
    "ax.xaxis.set_minor_locator(MultipleLocator(0.25))\n",
    "\n",
    "plt.xlabel(r'time, $t$ [arb.]')\n",
    "\n",
    "ax.set_yticks([0,1])\n",
    "ax.set_yticklabels(['travel', 'stay'])\n",
    "ax.set_title('Error', fontsize=16)\n",
    "\n",
    "plt.legend()\n",
    "plt.grid();"
   ]
  },
  {
   "cell_type": "code",
   "execution_count": null,
   "metadata": {},
   "outputs": [],
   "source": [
    "get_err = lambda trues, preds: np.sum(abs(trues-preds))/trues.size"
   ]
  },
  {
   "cell_type": "code",
   "execution_count": null,
   "metadata": {},
   "outputs": [],
   "source": [
    "for clusters in all_clusters:\n",
    "    \n",
    "    pred_labels = get_pred_labels(clusters, t_arr.shape)\n",
    "    \n",
    "    print(f\"Error: {get_err(true_labels,pred_labels):5.3} (Acc.: {(1-get_err(true_labels,pred_labels)):5.3})\")"
   ]
  },
  {
   "cell_type": "markdown",
   "metadata": {},
   "source": [
    "#### Segment-based error\n",
    "\n",
    "The total error (also accuracy) can be divided among the segments in the same way as the (p)rec. scores above. \n",
    "\n",
    "Again, tet the number of stay (travel) events in segment $i$ be $n_{s,i}$($n_{t,i}$) and $\\tilde{n}_{\\{\\}}$ (as above). \n",
    "Then, the segment error is  \n",
    "* $\\varepsilon_i \\propto \\tilde{n}_{t,i} + \\tilde{n}_{s,i}$\n",
    "\n",
    "As above, the segment errors are simply averaged and/or weighted by the duration and then summed over. \n",
    "When the latter is used, then for each segment $s_i$,\n",
    "1. check it against the true stays to see if there are any overlaps, and compute the segment error\n",
    "    1. if so, compute (p)rec.s for all overlapping sections\n",
    "        * Since the pred./true stay segments can be any size, they are first embedded into the entire sequence.\n",
    "        * when a pred. segment overlaps multiple true segments, \n",
    "            * the average of the error is used since the true segment is counted multiple times        \n",
    "    2. if not, then compute the error of the pred. stay against nothing\n",
    "2. Use the duration-weighting as above\n",
    "3. compute the average, and/or the weighted average, over all pred. stays\n",
    "    \n",
    "**Note** when a true stay is not shared among pred. stays, then $N_{\\mathrm{pred.\\,stays}} \\cdot \\mathrm{avg.} = \\mathrm{tot. avg.}$"
   ]
  },
  {
   "cell_type": "code",
   "execution_count": null,
   "metadata": {},
   "outputs": [],
   "source": [
    "from evaluation import get_segments_errs"
   ]
  },
  {
   "cell_type": "code",
   "execution_count": null,
   "metadata": {},
   "outputs": [],
   "source": [
    "get_segments_errs(t_arr, segments, all_clusters[-1], True);"
   ]
  },
  {
   "cell_type": "markdown",
   "metadata": {},
   "source": [
    "**Notes** \n",
    "* The three main stays are found by the classifier, each with $\\varepsilon_i \\approx 0.01$\n",
    "* The three false stays have $\\varepsilon_i \\approx 0.02-0.03$ and one misalinged stay has $\\varepsilon_i \\approx 0.18$\n",
    "    * the outlier is large since the pred. stay is a small part of a larger true stay.\n",
    "* The avg. scores are relatively high due to the misaligned outlier\n",
    "    * however, these are less than the total error due to the averaging, and\n",
    "    * despite the outlier avg being larger than the total\n",
    "        * the outlier double-counts the last true stay's events in the averages \n",
    "* The weighted avg. is a bit less than the avg., as expected\n",
    "    * the weighting brings down the outlier's error"
   ]
  },
  {
   "cell_type": "markdown",
   "metadata": {},
   "source": [
    "### Check the last set of clusters"
   ]
  },
  {
   "cell_type": "code",
   "execution_count": null,
   "metadata": {},
   "outputs": [],
   "source": [
    "from stay_classification.metric_box_classifier.metric_box_classifier_gaps import get_clust_metrics, get_gap_metrics"
   ]
  },
  {
   "cell_type": "code",
   "execution_count": null,
   "metadata": {},
   "outputs": [],
   "source": [
    "def print_cluster_metrics(clusters):\n",
    "    \n",
    "    print(f\"  IQR-len,    dur,  dmedi,   dmea,   mean, median\")\n",
    "    for n in range(len(clusters)):\n",
    "        if n == 0:\n",
    "            printstr = get_clust_metrics(clusters[n], t_arr, x_arr, time_thresh)\n",
    "            print(f\"{n:4d} {printstr}\")\n",
    "        else:\n",
    "            printstr = get_gap_metrics(clusters[n-1],clusters[n], t_arr, x_arr, time_thresh)\n",
    "            print(f\"     {printstr}\")\n",
    "            printstr = get_clust_metrics(clusters[n], t_arr, x_arr, time_thresh)\n",
    "            print(f\"{n:4d} {printstr}\")\n",
    "    \n",
    "    return None"
   ]
  },
  {
   "cell_type": "code",
   "execution_count": null,
   "metadata": {},
   "outputs": [],
   "source": [
    "print_cluster_metrics(all_clusters[-1])"
   ]
  },
  {
   "cell_type": "markdown",
   "metadata": {},
   "source": [
    "---"
   ]
  },
  {
   "cell_type": "markdown",
   "metadata": {},
   "source": [
    "## Example 2\n",
    "\n",
    "Here is a different example to highlight some issues."
   ]
  },
  {
   "cell_type": "code",
   "execution_count": null,
   "metadata": {},
   "outputs": [],
   "source": [
    "trajectory_nr = 488 #958 #445\n",
    "\n",
    "\n",
    "trajectory_tag = f\"trajectory{trajectory_nr}_{stays_tag}stays\"    \n",
    "path_to_file =  data_dir + trajectory_tag\n",
    "\n",
    "t_arr, r_arr, x_arr, segments = get_pickle_trajectory(path_to_file)\n",
    "t_segs, x_segs = get_stay_segs(get_adjusted_stays(segments, t_arr))\n",
    "\n",
    "# Get the stay clusters\n",
    "all_clusters = stay_classifier_testing(t_arr, x_arr, dist_thresh, time_thresh, False)    "
   ]
  },
  {
   "cell_type": "code",
   "execution_count": null,
   "metadata": {},
   "outputs": [],
   "source": [
    "fig, ax = plt.subplots(1,1,figsize=[20,5])\n",
    "\n",
    "ylim = [x_arr.min()-2*dist_thresh, x_arr.max()+2*dist_thresh]\n",
    "\n",
    "add_plot_trajectory(t_arr, r_arr, x_arr, t_segs, x_segs, dist_thresh, ax)\n",
    "ax.set_xlim(0.7,23.3)\n",
    "add_plot_seg_boxes(t_segs, x_segs, dist_thresh, ax)\n",
    "add_plot_cluster_boxplots(t_arr, x_arr, all_clusters[-1], dist_thresh, ax)\n",
    "ax.set_ylim(ylim);\n",
    "#ax.set_title(f\"{stage_titels[-1]}\", fontsize=16);"
   ]
  },
  {
   "cell_type": "markdown",
   "metadata": {},
   "source": [
    "### Resolutions\n",
    "The aboveclassifier sees only one cluster, and correctly since the true stays are within the given resolution. \n",
    "\n",
    "If the distance threshold is reduced, then different classifications are found."
   ]
  },
  {
   "cell_type": "code",
   "execution_count": null,
   "metadata": {},
   "outputs": [],
   "source": [
    "res_factor = 2\n",
    "# Get the stay clusters\n",
    "all_clusters_res2 = stay_classifier_testing(t_arr, x_arr, dist_thresh/res_factor, time_thresh, False)   \n",
    "fig, ax = plt.subplots(1,1,figsize=[20,5])\n",
    "\n",
    "ylim = [x_arr.min()-2*dist_thresh, x_arr.max()+2*dist_thresh]\n",
    "\n",
    "add_plot_trajectory(t_arr, r_arr, x_arr, t_segs, x_segs, dist_thresh/res_factor, ax)\n",
    "ax.set_xlim(0.7,23.3)\n",
    "add_plot_seg_boxes(t_segs, x_segs, dist_thresh/res_factor, ax)\n",
    "add_plot_cluster_boxplots(t_arr, x_arr, all_clusters_res2[-1], dist_thresh/res_factor, ax)\n",
    "ax.set_ylim(ylim);\n",
    "#ax.set_title(f\"{stage_titels[-1]}\", fontsize=16);"
   ]
  },
  {
   "cell_type": "code",
   "execution_count": null,
   "metadata": {
    "scrolled": false
   },
   "outputs": [],
   "source": [
    "res_factor = 3\n",
    "# Get the stay clusters\n",
    "all_clusters_res3 = stay_classifier_testing(t_arr, x_arr, dist_thresh/res_factor, time_thresh, False)   \n",
    "fig, ax = plt.subplots(1,1,figsize=[20,5])\n",
    "\n",
    "ylim = [x_arr.min()-2*dist_thresh, x_arr.max()+2*dist_thresh]\n",
    "\n",
    "add_plot_trajectory(t_arr, r_arr, x_arr, t_segs, x_segs, dist_thresh/res_factor, ax)\n",
    "ax.set_xlim(0.7,23.3)\n",
    "add_plot_seg_boxes(t_segs, x_segs, dist_thresh/res_factor, ax)\n",
    "add_plot_cluster_boxplots(t_arr, x_arr, all_clusters_res3[-1], dist_thresh/res_factor, ax)\n",
    "ax.set_ylim(ylim);\n",
    "#ax.set_title(f\"{stage_titels[-1]}\", fontsize=16);"
   ]
  },
  {
   "cell_type": "markdown",
   "metadata": {},
   "source": [
    "### Total prec & rec"
   ]
  },
  {
   "cell_type": "code",
   "execution_count": null,
   "metadata": {},
   "outputs": [],
   "source": [
    "prec, rec, cmat = eval_synth_data(t_arr, segments, all_clusters[-1])"
   ]
  },
  {
   "cell_type": "code",
   "execution_count": null,
   "metadata": {},
   "outputs": [],
   "source": [
    "print_p_and_r(all_clusters[-1], prec, rec, cmat)"
   ]
  },
  {
   "cell_type": "code",
   "execution_count": null,
   "metadata": {},
   "outputs": [],
   "source": [
    "print_p_and_r(all_clusters_res2[-1], *eval_synth_data(t_arr, segments, all_clusters_res2[-1]))"
   ]
  },
  {
   "cell_type": "code",
   "execution_count": null,
   "metadata": {},
   "outputs": [],
   "source": [
    "print_p_and_r(all_clusters_res3[-1], *eval_synth_data(t_arr, segments, all_clusters_res3[-1]))"
   ]
  },
  {
   "cell_type": "markdown",
   "metadata": {},
   "source": [
    "**Notes**\n",
    "* the different spatial resolutions show a slight decrease in both the (p)rec. scores, but these are mostly high."
   ]
  },
  {
   "cell_type": "markdown",
   "metadata": {},
   "source": [
    "### Segment-based scores\n",
    "\n",
    "Changing the resolution in this example shows the prec.-rec. trade-off, which is evident in the segment-based scoring."
   ]
  },
  {
   "cell_type": "code",
   "execution_count": null,
   "metadata": {},
   "outputs": [],
   "source": [
    "get_segments_scores(t_arr, segments, all_clusters[-1], True);"
   ]
  },
  {
   "cell_type": "code",
   "execution_count": null,
   "metadata": {},
   "outputs": [],
   "source": [
    "get_segments_scores(t_arr, segments, all_clusters_res2[-1], True);"
   ]
  },
  {
   "cell_type": "code",
   "execution_count": null,
   "metadata": {},
   "outputs": [],
   "source": [
    "get_segments_scores(t_arr, segments, all_clusters_res3[-1], True);"
   ]
  },
  {
   "cell_type": "markdown",
   "metadata": {},
   "source": [
    "**Notes**\n",
    "\n",
    "The original had quite a low prec., but a perfect rec (_ie_ it labeled all events as stay-events),\n",
    "```\n",
    "  avg. prec.:  0.331;    avg. rec.:  1.000\n",
    "w-avg. prec.:  0.331;  w-avg. rec.:  1.000\n",
    "  tot. prec.:  0.992;    tot. rec.:  1.000\n",
    "```\n",
    "\n",
    "These score were mostly affected by the resolution increases. \n",
    "The $2\\times$ increase (halving the spatial threshold) increased the prec., \n",
    "but also decreased the rec., since the first pred. cluster overlaps with\n",
    "all other clusters, two very minimally with low scores. \n",
    "```\n",
    "  avg. prec.:  0.664;    avg. rec.:  0.814\n",
    "w-avg. prec.:  0.617;  w-avg. rec.:  0.795\n",
    "  tot. prec.:  0.992;    tot. rec.:  0.996    \n",
    "\n",
    "``` \n",
    "The scenario goes further as the resolution is increased. \n",
    "More, smaller clusters are found (one is misplaced in $x$). \n",
    "Now, there are fewer pred. stays, but all event labeled as stay events, \n",
    "are indeed true stays _events_, which means less false positives, but\n",
    "also less true positives. \n",
    "```\n",
    "  avg. prec.:  0.961;    avg. rec.:  0.386\n",
    "w-avg. prec.:  0.992;  w-avg. rec.:  0.626\n",
    "  tot. prec.:  0.991;    tot. rec.:  0.948\n",
    "```  "
   ]
  },
  {
   "cell_type": "markdown",
   "metadata": {},
   "source": [
    "### Error\n",
    "\n",
    "#### Total error"
   ]
  },
  {
   "cell_type": "code",
   "execution_count": null,
   "metadata": {},
   "outputs": [],
   "source": [
    "true_indices = get_stay_indices(get_adjusted_stays(segments, t_arr), t_arr)\n",
    "true_labels = np.zeros(t_arr.shape)\n",
    "\n",
    "for pair in true_indices:\n",
    "    true_labels[pair[0]:pair[1]+1] = 1\n",
    "\n",
    "pred_labels = get_pred_labels(all_clusters[-1], t_arr.shape)"
   ]
  },
  {
   "cell_type": "code",
   "execution_count": null,
   "metadata": {},
   "outputs": [],
   "source": [
    "pred_labels = get_pred_labels(all_clusters[-1], t_arr.shape)\n",
    "err__labels = abs(true_labels-pred_labels)\n",
    "err__labels[err__labels == 0] = np.nan"
   ]
  },
  {
   "cell_type": "code",
   "execution_count": null,
   "metadata": {},
   "outputs": [],
   "source": [
    "fig, ax = plt.subplots(1,1,figsize=(22,4))\n",
    "\n",
    "plt.plot(t_arr, true_labels, '.:', markersize=10, label='True')\n",
    "plt.plot(t_arr, pred_labels, 'o--', markerfacecolor=\"None\", markersize=10, label='Pred.', alpha=0.5)\n",
    "plt.plot(t_arr, err__labels, 'rx', markersize=15, label='Err')\n",
    "plt.ylim(-0.2,1.2)\n",
    "plt.xlim(5.5,18.5)\n",
    "\n",
    "ax = plt.gca()\n",
    "\n",
    "ax.xaxis.set_major_locator(MultipleLocator(1))\n",
    "#ax.xaxis.set_major_formatter(FormatStrFormatter('%d'))\n",
    "\n",
    "# For the minor ticks, use no labels; default NullFormatter.\n",
    "ax.xaxis.set_minor_locator(MultipleLocator(0.25))\n",
    "\n",
    "plt.xlabel(r'time, $t$ [arb.]')\n",
    "\n",
    "ax.set_yticks([0,1])\n",
    "ax.set_yticklabels(['travel', 'stay'])\n",
    "ax.set_title('Error', fontsize=16)\n",
    "\n",
    "plt.legend()\n",
    "plt.grid();"
   ]
  },
  {
   "cell_type": "code",
   "execution_count": null,
   "metadata": {},
   "outputs": [],
   "source": [
    "for clusters in all_clusters:\n",
    "    \n",
    "    pred_labels = get_pred_labels(clusters, t_arr.shape)\n",
    "    \n",
    "    print(f\"{get_err(true_labels,pred_labels):6.3}\")"
   ]
  },
  {
   "cell_type": "code",
   "execution_count": null,
   "metadata": {},
   "outputs": [],
   "source": [
    "pred_labels = get_pred_labels(all_clusters_res2[-1], t_arr.shape)\n",
    "err__labels = abs(true_labels-pred_labels)\n",
    "err__labels[err__labels == 0] = np.nan"
   ]
  },
  {
   "cell_type": "code",
   "execution_count": null,
   "metadata": {},
   "outputs": [],
   "source": [
    "fig, ax = plt.subplots(1,1,figsize=(22,4))\n",
    "\n",
    "plt.plot(t_arr, true_labels, '.:', markersize=10, label='True')\n",
    "plt.plot(t_arr, pred_labels, 'o--', markerfacecolor=\"None\", markersize=10, label='Pred.', alpha=0.5)\n",
    "plt.plot(t_arr, err__labels, 'rx', markersize=15, label='Err')\n",
    "plt.ylim(-0.2,1.2)\n",
    "plt.xlim(5.5,18.5)\n",
    "\n",
    "ax = plt.gca()\n",
    "\n",
    "ax.xaxis.set_major_locator(MultipleLocator(1))\n",
    "#ax.xaxis.set_major_formatter(FormatStrFormatter('%d'))\n",
    "\n",
    "# For the minor ticks, use no labels; default NullFormatter.\n",
    "ax.xaxis.set_minor_locator(MultipleLocator(0.25))\n",
    "\n",
    "plt.xlabel(r'time, $t$ [arb.]')\n",
    "\n",
    "ax.set_yticks([0,1])\n",
    "ax.set_yticklabels(['travel', 'stay'])\n",
    "ax.set_title('Error', fontsize=16)\n",
    "\n",
    "plt.legend()\n",
    "plt.grid();"
   ]
  },
  {
   "cell_type": "code",
   "execution_count": null,
   "metadata": {},
   "outputs": [],
   "source": [
    "for clusters in all_clusters_res2:\n",
    "    \n",
    "    pred_labels = get_pred_labels(clusters, t_arr.shape)\n",
    "    \n",
    "    print(f\"{get_err(true_labels,pred_labels):6.3}\")"
   ]
  },
  {
   "cell_type": "code",
   "execution_count": null,
   "metadata": {},
   "outputs": [],
   "source": [
    "pred_labels = get_pred_labels(all_clusters_res3[-1], t_arr.shape)\n",
    "err__labels = abs(true_labels-pred_labels)\n",
    "err__labels[err__labels == 0] = np.nan"
   ]
  },
  {
   "cell_type": "code",
   "execution_count": null,
   "metadata": {},
   "outputs": [],
   "source": [
    "fig, ax = plt.subplots(1,1,figsize=(22,4))\n",
    "\n",
    "plt.plot(t_arr, true_labels, '.:', markersize=10, label='True')\n",
    "plt.plot(t_arr, pred_labels, 'o--', markerfacecolor=\"None\", markersize=10, label='Pred.', alpha=0.5)\n",
    "plt.plot(t_arr, err__labels, 'rx', markersize=15, label='Err')\n",
    "plt.ylim(-0.2,1.2)\n",
    "plt.xlim(5.5,18.5)\n",
    "\n",
    "ax = plt.gca()\n",
    "\n",
    "ax.xaxis.set_major_locator(MultipleLocator(1))\n",
    "#ax.xaxis.set_major_formatter(FormatStrFormatter('%d'))\n",
    "\n",
    "# For the minor ticks, use no labels; default NullFormatter.\n",
    "ax.xaxis.set_minor_locator(MultipleLocator(0.25))\n",
    "\n",
    "plt.xlabel(r'time, $t$ [arb.]')\n",
    "\n",
    "ax.set_yticks([0,1])\n",
    "ax.set_yticklabels(['travel', 'stay'])\n",
    "ax.set_title('Error', fontsize=16)\n",
    "\n",
    "plt.legend()\n",
    "plt.grid();"
   ]
  },
  {
   "cell_type": "code",
   "execution_count": null,
   "metadata": {},
   "outputs": [],
   "source": [
    "for clusters in all_clusters_res3:\n",
    "    \n",
    "    pred_labels = get_pred_labels(clusters, t_arr.shape)\n",
    "    \n",
    "    print(f\"{get_err(true_labels,pred_labels):6.3}\")"
   ]
  },
  {
   "cell_type": "markdown",
   "metadata": {},
   "source": [
    "**Notes**\n",
    "The total errors of each classification stage seem to indicate that they initially do better but then get worse as the progression continues. "
   ]
  },
  {
   "cell_type": "markdown",
   "metadata": {},
   "source": [
    "#### Segment-based error\n",
    "\n",
    "In all cases, the total err increases with the resolution; however, segment-based avg. and weighted avg. errors decrease: from $0.7$ to $0.3$ to $0.2$."
   ]
  },
  {
   "cell_type": "code",
   "execution_count": null,
   "metadata": {},
   "outputs": [],
   "source": [
    "get_segments_errs(t_arr, segments, all_clusters[-1], True);"
   ]
  },
  {
   "cell_type": "code",
   "execution_count": null,
   "metadata": {},
   "outputs": [],
   "source": [
    "get_segments_errs(t_arr, segments, all_clusters_res2[-1], True);"
   ]
  },
  {
   "cell_type": "code",
   "execution_count": null,
   "metadata": {},
   "outputs": [],
   "source": [
    "get_segments_errs(t_arr, segments, all_clusters_res3[-1], True);"
   ]
  },
  {
   "cell_type": "markdown",
   "metadata": {},
   "source": [
    "---"
   ]
  },
  {
   "cell_type": "markdown",
   "metadata": {},
   "source": [
    "# Appendix\n",
    "\n",
    "## Example 2 plots"
   ]
  },
  {
   "cell_type": "code",
   "execution_count": null,
   "metadata": {},
   "outputs": [],
   "source": [
    "len_all_clusts = len(all_clusters_res2)\n",
    "fig, axs = plt.subplots(len_all_clusts,1,figsize=[20,len_all_clusts*6])\n",
    "fig.subplots_adjust(bottom=0.1, top=0.9, hspace=0.4)\n",
    "ylim = [x_arr.min()-2*dist_thresh, x_arr.max()+2*dist_thresh]\n",
    "\n",
    "axs =axs.flatten()\n",
    "\n",
    "for i in range(len_all_clusts):\n",
    "    try:\n",
    "        ax = axs[i]\n",
    "        add_plot_trajectory(t_arr, r_arr, x_arr, t_segs, x_segs, dist_thresh, ax)\n",
    "        #ax.set_xlim(0.7,23.3)\n",
    "        ax.set_xlim([5.75,18.25]);\n",
    "        add_plot_seg_boxes(t_segs, x_segs, dist_thresh, ax)\n",
    "        add_plot_cluster_boxplots(t_arr, x_arr, all_clusters_res2[i], dist_thresh, ax)\n",
    "        ax.set_ylim(ylim);\n",
    "        ax.set_title(f\"Stage{(i+1):3d}\", fontsize=16);\n",
    "    except:\n",
    "        print(f\"File {ii}, plotting stage {i} failed\")\n",
    "        pass"
   ]
  },
  {
   "cell_type": "code",
   "execution_count": null,
   "metadata": {},
   "outputs": [],
   "source": [
    "len_all_clusts = len(all_clusters_res3)\n",
    "fig, axs = plt.subplots(len_all_clusts,1,figsize=[20,len_all_clusts*6])\n",
    "fig.subplots_adjust(bottom=0.1, top=0.9, hspace=0.4)\n",
    "ylim = [x_arr.min()-2*dist_thresh, x_arr.max()+2*dist_thresh]\n",
    "\n",
    "axs =axs.flatten()\n",
    "\n",
    "for i in range(len_all_clusts):\n",
    "    try:\n",
    "        ax = axs[i]\n",
    "        add_plot_trajectory(t_arr, r_arr, x_arr, t_segs, x_segs, dist_thresh, ax)\n",
    "        #ax.set_xlim(0.7,23.3)\n",
    "        ax.set_xlim([5.75,18.25]);\n",
    "        add_plot_seg_boxes(t_segs, x_segs, dist_thresh, ax)\n",
    "        add_plot_cluster_boxplots(t_arr, x_arr, all_clusters_res3[i], dist_thresh, ax)\n",
    "        ax.set_ylim(ylim);\n",
    "        ax.set_title(f\"Stage{(i+1):3d}\", fontsize=16);\n",
    "    except:\n",
    "        print(f\"File {ii}, plotting stage {i} failed\")\n",
    "        pass"
   ]
  }
 ],
 "metadata": {
  "kernelspec": {
   "display_name": "venv",
   "language": "python",
   "name": "venv"
  },
  "language_info": {
   "codemirror_mode": {
    "name": "ipython",
    "version": 3
   },
   "file_extension": ".py",
   "mimetype": "text/x-python",
   "name": "python",
   "nbconvert_exporter": "python",
   "pygments_lexer": "ipython3",
   "version": "3.6.9"
  },
  "toc": {
   "nav_menu": {},
   "number_sections": true,
   "sideBar": true,
   "skip_h1_title": false,
   "title_cell": "Table of Contents",
   "title_sidebar": "Contents",
   "toc_cell": false,
   "toc_position": {},
   "toc_section_display": true,
   "toc_window_display": false
  }
 },
 "nbformat": 4,
 "nbformat_minor": 2
}
