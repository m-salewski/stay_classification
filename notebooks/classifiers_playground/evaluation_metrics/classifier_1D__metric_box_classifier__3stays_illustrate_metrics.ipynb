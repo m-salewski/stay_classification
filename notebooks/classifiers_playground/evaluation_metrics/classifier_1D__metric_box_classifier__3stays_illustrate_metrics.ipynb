{
 "cells": [
  {
   "cell_type": "code",
   "execution_count": 1,
   "metadata": {},
   "outputs": [
    {
     "data": {
      "text/html": [
       "<style>.container { width:100% !important; }</style>"
      ],
      "text/plain": [
       "<IPython.core.display.HTML object>"
      ]
     },
     "metadata": {},
     "output_type": "display_data"
    }
   ],
   "source": [
    "from IPython.core.display import display, HTML\n",
    "display(HTML(\"<style>.container { width:100% !important; }</style>\"))"
   ]
  },
  {
   "cell_type": "code",
   "execution_count": 2,
   "metadata": {},
   "outputs": [],
   "source": [
    "# This will reload imports before executing code, allowing you to easily change contents of custom scripts\n",
    "%load_ext autoreload\n",
    "%autoreload 2"
   ]
  },
  {
   "cell_type": "markdown",
   "metadata": {},
   "source": [
    "# Metric box classifier: evaluation metrics\n",
    "\n",
    "**25.08.2020**\n",
    "\n",
    "It's important to have a measure of how well a classifier performs, and given the data, there are a few metrics which can be used to measure this.\n",
    "\n",
    "**NOTE: this is based on an earlier version of the metrics, pre 09.11.2020**"
   ]
  },
  {
   "cell_type": "code",
   "execution_count": 3,
   "metadata": {},
   "outputs": [],
   "source": [
    "import numpy as np\n",
    "\n",
    "%matplotlib inline\n",
    "import matplotlib.pyplot as plt\n",
    "from matplotlib.ticker import MultipleLocator, FormatStrFormatter, AutoMinorLocator\n",
    "\n",
    "import os, sys\n",
    "sys.path.append('/home/sandm/Notebooks/stay_classification/src/')"
   ]
  },
  {
   "cell_type": "code",
   "execution_count": 4,
   "metadata": {},
   "outputs": [],
   "source": [
    "from synthetic_data.plotting import plot_trajectory, add_plot_trajectory, add_plot_seg_boxes, add_plot_cluster_boxplots"
   ]
  },
  {
   "cell_type": "code",
   "execution_count": 5,
   "metadata": {},
   "outputs": [],
   "source": [
    "from synthetic_data.trajectory import get_stay_segs, get_adjusted_stays"
   ]
  },
  {
   "cell_type": "markdown",
   "metadata": {},
   "source": [
    "# Theory\n",
    "\n",
    "## Standard metrics\n",
    "\n",
    "There are a few standard metrics which can be used for classification problems. Here, we use the precision and recall as well as the error (aka the accuracy).\n",
    "\n",
    "For all metrics, there are a few things to consider.\n",
    "1. The sequence of events is not simply classified as independent events; the clusters of events also matter\n",
    "2. Since the clusters matter, the correct number of segments also matters\n",
    "3. However, there is (or may be) a propensity towards false positive stays but which (may) have a small impact.\n",
    "\n",
    "Therefore, we apply the metrics to the entire sequence and also on the segments of the sequence."
   ]
  },
  {
   "cell_type": "markdown",
   "metadata": {},
   "source": [
    "### Precision and Recall\n",
    " \n",
    "A brief review of the definitions:\n",
    "\n",
    "Let the total number of stay (travel) events be $N_s$ ($N_t$) and the corresponding incorrect counts denoted as $\\tilde{N}_{\\{\\}}$. \n",
    "* $\\mathrm{prec.} = {N_s}/(N_s + \\tilde{N}_s)$, the number of correctly classified stay-events over the total number classified stay events.\n",
    "    * this is sensitive the the number of false positives\n",
    "* $\\mathrm{rec.} = {N_s}/(N_s + \\tilde{N}_t)$, the number of correctly classified stay-events over the total number stay events.\n",
    "    * it is not uncommon for the recall to be 1.0; this is due to classified stays being larger than the true stays.  \n",
    "      If the middle $3^{\\mathrm{rd}}$ of a trajectory is a true stay, but the entire trajectory is classified as a stay,  \n",
    "      there are no incorrectly classified trip events (_ie_ no false negatives), and hence the recall is 1.0"
   ]
  },
  {
   "cell_type": "markdown",
   "metadata": {},
   "source": [
    "### Error fraction (and/or Accuracy)\n",
    "\n",
    "The error is given effectively by treating the arrays of labels as vectors of 1's (stays) and 0's (travels) and then computing \n",
    "\n",
    "$\\varepsilon = |\\mathbf{v}_{\\mathrm{true}} - \\mathbf{v}_{\\mathrm{pred}}|/\\mathrm{size}(\\mathbf{v}_{\\mathrm{true}})$. \n",
    "\n",
    "This is related to the accuracy by \n",
    "\n",
    "$\\mathrm{acc.} = 1 - \\varepsilon$, \n",
    "\n",
    "which is the same as \n",
    "\n",
    "$\\mathrm{acc.} = \\big((N_t + \\tilde{N}_s + \\tilde{N}_t + N_s) - (\\tilde{N}_s + \\tilde{N}_t)\\big)/(N_t + \\tilde{N}_s + \\tilde{N}_t + N_s)$\n",
    "\n",
    "One of the problems with the accuracy in this setting is that there is usually more stay events than travel events; making accuracy skewed towards larger values.  \n",
    "Also, the number of events can be fairly large, so that mis-classified events don't contribute significantly to the global scores.  \n",
    "\n",
    "For example, an event evey 1 min of a 24 hr day is 1440 events; estimating 2 hrs (120 events) in total travel time, leaves 1320 events to classify as stay events.  \n",
    "If 100% of the stay events are correctly classified, but only 1% of the travel events are correct (meaning false positives or incorrectly classified stay events),  \n",
    "then the accuracy would still be above 0.91."
   ]
  },
  {
   "cell_type": "code",
   "execution_count": 143,
   "metadata": {},
   "outputs": [
    {
     "data": {
      "text/plain": [
       "0.9175"
      ]
     },
     "execution_count": 143,
     "metadata": {},
     "output_type": "execute_result"
    }
   ],
   "source": [
    "(1.0*1320 + 0.01*120)/1440"
   ]
  },
  {
   "cell_type": "markdown",
   "metadata": {},
   "source": [
    "---"
   ]
  },
  {
   "cell_type": "markdown",
   "metadata": {},
   "source": [
    "# Illustrations\n",
    "\n",
    "Here is a bit more theory but fleshed out with some examples"
   ]
  },
  {
   "cell_type": "markdown",
   "metadata": {},
   "source": [
    "## Example 1"
   ]
  },
  {
   "cell_type": "code",
   "execution_count": 12,
   "metadata": {},
   "outputs": [],
   "source": [
    "from synthetic_data.trajectory_class import get_pickle_trajectory\n",
    "from stay_classification.metric_box_classifier.metric_box_classifier import stay_classifier_testing\n",
    "\n",
    "time_thresh = 1/6\n",
    "dist_thresh=0.25"
   ]
  },
  {
   "cell_type": "code",
   "execution_count": 13,
   "metadata": {},
   "outputs": [],
   "source": [
    "data_dir = f\"../../testdata/testdata_training_set__canonical_3stays/\"\n",
    "stays_tag = 3"
   ]
  },
  {
   "cell_type": "markdown",
   "metadata": {
    "hide_input": true
   },
   "source": [
    "### Classification"
   ]
  },
  {
   "cell_type": "markdown",
   "metadata": {},
   "source": [
    "Load data"
   ]
  },
  {
   "cell_type": "code",
   "execution_count": 14,
   "metadata": {},
   "outputs": [],
   "source": [
    "trajectory_nr = 445 #488 #958 #445\n",
    "\n",
    "trajectory_tag = f\"trajectory{trajectory_nr}_{stays_tag}stays\"    \n",
    "path_to_file =  data_dir + trajectory_tag"
   ]
  },
  {
   "cell_type": "code",
   "execution_count": 15,
   "metadata": {},
   "outputs": [],
   "source": [
    "t_arr, r_arr, x_arr, segments = get_pickle_trajectory(path_to_file)\n",
    "t_segs, x_segs = get_stay_segs(get_adjusted_stays(segments, t_arr))"
   ]
  },
  {
   "cell_type": "markdown",
   "metadata": {},
   "source": [
    "Classification"
   ]
  },
  {
   "cell_type": "code",
   "execution_count": 16,
   "metadata": {},
   "outputs": [],
   "source": [
    "# Get the stay clusters\n",
    "all_clusters = stay_classifier_testing(t_arr, x_arr, dist_thresh, time_thresh, False)    "
   ]
  },
  {
   "cell_type": "markdown",
   "metadata": {},
   "source": [
    "Plotting"
   ]
  },
  {
   "cell_type": "code",
   "execution_count": 17,
   "metadata": {
    "hide_input": false,
    "scrolled": false
   },
   "outputs": [
    {
     "data": {
      "image/png": "[encoded data removed]",
      "text/plain": [
       "<Figure size 1440x360 with 2 Axes>"
      ]
     },
     "metadata": {
      "needs_background": "light"
     },
     "output_type": "display_data"
    }
   ],
   "source": [
    "fig, ax = plt.subplots(1,1,figsize=[20,5])\n",
    "\n",
    "ylim = [x_arr.min()-2*dist_thresh, x_arr.max()+2*dist_thresh]\n",
    "\n",
    "add_plot_trajectory(t_arr, r_arr, x_arr, t_segs, x_segs, dist_thresh, ax)\n",
    "ax.set_xlim(0.7,23.3)\n",
    "add_plot_seg_boxes(t_segs, x_segs, dist_thresh, ax)\n",
    "add_plot_cluster_boxplots(t_arr, x_arr, all_clusters[-1], dist_thresh, ax)\n",
    "ax.set_ylim(ylim);\n",
    "#ax.set_title(f\"{stage_titels[-1]}\", fontsize=16);"
   ]
  },
  {
   "cell_type": "markdown",
   "metadata": {},
   "source": [
    "**Notes**\n",
    "* There are three stays, all of which are mostly correctly identified by the classifier\n",
    "* There are a few false stays (_ie_ false positives) during the main travels but these are all mostly short in duration"
   ]
  },
  {
   "cell_type": "markdown",
   "metadata": {},
   "source": [
    "#### Prec & Rec\n",
    "\n",
    "#### Total Precision and Recall\n",
    "\n",
    "The first is to consider the entire sequence of points which are classified as either \"stay\" (1) or \"travel\" (0).\n",
    "    \n",
    "Again, the definitions of the (p)rec. scores:\n",
    "* $\\mathrm{prec.} = {N_s}/(N_s + \\tilde{N}_s)$\n",
    "* $\\mathrm{rec.} = {N_s}/(N_s + \\tilde{N}_t)$\n",
    "    * **Note** if all events are classified as a stay, then $\\tilde{N}_t = 0$, and recall is unity."
   ]
  },
  {
   "cell_type": "code",
   "execution_count": 36,
   "metadata": {},
   "outputs": [],
   "source": [
    "from stay_classification.metrics import get_segments_scores, print_p_and_r"
   ]
  },
  {
   "cell_type": "code",
   "execution_count": null,
   "metadata": {},
   "outputs": [],
   "source": [
    "from stay_classification.metrics_scores import get_segments_scores_core"
   ]
  },
  {
   "cell_type": "code",
   "execution_count": 33,
   "metadata": {},
   "outputs": [],
   "source": [
    "from stay_classification.metrics_etc import eval_synth_data, eval_synth_data_clusters_long"
   ]
  },
  {
   "cell_type": "code",
   "execution_count": 39,
   "metadata": {},
   "outputs": [
    {
     "name": "stdout",
     "output_type": "stream",
     "text": [
      "    7 clusters, lengths:, [184, 19, 328, 28, 17, 18, 131]\n",
      "\tprec.: 0.861\n",
      "\t rec.: 1.000\n",
      "[[ 87 102]\n",
      " [  0 633]]\n"
     ]
    }
   ],
   "source": [
    "prec, rec, cmat = eval_synth_data(t_arr, segments, all_clusters[-1])\n",
    "print_p_and_r(all_clusters[-1], prec, rec, cmat)"
   ]
  },
  {
   "cell_type": "markdown",
   "metadata": {},
   "source": [
    "The confusion matrix is also given, but as usual, it is confusing\n",
    "\n",
    "$\\left[\\begin{array}[cc]\\\\ N_t & \\tilde{N}_s\\\\ \\tilde{N}_t & N_s \\end{array}\\right] = \\left[\\begin{array}[cc]\\\\ 87 & 102\\\\ 0 & 633 \\end{array}\\right]$\n",
    "\n",
    "Let's break it down:\n",
    "* $N_t $ is the number of correctly identified travel events\n",
    "    * there are overall 189 true travel events but the classifier only gets 87 of those correct\n",
    "* $\\tilde{N}_s$ is the number of false stay events (mis-labeled travel events)\n",
    "    * there are 102 of these\n",
    "* $\\tilde{N}_t$ is the number of false travel events (mis-labeled stay events)\n",
    "    * here, the classifier gets 0, which is common given the spatial constraints of the synthetic data and the spatial resolution of the classifier\n",
    "* $N_s$ is the number of correctly identified stay events\n",
    "    * for this example, all the true stay events are identified by the classifier."
   ]
  },
  {
   "cell_type": "markdown",
   "metadata": {},
   "source": [
    "#### Segment-based Precision and Recall\n",
    "\n",
    "The total (p)rec. scores above are not specific enough since there no indication if the total number of stays is correct or not.\n",
    "* As an example, consider two adjacent predicted stays which match with a true stay; \n",
    "    using only the labels misses the fact that there are two predicted stays when there should only be one.\n",
    "\n",
    "A way to measure this is to generalize these score to the predicted segments, _ie_ to the stays and travels. \n",
    "\n",
    "Let the number of stay (travel) events in segment $i$ be $n_{s,i}$($n_{t,i}$) and $\\tilde{n}_{\\{\\}}$ (as above). \n",
    "The the scores are given as \n",
    "* $\\mathrm{prec.}_i = n_{s,i}/(n_{s,i} + \\tilde{n}_{s,i})$\n",
    "* $\\mathrm{rec.}_i = n_{s,i}/(n_{s,i} + \\tilde{n}_{t,i})$\n",
    "\n",
    "To get an overall measure, the segment scores are weighted by the event counts or duration of the cluster and then summed over.  \n",
    "For each segment $s_i$,\n",
    "1. check it against the true stays to see if there are any overlaps, and compute the scores\n",
    "    1. if so, compute (p)rec.s for all overlapping sections\n",
    "        * when a pred. segment overlaps multiple true segments, the average of the scores is used\n",
    "        * Since the pred./true stay segments can be any size, they are first embedded into the entire sequence (see the methods below).\n",
    "    2. if not, then assign (p)rec.s as $0$ for the segment\n",
    "2. compute the total duration of the segment and multiply the segment score by a weight\n",
    "    * Normalize by the total sum of pred. durations. \n",
    "    * this helps minimize the false positives which are short\n",
    "3. compute the average, and/or the weighted average, over all pred. stays\n",
    "\n",
    "This is made for both sets of clusters, ensuring that any non-overlapping clusters, \n",
    "from either true or predicted cluster sets, contribute to the overall scores."
   ]
  },
  {
   "cell_type": "code",
   "execution_count": 116,
   "metadata": {},
   "outputs": [],
   "source": [
    "from stay_classification.metrics_cluster_tools import get_true_clusters"
   ]
  },
  {
   "cell_type": "code",
   "execution_count": 117,
   "metadata": {},
   "outputs": [],
   "source": [
    "true_clusters = get_true_clusters(t_arr, segments)"
   ]
  },
  {
   "cell_type": "markdown",
   "metadata": {},
   "source": [
    "Here, `get_segments_scores(t_arr, segments, all_clusters[-1], True)` comprises of two subroutines:\n",
    "1. get_segments_scores_core(t_arr, true_clusters, all_clusters[-1], True, True)"
   ]
  },
  {
   "cell_type": "code",
   "execution_count": 119,
   "metadata": {},
   "outputs": [
    {
     "name": "stdout",
     "output_type": "stream",
     "text": [
      "Comparing 7 pred to 3 true clusters\n",
      "\n",
      "Cluster   0: [   0, 183];  count:  184,  dur:  2.713\n",
      "                          (frac. 0.254) (frac. 0.261)\n",
      "\n",
      "             [   0, 175], overlap\n",
      "             [ 272, 591]\n",
      "             [ 685, 821]\n",
      "\n",
      "\tOverlaps with 1 true cluster(s):\n",
      "          0: [   0, 175]; prec.:  0.957; rec.:  1.000\n",
      "\n",
      "Cluster   1: [ 244, 264];  count:   19,  dur:  0.230\n",
      "                          (frac. 0.026) (frac. 0.022)\n",
      "\n",
      "             [   0, 175]\n",
      "             [ 272, 591]\n",
      "             [ 685, 821]\n",
      "\n",
      "\tNo overlap\n",
      "\t                    prec.:  0.000; rec.:  0.000\n",
      "\n",
      "Cluster   2: [ 266, 593];  count:  328,  dur:  4.554\n",
      "                          (frac. 0.452) (frac. 0.439)\n",
      "\n",
      "             [   0, 175]\n",
      "             [ 272, 591], overlap\n",
      "             [ 685, 821]\n",
      "\n",
      "\tOverlaps with 1 true cluster(s):\n",
      "          1: [ 272, 591]; prec.:  0.976; rec.:  1.000\n",
      "\n",
      "Cluster   3: [ 597, 624];  count:   28,  dur:  0.321\n",
      "                          (frac. 0.039) (frac. 0.031)\n",
      "\n",
      "             [   0, 175]\n",
      "             [ 272, 591]\n",
      "             [ 685, 821]\n",
      "\n",
      "\tNo overlap\n",
      "\t                    prec.:  0.000; rec.:  0.000\n",
      "\n",
      "Cluster   4: [ 636, 654];  count:   17,  dur:  0.208\n",
      "                          (frac. 0.023) (frac. 0.020)\n",
      "\n",
      "             [   0, 175]\n",
      "             [ 272, 591]\n",
      "             [ 685, 821]\n",
      "\n",
      "\tNo overlap\n",
      "\t                    prec.:  0.000; rec.:  0.000\n",
      "\n",
      "Cluster   5: [ 667, 690];  count:   18,  dur:  0.342\n",
      "                          (frac. 0.025) (frac. 0.033)\n",
      "\n",
      "             [   0, 175]\n",
      "             [ 272, 591]\n",
      "             [ 685, 821], overlap\n",
      "\n",
      "\tOverlaps with 1 true cluster(s):\n",
      "          2: [ 685, 821]; prec.:  0.250; rec.:  0.044\n",
      "\n",
      "Cluster   6: [ 691, 821];  count:  131,  dur:  2.008\n",
      "                          (frac. 0.181) (frac. 0.194)\n",
      "\n",
      "             [   0, 175]\n",
      "             [ 272, 591]\n",
      "             [ 685, 821], overlap\n",
      "\n",
      "\tOverlaps with 1 true cluster(s):\n",
      "          2: [ 685, 821]; prec.:  1.000; rec.:  0.956\n",
      "\n",
      "Partial stats: \n",
      "    min. prec.:  0.000;    min. rec.:  0.000\n",
      "  c-avg. prec.:  0.871;  c-avg. rec.:  0.880\n",
      "  t-avg. prec.:  0.880;  t-avg. rec.:  0.887\n"
     ]
    }
   ],
   "source": [
    "get_segments_scores_core(t_arr, true_clusters, all_clusters[-1], True, True);"
   ]
  },
  {
   "cell_type": "markdown",
   "metadata": {},
   "source": [
    "**Notes** \n",
    "* The three main stays are found by the classifier, each with $\\mathrm{(p)rec} > 0.95$\n",
    "* The avg. scores are relatively low because there are three false stays and one misalinged stay\n",
    "    * however, these are relatively short in duration\n",
    "* Both the count-weighted avg. (as \"`c-avg.`\") and the time-weighted avg. (as \"`t-avg.`\"),  \n",
    "    show different information:\n",
    "    * the prec. is higher than the global prec. ($0.861$) but the rec. is lower than $1.0$, which reflects the inclusion of incorrect clusters."
   ]
  },
  {
   "cell_type": "code",
   "execution_count": 121,
   "metadata": {},
   "outputs": [
    {
     "name": "stdout",
     "output_type": "stream",
     "text": [
      "Comparing 3 true to 7 pred clusters\n",
      "\n",
      "Cluster   0: [   0, 175];  count:  176,  dur:  2.566\n",
      "                          (frac. 0.278) (frac. 0.282)\n",
      "\n",
      "             [   0, 183], overlap\n",
      "             [ 244, 264]\n",
      "             [ 266, 593]\n",
      "             [ 597, 624]\n",
      "             [ 636, 654]\n",
      "             [ 667, 690]\n",
      "             [ 691, 821]\n",
      "\n",
      "\tOverlaps with 1 pred cluster(s):\n",
      "          0: [   0, 183]; prec.:  0.957; rec.:  1.000\n",
      "\n",
      "Cluster   1: [ 272, 591];  count:  320,  dur:  4.381\n",
      "                          (frac. 0.506) (frac. 0.481)\n",
      "\n",
      "             [   0, 183]\n",
      "             [ 244, 264]\n",
      "             [ 266, 593], overlap\n",
      "             [ 597, 624]\n",
      "             [ 636, 654]\n",
      "             [ 667, 690]\n",
      "             [ 691, 821]\n",
      "\n",
      "\tOverlaps with 1 pred cluster(s):\n",
      "          2: [ 266, 593]; prec.:  0.976; rec.:  1.000\n",
      "\n",
      "Cluster   2: [ 685, 821];  count:  137,  dur:  2.159\n",
      "                          (frac. 0.216) (frac. 0.237)\n",
      "\n",
      "             [   0, 183]\n",
      "             [ 244, 264]\n",
      "             [ 266, 593]\n",
      "             [ 597, 624]\n",
      "             [ 636, 654]\n",
      "             [ 667, 690], overlap\n",
      "             [ 691, 821], overlap\n",
      "\n",
      "\tOverlaps with 2 pred cluster(s):\n",
      "          5: [ 667, 690]; prec.:  0.250; rec.:  0.044\n",
      "          6: [ 691, 821]; prec.:  1.000; rec.:  0.956\n",
      "\n",
      "pred clusters [1, 3, 4] do not overlap any true clusters\n",
      "\n",
      "Partial stats: \n",
      "    min. prec.:  0.625;    min. rec.:  0.500\n",
      "  c-avg. prec.:  0.894;  c-avg. rec.:  0.892\n",
      "  t-avg. prec.:  0.887;  t-avg. rec.:  0.881\n"
     ]
    }
   ],
   "source": [
    "get_segments_scores_core(t_arr, all_clusters[-1], true_clusters, False, True);"
   ]
  },
  {
   "cell_type": "markdown",
   "metadata": {},
   "source": [
    "Note that the scores for the overlapped clusters are equivalent in both runs,  but the weighting and the non-overlapping clusters affect the final scores. \n",
    "\n",
    "For example, the combined count weight of the scores in the first set is 0.91, whereas the same for the second set is 1.0; the partial results of the former is slightly smaller.\n",
    "\n",
    "\n",
    "The final result of `get_segments_scores(t_arr, segments, all_clusters[-1], True)` outputs the two previous results,  \n",
    "and then takes their mean for a final result:\n",
    "```\n",
    "Overall stats: \n",
    "    min. prec.:  0.312;    min. rec.:  0.250\n",
    "  c-avg. prec.:  0.884;  c-avg. rec.:  0.884\n",
    "  t-avg. prec.:  0.884;  t-avg. rec.:  0.884\n",
    "\n",
    "    tot. prec.:  0.861;    tot. rec.:  1.000\n",
    "\n",
    "Durations: \n",
    "\ttot. trajectory duration: 11.973 \n",
    "\ttot. true stays duration:  9.106 (0.761) \n",
    "\ttot. pred stays duration: 10.376 (0.867)\n",
    "```"
   ]
  },
  {
   "cell_type": "markdown",
   "metadata": {},
   "source": [
    "### Error"
   ]
  },
  {
   "cell_type": "markdown",
   "metadata": {},
   "source": [
    "#### Total error"
   ]
  },
  {
   "cell_type": "code",
   "execution_count": 148,
   "metadata": {},
   "outputs": [],
   "source": [
    "from stay_classification.metrics_cluster_tools import get_pred_labels, get_labels_from_clusters"
   ]
  },
  {
   "cell_type": "code",
   "execution_count": 149,
   "metadata": {},
   "outputs": [],
   "source": [
    "from synthetic_data.trajectory import get_stay_indices, get_adjusted_stays"
   ]
  },
  {
   "cell_type": "code",
   "execution_count": 150,
   "metadata": {},
   "outputs": [],
   "source": [
    "true_indices = get_stay_indices(get_adjusted_stays(segments, t_arr), t_arr)\n",
    "true_labels = np.zeros(t_arr.shape)\n",
    "\n",
    "for pair in true_indices:\n",
    "    true_labels[pair[0]:pair[1]+1] = 1\n",
    "\n",
    "pred_labels = get_pred_labels(all_clusters[-1], t_arr.shape)"
   ]
  },
  {
   "cell_type": "code",
   "execution_count": 151,
   "metadata": {},
   "outputs": [],
   "source": [
    "err__labels = abs(true_labels-pred_labels)\n",
    "err__labels[err__labels == 0] = np.nan"
   ]
  },
  {
   "cell_type": "code",
   "execution_count": 152,
   "metadata": {
    "scrolled": false
   },
   "outputs": [
    {
     "data": {
      "image/png": "[encoded data removed]",
      "text/plain": [
       "<Figure size 1584x288 with 1 Axes>"
      ]
     },
     "metadata": {
      "needs_background": "light"
     },
     "output_type": "display_data"
    }
   ],
   "source": [
    "fig, ax = plt.subplots(1,1,figsize=(22,4))\n",
    "\n",
    "plt.plot(t_arr, true_labels, '.:', markersize=10, label='True')\n",
    "plt.plot(t_arr, pred_labels, 'o--', markerfacecolor=\"None\", markersize=10, label='Pred.', alpha=0.5)\n",
    "plt.plot(t_arr, err__labels, 'rx', markersize=15, label='Err')\n",
    "plt.ylim(-0.2,1.2)\n",
    "plt.xlim(5.5,18.5)\n",
    "\n",
    "ax = plt.gca()\n",
    "\n",
    "ax.xaxis.set_major_locator(MultipleLocator(1))\n",
    "#ax.xaxis.set_major_formatter(FormatStrFormatter('%d'))\n",
    "\n",
    "# For the minor ticks, use no labels; default NullFormatter.\n",
    "ax.xaxis.set_minor_locator(MultipleLocator(0.25))\n",
    "\n",
    "plt.xlabel(r'time, $t$ [arb.]')\n",
    "\n",
    "ax.set_yticks([0,1])\n",
    "ax.set_yticklabels(['travel', 'stay'])\n",
    "ax.set_title('Error', fontsize=16)\n",
    "\n",
    "plt.legend()\n",
    "plt.grid();"
   ]
  },
  {
   "cell_type": "code",
   "execution_count": 153,
   "metadata": {},
   "outputs": [],
   "source": [
    "get_err = lambda trues, preds: np.sum(abs(trues-preds))/trues.size"
   ]
  },
  {
   "cell_type": "code",
   "execution_count": 154,
   "metadata": {},
   "outputs": [
    {
     "name": "stdout",
     "output_type": "stream",
     "text": [
      "Error:  0.22 (Acc.:  0.78)\n",
      "Error: 0.201 (Acc.: 0.799)\n",
      "Error: 0.201 (Acc.: 0.799)\n",
      "Error: 0.201 (Acc.: 0.799)\n",
      "Error: 0.124 (Acc.: 0.876)\n"
     ]
    }
   ],
   "source": [
    "for clusters in all_clusters:\n",
    "    \n",
    "    pred_labels = get_pred_labels(clusters, t_arr.shape)\n",
    "    \n",
    "    print(f\"Error: {get_err(true_labels,pred_labels):5.3} (Acc.: {(1-get_err(true_labels,pred_labels)):5.3})\")"
   ]
  },
  {
   "cell_type": "markdown",
   "metadata": {},
   "source": [
    "#### Segment-based error\n",
    "\n",
    "The total error (also accuracy) can be divided among the segments in the same way as the (p)rec. scores above. \n",
    "\n",
    "Again, tet the number of stay (travel) events in segment $i$ be $n_{s,i}$($n_{t,i}$) and $\\tilde{n}_{\\{\\}}$ (as above). \n",
    "Then, the segment error is  \n",
    "* $\\varepsilon_i \\propto \\tilde{n}_{t,i} + \\tilde{n}_{s,i}$\n",
    "\n",
    "As above, the segment errors are weighted by either the event counts or the cluster duration and then summed over.  \n",
    "When the latter is used, then for each segment $s_i$,\n",
    "1. check it against the true stays to see if there are any overlaps, and compute the segment error\n",
    "    1. if so, compute (p)rec.s for all overlapping sections\n",
    "        * Since the pred./true stay segments can be any size, they are first embedded into the entire sequence.\n",
    "        * when a pred. segment overlaps multiple true segments, \n",
    "            * the average of the error is used since the true segment is counted multiple times        \n",
    "    2. if not, then compute the error of the pred. stay against nothing\n",
    "2. Use the duration-weighting as above\n",
    "3. compute the average, and/or the weighted average, over all pred. stays\n",
    "    \n",
    "Again, this is made for both sets of clusters, ensuring that any non-overlapping clusters, \n",
    "from either true or predicted cluster sets, contribute to the overall scores."
   ]
  },
  {
   "cell_type": "code",
   "execution_count": 155,
   "metadata": {},
   "outputs": [],
   "source": [
    "from stay_classification.metrics import get_segments_errs\n",
    "from stay_classification.metrics_errors import get_segments_errs_core\n",
    "from stay_classification.metrics_cluster_tools import get_true_clusters"
   ]
  },
  {
   "cell_type": "code",
   "execution_count": 156,
   "metadata": {},
   "outputs": [],
   "source": [
    "true_clusters = get_true_clusters(t_arr, segments)"
   ]
  },
  {
   "cell_type": "code",
   "execution_count": 157,
   "metadata": {
    "scrolled": false
   },
   "outputs": [
    {
     "name": "stdout",
     "output_type": "stream",
     "text": [
      "\n",
      "Comparing 7 pred to 3 true clusters\n",
      "\n",
      "Cluster   0: [   0, 183];  count:  184,  dur:  2.713\n",
      "                          (frac. 0.254) (frac. 0.261)\n",
      "\n",
      "             [   0, 175], overlap\n",
      "             [ 272, 591]\n",
      "             [ 685, 821]\n",
      "\n",
      "\tOverlaps with 1 true cluster(s):\n",
      "          0; [   0, 175]; err.:  0.043; c-avg. err.:  0.011; t-avg. err.:  0.011\n",
      "\n",
      "Cluster   1: [ 244, 264];  count:   19,  dur:  0.230\n",
      "                          (frac. 0.026) (frac. 0.022)\n",
      "\n",
      "             [   0, 175]\n",
      "             [ 272, 591]\n",
      "             [ 685, 821]\n",
      "\n",
      "\tNo overlap\n",
      "                          err.:  1.000; c-avg. err.:  0.026; t-avg. err.:  0.022\n",
      "\n",
      "Cluster   2: [ 266, 593];  count:  328,  dur:  4.554\n",
      "                          (frac. 0.452) (frac. 0.439)\n",
      "\n",
      "             [   0, 175]\n",
      "             [ 272, 591], overlap\n",
      "             [ 685, 821]\n",
      "\n",
      "\tOverlaps with 1 true cluster(s):\n",
      "          1; [ 272, 591]; err.:  0.024; c-avg. err.:  0.011; t-avg. err.:  0.011\n",
      "\n",
      "Cluster   3: [ 597, 624];  count:   28,  dur:  0.321\n",
      "                          (frac. 0.039) (frac. 0.031)\n",
      "\n",
      "             [   0, 175]\n",
      "             [ 272, 591]\n",
      "             [ 685, 821]\n",
      "\n",
      "\tNo overlap\n",
      "                          err.:  1.000; c-avg. err.:  0.039; t-avg. err.:  0.031\n",
      "\n",
      "Cluster   4: [ 636, 654];  count:   17,  dur:  0.208\n",
      "                          (frac. 0.023) (frac. 0.020)\n",
      "\n",
      "             [   0, 175]\n",
      "             [ 272, 591]\n",
      "             [ 685, 821]\n",
      "\n",
      "\tNo overlap\n",
      "                          err.:  1.000; c-avg. err.:  0.023; t-avg. err.:  0.020\n",
      "\n",
      "Cluster   5: [ 667, 690];  count:   18,  dur:  0.342\n",
      "                          (frac. 0.025) (frac. 0.033)\n",
      "\n",
      "             [   0, 175]\n",
      "             [ 272, 591]\n",
      "             [ 685, 821], overlap\n",
      "\n",
      "\tOverlaps with 1 true cluster(s):\n",
      "          2; [ 685, 821]; err.:  0.961; c-avg. err.:  0.024; t-avg. err.:  0.032\n",
      "\n",
      "Cluster   6: [ 691, 821];  count:  131,  dur:  2.008\n",
      "                          (frac. 0.181) (frac. 0.194)\n",
      "\n",
      "             [   0, 175]\n",
      "             [ 272, 591]\n",
      "             [ 685, 821], overlap\n",
      "\n",
      "\tOverlaps with 1 true cluster(s):\n",
      "          2; [ 685, 821]; err.:  0.044; c-avg. err.:  0.008; t-avg. err.:  0.008\n",
      "\n",
      "Partial stats\n",
      "    max. err.:  1.000\n",
      "  c-avg. err.:  0.142\n",
      "  t-avg. err.:  0.135\n",
      "\n",
      "Comparing 3 true to 7 pred clusters\n",
      "\n",
      "Cluster   0: [   0, 175];  count:  176,  dur:  2.566\n",
      "                          (frac. 0.278) (frac. 0.282)\n",
      "\n",
      "             [   0, 183], overlap\n",
      "             [ 244, 264]\n",
      "             [ 266, 593]\n",
      "             [ 597, 624]\n",
      "             [ 636, 654]\n",
      "             [ 667, 690]\n",
      "             [ 691, 821]\n",
      "\n",
      "\tOverlaps with 1 pred cluster(s):\n",
      "          0; [   0, 183]; err.:  0.043; c-avg. err.:  0.012; t-avg. err.:  0.012\n",
      "\n",
      "Cluster   1: [ 272, 591];  count:  320,  dur:  4.381\n",
      "                          (frac. 0.506) (frac. 0.481)\n",
      "\n",
      "             [   0, 183]\n",
      "             [ 244, 264]\n",
      "             [ 266, 593], overlap\n",
      "             [ 597, 624]\n",
      "             [ 636, 654]\n",
      "             [ 667, 690]\n",
      "             [ 691, 821]\n",
      "\n",
      "\tOverlaps with 1 pred cluster(s):\n",
      "          2; [ 266, 593]; err.:  0.024; c-avg. err.:  0.012; t-avg. err.:  0.012\n",
      "\n",
      "Cluster   2: [ 685, 821];  count:  137,  dur:  2.159\n",
      "                          (frac. 0.216) (frac. 0.237)\n",
      "\n",
      "             [   0, 183]\n",
      "             [ 244, 264]\n",
      "             [ 266, 593]\n",
      "             [ 597, 624]\n",
      "             [ 636, 654]\n",
      "             [ 667, 690], overlap\n",
      "             [ 691, 821], overlap\n",
      "\n",
      "\tOverlaps with 2 pred cluster(s):\n",
      "          5; [ 667, 690]; err.:  0.961; c-avg. err.:  0.208; t-avg. err.:  0.228\n",
      "          6; [ 691, 821]; err.:  0.044; c-avg. err.:  0.009; t-avg. err.:  0.010\n",
      "\n",
      "pred clusters [1, 3, 4] do not overlap any true clusters\n",
      "\n",
      "Partial stats\n",
      "    max. err.:  0.503\n",
      "  c-avg. err.:  0.133\n",
      "  t-avg. err.:  0.143\n",
      "\n",
      "Total Stats\n",
      "    max. err.:  0.751;\n",
      "  c-avg. err.:  0.138;\n",
      "  t-avg. err.:  0.139\n",
      "\n",
      "    tot. err.:  0.124;  1-acc.:  0.124\n",
      "\n",
      "Durations: \n",
      "\ttot. trajectory duration: 11.973 \n",
      "\ttot. true stays duration:  9.106 (0.761) \n",
      "\ttot. pred stays duration: 10.376 (0.867)\n"
     ]
    }
   ],
   "source": [
    "get_segments_errs(t_arr, segments, all_clusters[-1], True);"
   ]
  },
  {
   "cell_type": "markdown",
   "metadata": {},
   "source": [
    "**Notes** \n",
    "* The three main stays are found by the classifier, each with raw errors $0.024 \\leq \\varepsilon \\leq 0.043$\n",
    "* The three false stays have $\\varepsilon_i = 1$ and one misalinged stay has $\\varepsilon_i \\approx 0.961$ (w-avg. $\\approx 0.023$)\n",
    "    * the outlier is large since the pred. stay is a small part of a larger true stay,  \n",
    "      but it doesn't spoil the result too much except when it's the other way around.\n",
    "* The avg. scores are relatively high due to the misaligned outlier\n",
    "    * however, these are less than the total error due to the averaging, and\n",
    "    * despite the outlier avg being larger than the total\n",
    "        * the outlier double-counts the last true stay's events in the averages \n",
    "* The weighted avg. is a bit less than the avg., as expected\n",
    "    * the weighting brings down the outlier's error"
   ]
  }
 ],
 "metadata": {
  "kernelspec": {
   "display_name": "venv",
   "language": "python",
   "name": "venv"
  },
  "language_info": {
   "codemirror_mode": {
    "name": "ipython",
    "version": 3
   },
   "file_extension": ".py",
   "mimetype": "text/x-python",
   "name": "python",
   "nbconvert_exporter": "python",
   "pygments_lexer": "ipython3",
   "version": "3.6.9"
  },
  "toc": {
   "nav_menu": {},
   "number_sections": true,
   "sideBar": true,
   "skip_h1_title": false,
   "title_cell": "Table of Contents",
   "title_sidebar": "Contents",
   "toc_cell": false,
   "toc_position": {},
   "toc_section_display": true,
   "toc_window_display": false
  }
 },
 "nbformat": 4,
 "nbformat_minor": 2
}
