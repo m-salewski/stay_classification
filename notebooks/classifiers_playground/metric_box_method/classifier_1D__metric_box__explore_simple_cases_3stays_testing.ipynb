{
 "cells": [
  {
   "cell_type": "code",
   "execution_count": 1,
   "metadata": {},
   "outputs": [
    {
     "data": {
      "text/html": [
       "<style>.container { width:100% !important; }</style>"
      ],
      "text/plain": [
       "<IPython.core.display.HTML object>"
      ]
     },
     "metadata": {},
     "output_type": "display_data"
    }
   ],
   "source": [
    "from IPython.core.display import display, HTML\n",
    "display(HTML(\"<style>.container { width:100% !important; }</style>\"))"
   ]
  },
  {
   "cell_type": "code",
   "execution_count": 2,
   "metadata": {},
   "outputs": [],
   "source": [
    "# This will reload imports before executing code, allowing you to easily change contents of custom scripts\n",
    "%load_ext autoreload\n",
    "%autoreload 2"
   ]
  },
  {
   "cell_type": "markdown",
   "metadata": {},
   "source": [
    "# Stay classification: cluster-splitting with box-refinement & shifting boxes\n",
    "\n",
    "## Algorithm\n",
    "\n",
    "1. Initial clustering and merging:\n",
    "    * identifies clusters based on spatio-temporal nearness\n",
    "        * events must first be close in time $\\to$ identifies many small clusters\n",
    "        * adding a new event must be close to the statistical center of a cluster\n",
    "    * adjacent clusters are merged when they not sufficiently separated \n",
    "\n",
    "2. Remaining clusters are \n",
    "```\n",
    "clusters_1 = get_clusters_3(time_arr, noise_arr, dist_thresh, time_thresh)\n",
    "clusters_2 = get_extended_clusters(time_arr, noise_arr, clusters_1, time_thresh)\n",
    "clusters_3 = separate_embedded_clusters(clusters_2, True)\n",
    "clusters_4 = merge_clusters_combo(time_arr, noise_arr, clusters_3, dist_thresh, time_thresh)\n",
    "clusters_4 = sorted([sorted(c) for c in clusters_4])\n",
    "clusters_5 = get_iqr_trimmed_clusters(noise_arr, clusters_4, 1.5);\n",
    "```\n",
    "\n",
    "## Current evaluation\n",
    "\n",
    "### Pros\n",
    "* can separate sequence and identify rudimentary clusters\n",
    "\n",
    "### Cons\n",
    "* can't distinguish stays from travels \n",
    "    * nothing created to do so.\n",
    "\n",
    "## ToDos\n",
    "\n",
    "\n",
    "* check that the newly split clusters are \n",
    "    * contain enough samples\n",
    "    * $\\checkmark$ ~~have a total duration longer than the threshold~~ see `get_extended_clusters`\n",
    "    * $\\checkmark$ ~~are not embedded within another cluster~~ possible, but unused; see `separate_embedded_clusters`\n",
    "* $\\checkmark$ ~~check that there are no embedded clusters~~ see `separate_embedded_clusters`\n",
    "    * ~~times don't overlap~~ $\\checkmark\\to$ have function\n",
    "    * ~~if refined clusters are embedded, check if one cluster is noise~~ ignored\n",
    "* check the stddev of the refined clusters are smaller\n",
    "* check on adjacent clusters\n",
    "    * $\\checkmark$ ~~check on the limits of time between adjacent clusters, esp. when they have the same mean and/or median~~ see `merge_clusters_combo`\n",
    "        * if at $x_a$ for $t_1$ then again at $x_a$ for $t_2$, duration between going from and back to $x_a$ should reflect some mimimal amount of time ($2\\times$ travel and a stay), \n",
    "            * e.g. \n",
    "                * from $x_a$ to an unknown $x_b$ with a stay at $x_b$ of the miminum duration and then back to $x_a$ \n",
    "                * should satisfy some criterion or _there is no inbetween travel and $t_1$ and $t_2$ are part of the same cluster_\n",
    "    * $\\checkmark$ ~~check of the metrics for inter-subcluster gaps~~ see `merge_clusters_combo`\n",
    "        * these are also clusters but unlabeled after the first round of clustering\n",
    "    * **!!!** check that the identified stays during the substages are not immediately adjacent\n",
    "        * _ie_ no stays should have indices like `[10, ..., 20]` followed by `[21, ..., 30]`\n",
    "            * such stays are possible $\\to$ but there should be a minimum travel time if the locations are distinct\n",
    "## Notes: \n",
    "\n",
    "* **Gaps** \n",
    "    * since there are subclusters for a given cluster which are separated by gaps, these gaps ...\n",
    "\n",
    "### 1-stay\n",
    "* gap-merging works well when good density; poorly when otherwise\n",
    "\n",
    "## Future directions\n",
    "\n",
    "It may be best to use this as an initial pass for the box, or _any_, method, thereby confining the errors and speeding up the compute.\n",
    "\n"
   ]
  },
  {
   "cell_type": "code",
   "execution_count": 3,
   "metadata": {},
   "outputs": [],
   "source": [
    "import numpy as np\n",
    "import pandas as pd"
   ]
  },
  {
   "cell_type": "code",
   "execution_count": 4,
   "metadata": {},
   "outputs": [],
   "source": [
    "import os, sys\n",
    "sys.path.append('/home/sandm/Notebooks/stay_classification/src/')"
   ]
  },
  {
   "cell_type": "code",
   "execution_count": 5,
   "metadata": {},
   "outputs": [],
   "source": [
    "# #############################################################################\n",
    "%matplotlib inline\n",
    "import matplotlib.pyplot as plt"
   ]
  },
  {
   "cell_type": "code",
   "execution_count": 6,
   "metadata": {},
   "outputs": [],
   "source": [
    "colors = [plt.cm.Spectral(each)\n",
    "          for each in np.linspace(0, 1, 10)]\n",
    "\n",
    "from random import shuffle"
   ]
  },
  {
   "cell_type": "code",
   "execution_count": 7,
   "metadata": {},
   "outputs": [],
   "source": [
    "shuffle(colors)"
   ]
  },
  {
   "cell_type": "markdown",
   "metadata": {},
   "source": [
    "# Clustering"
   ]
  },
  {
   "cell_type": "markdown",
   "metadata": {},
   "source": [
    "## Split the clusters which have a temporal gap"
   ]
  },
  {
   "cell_type": "markdown",
   "metadata": {},
   "source": [
    "### IQR-plotting\n",
    "\n",
    "For each sub-cluster, plot the quantile boxes with whistkers.\n",
    "\n",
    "**Notes**\n",
    "* the boxes usually capture the baseline of the underlying stay\n",
    "* the forward and backward clusters\n",
    "    * usually the same clusters in the stays with similar IQRs\n",
    "    * usually different in the "
   ]
  },
  {
   "cell_type": "markdown",
   "metadata": {},
   "source": [
    "### From here\n",
    "\n",
    "At this point, it seems that the basic clusters are formed. \n",
    "\n",
    "Next, use the IQRs of these clusters as the new bounds for extending the cluster: essentially using the extensible box method.\n",
    "\n",
    "Note that the IQR can be larger than the allow distance threshold; the box would therefore need to be the smaller of the two but with the same mean and/or median\n",
    "\n",
    "### Summary\n",
    "\n",
    "1. `get_clusters_x` finds the clusters based on nearness of events in space and time\n",
    "2. `merge_clusters` merges neraby clusters based on ...\n",
    "3. `merge_clusters_2`  merges neraby clusters based on ...\n",
    "4. `extend_clusters` extend the clusters\n",
    "5. `separate_clusters` break the overlapping clusters and then re-merge\n",
    "6. `merge_clusters_2` merge the separated clusters\n",
    "7. `intersect` the forward and backward clusters\n",
    "\n",
    "### Notes\n",
    "\n",
    "Mostly, the results are good: more than 80% of the trajectories have prec and/or recall above 0.8\n",
    "\n",
    "The main issue\n",
    "* loss of precision due to non-stays being identified\n",
    "    * this (loss) is increased with higher event density but compensated by an increase in recall\n",
    "        * since many clusters are identified and the stay events have a higher probability of being classified as stay events.\n",
    "<br/>\n",
    "\n",
    "**TODO** since stay events are classified and not the accuracy of the stays, it would be useful to have a measure of the stay accuracy: _ie_ once a stay is identified, how much of that stay is correctly classified."
   ]
  },
  {
   "cell_type": "code",
   "execution_count": 8,
   "metadata": {},
   "outputs": [],
   "source": [
    "from helper__3stays_v3_scripts import switch_indices"
   ]
  },
  {
   "cell_type": "code",
   "execution_count": 9,
   "metadata": {},
   "outputs": [],
   "source": [
    "from synthetic_data.plotting import plot_trajectory, add_plot_trajectory, add_plot_seg_boxes"
   ]
  },
  {
   "cell_type": "code",
   "execution_count": 10,
   "metadata": {},
   "outputs": [],
   "source": [
    "from helper__3stays_v3_scripts__plotting import plot_cluster_boxplots, add_plot_cluster_boxplots"
   ]
  },
  {
   "cell_type": "code",
   "execution_count": 11,
   "metadata": {},
   "outputs": [],
   "source": [
    "from helper__3stays_v3_scripts__eval import get_segments_scores"
   ]
  },
  {
   "cell_type": "code",
   "execution_count": 12,
   "metadata": {},
   "outputs": [],
   "source": [
    "print_clusts = lambda cluster_list : [print(f\"[{c[0]:4d},{c[-1]:4d}]\") for c in cluster_list]\n",
    "#print_ctimes = lambda cluster_list : [print(f\"[{time_arr[c[0]]:6.3f},{time_arr[c[-1]]:6.3f}]\") for c in cluster_list]\n",
    "#print_ctdiff = lambda cluster_list : [print(f\"{time_arr[c[-1]] - time_arr[c[0]]:6.3f}\") for c in cluster_list]\n",
    "#print_times = lambda l: list(map(lambda x: f\"{x:6.3f}\",l))"
   ]
  },
  {
   "cell_type": "markdown",
   "metadata": {},
   "source": [
    "# Start here"
   ]
  },
  {
   "cell_type": "code",
   "execution_count": 13,
   "metadata": {},
   "outputs": [],
   "source": [
    "from synthetic_data.trajectory import get_stay_segs, get_adjusted_stays\n",
    "#from synthetic_data.trajectory_class import get_rand_traj\n",
    "from synthetic_data.plotting import plot_trajectory, add_plot_seg_boxes\n",
    "\n",
    "from synthetic_data.trajectory_class import get_trajectory\n",
    "#from synthetic_data.trajectory import get_stay\n",
    "\n",
    "dsec = 1/3600.0\n",
    "t_total = np.arange(0,24,dsec)"
   ]
  },
  {
   "cell_type": "code",
   "execution_count": 14,
   "metadata": {},
   "outputs": [],
   "source": [
    "from synthetic_data.canonical_stays import get3e, get3"
   ]
  },
  {
   "cell_type": "code",
   "execution_count": 15,
   "metadata": {},
   "outputs": [],
   "source": [
    "from helper__get_clusters import get_clusters_1, get_clusters_2, get_clusters_3, get_clusters_4"
   ]
  },
  {
   "cell_type": "code",
   "execution_count": 16,
   "metadata": {},
   "outputs": [],
   "source": [
    "time_thresh = 1/6\n",
    "dist_thresh=0.25"
   ]
  },
  {
   "cell_type": "code",
   "execution_count": 17,
   "metadata": {},
   "outputs": [
    {
     "name": "stdout",
     "output_type": "stream",
     "text": [
      "Event frac. =  0.002\n",
      "Dupli. frac. =  0.300\n"
     ]
    }
   ],
   "source": [
    "rand_range = lambda min_, max_, size: (max_-min_)*np.random.random_sample(size=size) + min_\n",
    "\n",
    "event_frac = rand_range(0.01,0.001, 1)[0]\n",
    "duplicate_frac = 0.30 #rand_range(1,0.3,0.05)[0]\n",
    "\n",
    "print(f\"Event frac. = {event_frac:6.3f}\\nDupli. frac. = {duplicate_frac:6.3f}\")\n",
    "\n",
    "configs = {\n",
    "    'time_thresh':1/6,\n",
    "    'dist_thresh':0.5,\n",
    "    'event_frac':event_frac,\n",
    "    'duplicate_frac':duplicate_frac,    \n",
    "    'noise_min':0.02,\n",
    "    'noise_max':0.15\n",
    "}"
   ]
  },
  {
   "cell_type": "code",
   "execution_count": 18,
   "metadata": {},
   "outputs": [
    {
     "name": "stdout",
     "output_type": "stream",
     "text": [
      "Event frac. =  0.003\n",
      "Dupli. frac. =  0.300\n"
     ]
    }
   ],
   "source": [
    "event_frac = rand_range(0.01,0.001, 1)[0]\n",
    "duplicate_frac = 0.30 #rand_range(1,0.3,0.05)[0]\n",
    "\n",
    "print(f\"Event frac. = {event_frac:6.3f}\\nDupli. frac. = {duplicate_frac:6.3f}\")\n",
    "\n",
    "configs = {\n",
    "    'time_thresh':1/6,\n",
    "    'dist_thresh':0.5,\n",
    "    'event_frac':event_frac,\n",
    "    'duplicate_frac':duplicate_frac,    \n",
    "    'noise_min':0.02,\n",
    "    'noise_max':0.15\n",
    "}"
   ]
  },
  {
   "cell_type": "code",
   "execution_count": 19,
   "metadata": {},
   "outputs": [
    {
     "name": "stdout",
     "output_type": "stream",
     "text": [
      "2.4192151186447797 5.6293364796478755 -3.5413024662478043\n",
      "[0] False\n",
      "Failed\n"
     ]
    },
    {
     "data": {
      "image/png": "[encoded data removed]",
      "text/plain": [
       "<Figure size 1440x360 with 1 Axes>"
      ]
     },
     "metadata": {
      "needs_background": "light"
     },
     "output_type": "display_data"
    }
   ],
   "source": [
    "x_dist = rand_range(0.52,5.0, 10)[0]\n",
    "mid_len = rand_range(0.2, 8, 10)[0]\n",
    "shift = rand_range(-5, 5, 21)[0]\n",
    "\n",
    "print(x_dist, mid_len, shift)\n",
    "val = np.random.randint(0,2,1)\n",
    "print(val, bool(val))\n",
    "if val:\n",
    "    stays = get3(x_dist, mid_len, shift)\n",
    "else:\n",
    "    stays = get3e(x_dist, mid_len, shift)    \n",
    "\n",
    "continuation = True\n",
    "n = 0\n",
    "while continuation:\n",
    "    try:\n",
    "        time_arr, raw_arr, noise_arr, segments = get_trajectory(stays, t_total, configs)\n",
    "        continuation = False\n",
    "    except:\n",
    "        print(\"Failed\")\n",
    "        if n > 10: \n",
    "            continuation = False\n",
    "        else:\n",
    "            n+=1\n",
    "        pass\n",
    "t_segs, x_segs = get_stay_segs(get_adjusted_stays(segments, time_arr))\n",
    "\n",
    "ax = plot_trajectory(time_arr, raw_arr, noise_arr, t_segs, x_segs, dist_thresh);\n",
    "add_plot_seg_boxes(t_segs, x_segs, dist_thresh, ax)\n",
    "ax.set_xlim([5.75,18.25]);"
   ]
  },
  {
   "cell_type": "code",
   "execution_count": 20,
   "metadata": {},
   "outputs": [],
   "source": [
    "from helper__3stays_v3_scripts import get_extended_clusters, separate_clusters\n",
    "from helper__gaps import merge_clusters_combo\n",
    "from helper__metric_box__explore import eval_synth_data"
   ]
  },
  {
   "cell_type": "code",
   "execution_count": 21,
   "metadata": {
    "code_folding": [
     0,
     13,
     18,
     27,
     40,
     56,
     64,
     84,
     90
    ]
   },
   "outputs": [],
   "source": [
    "def split_list( l1, l2): \n",
    "    \n",
    "    \"\"\"\n",
    "    Usage:\n",
    "    split_list(range(10), list(range(4,7)))\n",
    "    ([0, 1, 2, 3], [4, 5, 6], [7, 8, 9])\n",
    "    \"\"\"\n",
    "    \n",
    "    if len(l1) < len(l2):\n",
    "        return ([e for e in l2 if e < min(l1)], l1, [e for e in l2 if e > max(l1)])\n",
    "    else:\n",
    "        return ([e for e in l1 if e < min(l2)], l2, [e for e in l1 if e > max(l2)])        \n",
    "\n",
    "def list_intersection(lst1, lst2): \n",
    "    lst3 = [value for value in lst1 if value in lst2] \n",
    "    return lst3 \n",
    "\n",
    "\n",
    "def contains(a1,a2,b1,b2):\n",
    "    \"\"\"\n",
    "    Check whether one range contains another\n",
    "    \"\"\"    \n",
    "    return ((a1 >= b1) & (a2 <= b2))\n",
    "\n",
    "inter_bounds = lambda p1, p2: intersecting_bounds(p1[0],p1[-1],p2[0],p2[-1])\n",
    "conta_bounds = lambda p1, p2: contains(p1[0],p1[-1],p2[0],p2[-1])\n",
    "\n",
    "def intersecting_bounds(a1,a2,b1,b2):\n",
    "    \"\"\"\n",
    "    Check whether two ranges intersect\n",
    "    \n",
    "    Specifically: b1 < a1 < b2 and a2 > b2\n",
    "    \"\"\"\n",
    "\n",
    "    cond1 = ((a1 >= b1) & (a1 <= b2)) | \\\n",
    "            ((b1 >= a1) & (b1 <= a2))    \n",
    "    \n",
    "    return cond1\n",
    "\n",
    "'''\n",
    "def intersecting_bounds(a1,a2,b1,b2):\n",
    "    \"\"\"\n",
    "    Check whether two ranges intersect\n",
    "    \n",
    "    Specifically: b1 < a1 < b2 and a2 > b2\n",
    "    \"\"\"\n",
    "    print(a1,a2,b1,b2)\n",
    "    \n",
    "    print((a1 >  b1), (a1 <= b2), (a2 >= b2))\n",
    "    print((a1 >= b1), (a1 <  b2), (a2 >  b2))\n",
    "    \n",
    "    cond1 = (((a1 >  b1) & (a1 < b2)) & (a2 > b2)) | \\\n",
    "             (((a1 > b1) & (a1 < b2)) & (a2 > b2))\n",
    "    return cond1\n",
    "'''\n",
    "\n",
    "def get_sorted_keys(clusts):\n",
    "    d = {}\n",
    "    for n, c in enumerate(clusts):\n",
    "        d[n] = len(c)\n",
    "\n",
    "    return [k for k, v in sorted(d.items(), key=lambda item: item[1])]\n",
    "\n",
    "def check_intersecting_clusters_inds(clusters):\n",
    "    m = 0\n",
    "    while (m < len(clusters)):\n",
    "        # Biggest cluster\n",
    "        c1 = clusters[m]\n",
    "        n = m+1\n",
    "        while (n < len(clusters)):\n",
    "\n",
    "            if n == m:\n",
    "                n+=1\n",
    "                continue\n",
    "\n",
    "            c2 = clusters[n]\n",
    "            if inter_bounds(c1,c2):\n",
    "                return True, m,n\n",
    "            else:\n",
    "                n+=1\n",
    "        m+=1\n",
    "    return False, 999, 999\n",
    "\n",
    "def check_intersecting_clusters(clusters):\n",
    "    \n",
    "    result, _ , _ = check_intersecting_clusters_inds(clusters)\n",
    " \n",
    "    return result\n",
    "\n",
    "def separate_clusters_hier(clusters, verbose=False):\n",
    "    \"\"\"\n",
    "    \n",
    "    Test:\n",
    "    clusts = [list(range(2,4)), list(range(8)), list(range(4,8)), list(range(6,10))]\n",
    "    separate_clusters_hier(clusts)\n",
    "    [[0, 1], [2, 3], [4, 5], [6, 7], [8, 9]]\n",
    "    \"\"\"    \n",
    "    # Check if any clusters intersect\n",
    "    new_clusts = clusters.copy()\n",
    "    \n",
    "    result, m, n = check_intersecting_clusters_inds(new_clusts)\n",
    "    \n",
    "    if verbose: print(result)    \n",
    "    \n",
    "    if result:\n",
    "        if verbose: print(m, n)\n",
    "    else:\n",
    "        return clusters\n",
    "\n",
    "    while result:\n",
    "        \n",
    "        if verbose: print_clusts(new_clusts)\n",
    "        if verbose: print(len(new_clusts))\n",
    "        c1 = new_clusts.pop(m)\n",
    "        if m < n: \n",
    "            n-=1\n",
    "        c2 = new_clusts.pop(n)\n",
    "\n",
    "        if verbose: print(len(new_clusts))\n",
    "        if verbose: print(f\"{m:4d}: [{c1[0]:4d},{c1[-1]:4d}] and [{c2[0]:4d},{c2[-1]:4d}]\")\n",
    "\n",
    "        '''sc1 = set(c1)\n",
    "        sc2 = set(c2)\n",
    "\n",
    "        intersexion = sc1.intersection(sc2)\n",
    "\n",
    "        sc1_diff = sc1.difference(intersexion)\n",
    "        sc2_diff = sc2.difference(intersexion)                \n",
    "        '''\n",
    "        \n",
    "        sc1_diff, intersec, sc2_diff = split_list(c1,c2)        \n",
    "        \n",
    "        #sc1_diff = list(sc1_diff)\n",
    "        if len(sc1_diff) > 0:\n",
    "            new_clusts.append(sc1_diff)\n",
    "        if verbose: print(\"len(sc1_diff)\",len(sc1_diff))\n",
    "        \n",
    "        #intersexion = list(intersexion)\n",
    "        if len(intersec) > 0:\n",
    "            new_clusts.append(intersec)\n",
    "        if verbose: print(\"len(intersexion)\",len(intersec))\n",
    "        \n",
    "        #sc2_diff = list(sc2_diff)\n",
    "        if len(sc2_diff) > 0:\n",
    "            new_clusts.append(sc2_diff)\n",
    "        if verbose: print(\"len(sc2_diff)\",len(sc2_diff))\n",
    "        \n",
    "        if verbose: print(len(new_clusts))\n",
    "        if verbose: print_clusts(new_clusts) \n",
    "        \n",
    "        result, m, n = check_intersecting_clusters_inds(new_clusts)\n",
    "        if verbose: print(result,m,n)\n",
    "        if verbose: print()\n",
    "        \n",
    "    return new_clusts"
   ]
  },
  {
   "cell_type": "code",
   "execution_count": 22,
   "metadata": {},
   "outputs": [],
   "source": [
    "from helper__metric_box__explore import get_iqr_mask"
   ]
  },
  {
   "cell_type": "code",
   "execution_count": 23,
   "metadata": {
    "code_folding": [
     0
    ]
   },
   "outputs": [],
   "source": [
    "def contiguous_sublists(lst1, lst2): \n",
    "    \"\"\"\n",
    "    Split intersecting and interleaved lists \n",
    "    into maximal contiguous sublists\n",
    "    \"\"\"\n",
    "    #print(lst1, lst2)\n",
    "    # Gather all unique elements together and order\n",
    "    lst3 = sorted(list(set(lst1+lst2)))\n",
    "\n",
    "    # Classifying function according to origin and intersections\n",
    "    def get_flag(e):\n",
    "        if (e in lst1) & (e in lst2):\n",
    "            return 0\n",
    "        elif (e in lst1):\n",
    "            return 1\n",
    "        else:\n",
    "            return 2\n",
    "    \n",
    "    # output list\n",
    "    all_lists = []\n",
    "    \n",
    "    # Initializations\n",
    "    e = lst3[0]    \n",
    "    flag = get_flag(e)\n",
    "    lst = [e]\n",
    "    \n",
    "    # Walk through all elements\n",
    "    for e in lst3[1:]:\n",
    "        flag_ = get_flag(e)\n",
    "        \n",
    "        if flag == flag_:\n",
    "            lst.append(e)\n",
    "        else:\n",
    "            all_lists.append(lst)\n",
    "            lst = [e]\n",
    "            flag = flag_\n",
    "    \n",
    "    # close the last list\n",
    "    all_lists.append(lst)        \n",
    "    \n",
    "    # Sort the lists (maybe unnecessary)\n",
    "    #all_lists = sorted([l for l in all_lists if l != []])\n",
    "    \n",
    "    return all_lists    "
   ]
  },
  {
   "cell_type": "code",
   "execution_count": 24,
   "metadata": {
    "code_folding": [
     0
    ]
   },
   "outputs": [],
   "source": [
    "def separate_embedded_clusters(clusters, verbose=False):\n",
    "    \"\"\"\n",
    "    \n",
    "    Test:\n",
    "    clusts = [list(range(5)), list(range(2,4)), list(range(8)), list(range(4,8)), list(range(6,10))]\n",
    "    separate_embedded_clusters(clusts)\n",
    "    [[0, 1], [2, 3], [4, 5], [6, 7], [8, 9]]\n",
    "    \"\"\"    \n",
    "    # Check if any clusters intersect\n",
    "    new_clusts = clusters.copy()\n",
    "    \n",
    "    result, m, n = check_intersecting_clusters_inds(new_clusts)\n",
    "    \n",
    "    if verbose: print(result)    \n",
    "    \n",
    "    if result:\n",
    "        if verbose: print(m, n)\n",
    "    else:\n",
    "        return clusters\n",
    "\n",
    "    while result:\n",
    "        \n",
    "        #if verbose: print_clusts(new_clusts)\n",
    "        if verbose: print(len(new_clusts))\n",
    "        c1 = new_clusts.pop(m)\n",
    "        if m < n: \n",
    "            n-=1\n",
    "        c2 = new_clusts.pop(n)\n",
    "\n",
    "        if verbose: print(len(new_clusts))\n",
    "        if verbose: print(f\"{m:4d}: [{c1[0]:4d},{c1[-1]:4d}] and [{c2[0]:4d},{c2[-1]:4d}]\")\n",
    "\n",
    "        '''sc1 = set(c1)\n",
    "        sc2 = set(c2)\n",
    "\n",
    "        intersexion = sc1.intersection(sc2)\n",
    "\n",
    "        sc1_diff = sc1.difference(intersexion)\n",
    "        sc2_diff = sc2.difference(intersexion)                \n",
    "        '''\n",
    "        \n",
    "        new_clusts.extend(contiguous_sublists(c1, c2))\n",
    "        '''        \n",
    "        sc1_diff, intersec, sc2_diff = split_list(c1,c2)        \n",
    "        \n",
    "        #sc1_diff = list(sc1_diff)\n",
    "        if len(sc1_diff) > 0:\n",
    "            new_clusts.append(sc1_diff)\n",
    "        if verbose: print(\"len(sc1_diff)\",len(sc1_diff))\n",
    "        \n",
    "        #intersexion = list(intersexion)\n",
    "        if len(intersec) > 0:\n",
    "            new_clusts.append(intersec)\n",
    "        if verbose: print(\"len(intersexion)\",len(intersec))\n",
    "        \n",
    "        #sc2_diff = list(sc2_diff)\n",
    "        if len(sc2_diff) > 0:\n",
    "            new_clusts.append(sc2_diff)\n",
    "        if verbose: print(\"len(sc2_diff)\",len(sc2_diff))\n",
    "        '''\n",
    "        if verbose: print(len(new_clusts))\n",
    "        #if verbose: print_clusts(new_clusts) \n",
    "        \n",
    "        result, m, n = check_intersecting_clusters_inds(new_clusts)\n",
    "        if verbose: print(result,m,n)\n",
    "        if verbose: print()\n",
    "\n",
    "    return sorted(new_clusts)            "
   ]
  },
  {
   "cell_type": "code",
   "execution_count": 25,
   "metadata": {
    "code_folding": [
     0
    ]
   },
   "outputs": [],
   "source": [
    "def get_iqr_trimmed_clusters(x_arr, clusters, iqr_factor=1.5, within=True, verbose=False):\n",
    "    new_clusters = []\n",
    "    for c in clusters:\n",
    "        cc = get_iqr_mask(x_arr[c], c, iqr_factor, within)[0]\n",
    "        \n",
    "        ccc = list(range(cc[0], cc[-1]+1))\n",
    "        \n",
    "        if verbose: print(f\"[{c[0]:4d},{c[-1]:4d}] vs. [{cc[0]:4d},{cc[-1]:4d}]\")\n",
    "        #f\" vs. [{ccc[0]:4d},{ccc[-1]:4d}]\" )\n",
    "\n",
    "        new_clusters.append(ccc)\n",
    "        \n",
    "    return new_clusters"
   ]
  },
  {
   "cell_type": "code",
   "execution_count": 26,
   "metadata": {},
   "outputs": [
    {
     "name": "stdout",
     "output_type": "stream",
     "text": [
      "Event frac. =  0.006\n",
      "Dupli. frac. =  0.300\n",
      " 3.414,  3.772, -1.696\n",
      "[1] True\n",
      "Stage 1\n",
      "6 Clusters:\n",
      "[   0,  51]\n",
      "[  52,  59]\n",
      "[  62, 159]\n",
      "[ 161, 163]\n",
      "[ 164, 167]\n",
      "[ 168, 296]\n",
      "\n",
      "Stage 2\n",
      "3 Clusters:\n",
      "[   0,  51]\n",
      "[  60, 160]\n",
      "[ 168, 296]\n",
      "\n",
      "Stage 3\n",
      "False\n",
      "3 Clusters:\n",
      "[   0,  51]\n",
      "[  60, 160]\n",
      "[ 168, 296]\n",
      "\n",
      "Stage 4\n",
      "No update\n",
      "\n",
      "Stage 5\n",
      "3 Clusters:\n",
      "[   0,  51]\n",
      "[  60, 160]\n",
      "[ 169, 296]\n",
      "\n",
      "Predicted 3 of 3 true clusters \n",
      "\tCluster   0, [   0,  46]\n",
      "\t\toverlaps with 1 pred_cluster(s):\n",
      "\t\t\t[   0,  51]\n",
      "\t\t\tprecision:  0.904;\n",
      "\t\t\trecall:  1.000\n",
      "\n",
      "\tCluster   1, [  61, 159]\n",
      "\t\toverlaps with 1 pred_cluster(s):\n",
      "\t\t\t[  60, 160]\n",
      "\t\t\tprecision:  0.980;\n",
      "\t\t\trecall:  1.000\n",
      "\n",
      "\tCluster   2, [ 178, 296]\n",
      "\t\toverlaps with 1 pred_cluster(s):\n",
      "\t\t\t[ 169, 296]\n",
      "\t\t\tprecision:  0.930;\n",
      "\t\t\trecall:  1.000\n",
      "\n",
      "Stats: \n",
      "\tmin. precision:  0.904; min. recall:  1.000\n",
      "\tavg. precision:  0.938; avg. recall:  1.000\n",
      "\ttot. precision:  0.943; tot. recall:  1.000\n",
      "\n",
      "Durations: \n",
      "tot. trajectory duration: 11.906 \n",
      "tot. true stays duration: 10.434 (0.876%) \n",
      "tot. pred stays duration: 11.141 (0.936%)\n"
     ]
    },
    {
     "data": {
      "image/png": "[encoded data removed]",
      "text/plain": [
       "<Figure size 1440x360 with 3 Axes>"
      ]
     },
     "metadata": {
      "needs_background": "light"
     },
     "output_type": "display_data"
    }
   ],
   "source": [
    "event_frac = rand_range(0.01,0.001, 1)[0]\n",
    "duplicate_frac = 0.30 #rand_range(1,0.3,0.05)[0]\n",
    "\n",
    "print(f\"Event frac. = {event_frac:6.3f}\\nDupli. frac. = {duplicate_frac:6.3f}\")\n",
    "\n",
    "configs = {\n",
    "    'time_thresh':1/6,\n",
    "    'dist_thresh':0.5,\n",
    "    'event_frac':event_frac,\n",
    "    'duplicate_frac':duplicate_frac,    \n",
    "    'noise_min':0.02,\n",
    "    'noise_max':0.15\n",
    "}\n",
    "x_dist = rand_range(0.52,5.0, 10)[0]\n",
    "mid_len = rand_range(0.2, 8, 10)[0]\n",
    "shift = rand_range(-5, 5, 21)[0]\n",
    "\n",
    "print(f\"{x_dist:6.3f}, {mid_len:6.3f}, {shift:6.3f}\")\n",
    "val = np.random.randint(0,2,1)\n",
    "print(val, bool(val))\n",
    "if val:\n",
    "    stays = get3(x_dist, mid_len, shift)\n",
    "else:\n",
    "    stays = get3e(x_dist, mid_len, shift)    \n",
    "\n",
    "continuation = True\n",
    "n = 0\n",
    "while continuation:\n",
    "    try:\n",
    "        time_arr, raw_arr, noise_arr, segments = get_trajectory(stays, t_total, configs)\n",
    "        continuation = False\n",
    "    except:\n",
    "        print(\"Failed\")\n",
    "        if n > 10: \n",
    "            continuation = False\n",
    "        else:\n",
    "            n+=1\n",
    "        pass\n",
    "\n",
    "t_segs, x_segs = get_stay_segs(get_adjusted_stays(segments, time_arr))\n",
    "\n",
    "verbose = True\n",
    "\n",
    "if verbose: print(\"Stage 1\")\n",
    "clusters_1 = get_clusters_3(time_arr, noise_arr, dist_thresh, time_thresh)\n",
    "print(len(clusters_1), \"Clusters:\")\n",
    "print_clusts(clusters_1);\n",
    "print()\n",
    "\n",
    "if verbose: print(\"Stage 2\")\n",
    "clusters_2 = get_extended_clusters(time_arr, noise_arr, clusters_1, time_thresh)\n",
    "print(len(clusters_2), \"Clusters:\")\n",
    "print_clusts(clusters_2);\n",
    "print()\n",
    "\n",
    "if verbose: print(\"Stage 3\")\n",
    "#clusters_3 = separate_clusters_hier(clusters_2, True)\n",
    "if clusters_2 != clusters_1:\n",
    "    clusters_3 = separate_embedded_clusters(clusters_2, True)\n",
    "    print(len(clusters_3), \"Clusters:\")\n",
    "    print_clusts(clusters_3);\n",
    "else: \n",
    "    print(\"No update\")    \n",
    "    clusters_3 = clusters_2.copy()\n",
    "print()    \n",
    "    \n",
    "if verbose: print(\"Stage 4\")\n",
    "if clusters_3 != clusters_2:    \n",
    "    clusters_4 = merge_clusters_combo(time_arr, noise_arr, clusters_3, dist_thresh, time_thresh)\n",
    "    print(len(clusters_4), \"Clusters:\")\n",
    "    print_clusts(clusters_4);    \n",
    "else: \n",
    "    print(\"No update\")\n",
    "    clusters_4 = clusters_3.copy()\n",
    "print()\n",
    "\n",
    "if verbose: print(\"Stage 5\")\n",
    "clusters_4 = sorted([sorted(c) for c in clusters_4])\n",
    "iqr_trim = True\n",
    "if iqr_trim:        \n",
    "    clusters_5 = get_iqr_trimmed_clusters(noise_arr, clusters_4, 1.5);\n",
    "    print(len(clusters_5), \"Clusters:\")\n",
    "    print_clusts(clusters_5);\n",
    "else: \n",
    "    print(\"No IQR-trim\")\n",
    "    clusters_5 = clusters_4.copy()\n",
    "print()\n",
    "\n",
    "get_segments_scores(time_arr, segments, clusters_5, True)\n",
    "\n",
    "ylim = [noise_arr.min()-2*dist_thresh, noise_arr.max()+2*dist_thresh]\n",
    "ax = plot_cluster_boxplots(time_arr, raw_arr, noise_arr, t_segs, x_segs, clusters_5, switch_indices(clusters_5, time_arr.shape[0]), configs)\n",
    "ax.set_ylim(ylim)\n",
    "ax.set_title(\"Stage. 5\", fontsize=24);"
   ]
  },
  {
   "cell_type": "code",
   "execution_count": 27,
   "metadata": {
    "scrolled": false
   },
   "outputs": [
    {
     "data": {
      "image/png": "[encoded data removed]",
      "text/plain": [
       "<Figure size 1440x360 with 3 Axes>"
      ]
     },
     "metadata": {
      "needs_background": "light"
     },
     "output_type": "display_data"
    },
    {
     "data": {
      "image/png": "[encoded data removed]",
      "text/plain": [
       "<Figure size 1440x360 with 3 Axes>"
      ]
     },
     "metadata": {
      "needs_background": "light"
     },
     "output_type": "display_data"
    },
    {
     "data": {
      "image/png": "[encoded data removed]",
      "text/plain": [
       "<Figure size 1440x360 with 3 Axes>"
      ]
     },
     "metadata": {
      "needs_background": "light"
     },
     "output_type": "display_data"
    },
    {
     "data": {
      "image/png": "[encoded data removed]",
      "text/plain": [
       "<Figure size 1440x360 with 3 Axes>"
      ]
     },
     "metadata": {
      "needs_background": "light"
     },
     "output_type": "display_data"
    },
    {
     "data": {
      "image/png": "[encoded data removed]",
      "text/plain": [
       "<Figure size 1440x360 with 3 Axes>"
      ]
     },
     "metadata": {
      "needs_background": "light"
     },
     "output_type": "display_data"
    }
   ],
   "source": [
    "ylim = [noise_arr.min()-2*dist_thresh, noise_arr.max()+2*dist_thresh]\n",
    "\n",
    "\n",
    "ax = plot_cluster_boxplots(time_arr, raw_arr, noise_arr, t_segs, x_segs, clusters_1, switch_indices(clusters_1, time_arr.shape[0]), configs)\n",
    "ax.set_ylim(ylim);\n",
    "ax.set_title(\"Stage. 1\", fontsize=24)\n",
    "\n",
    "ax = plot_cluster_boxplots(time_arr, raw_arr, noise_arr, t_segs, x_segs, clusters_2, switch_indices(clusters_2, time_arr.shape[0]), configs)\n",
    "ax.set_ylim(ylim)\n",
    "ax.set_title(\"Stage. 2\", fontsize=24);\n",
    "\n",
    "ax = plot_cluster_boxplots(time_arr, raw_arr, noise_arr, t_segs, x_segs, clusters_3, switch_indices(clusters_3, time_arr.shape[0]), configs)\n",
    "ax.set_ylim(ylim)\n",
    "ax.set_title(\"Stage. 3\", fontsize=24);\n",
    "\n",
    "ax = plot_cluster_boxplots(time_arr, raw_arr, noise_arr, t_segs, x_segs, clusters_4, switch_indices(clusters_4, time_arr.shape[0]), configs)\n",
    "ax.set_ylim(ylim)\n",
    "ax.set_title(\"Stage. 4\", fontsize=24);\n",
    "\n",
    "ax = plot_cluster_boxplots(time_arr, raw_arr, noise_arr, t_segs, x_segs, clusters_5, switch_indices(clusters_5, time_arr.shape[0]), configs)\n",
    "ax.set_ylim(ylim)\n",
    "ax.set_title(\"Stage. 5\", fontsize=24);"
   ]
  },
  {
   "cell_type": "code",
   "execution_count": null,
   "metadata": {},
   "outputs": [],
   "source": []
  },
  {
   "cell_type": "code",
   "execution_count": null,
   "metadata": {},
   "outputs": [],
   "source": []
  },
  {
   "cell_type": "markdown",
   "metadata": {},
   "source": [
    "\n",
    "### Notes\n",
    "#### 3 clusters\n",
    "* overlapping clusters\n",
    "    * embedded and also identitcal clusters\n",
    "    * **Notes**\n",
    "        * usually have the same median and mean (\"M&M\"), but not always\n",
    "    * overlap on edge between two spatially close clusters\n",
    "        * maybe not sharing M&M,\n",
    "    * megacluster when two clusters share an $x$ (rare)\n",
    "        * should be avoidable with gap durations\n",
    "* missing short clusters\n",
    "    * these usually occur on the edges\n",
    "    * if using a IQR-postfilter, many of these will get dropped\n",
    "    \n",
    "#### 4 clusters\n",
    "* mis-identified cluster, aka \"floater\"\n",
    "    * part of a travel\n",
    "        * in the canonical 3-stays, these are always between larger stays\n",
    "        * **Todo** \n",
    "            * _check if these have insufficient events with the IQR-mask_\n",
    "            * _check if these have insufficient duration with the IQR-mask_            \n",
    "    * seems to be short in duration\n",
    "* overlapping clusters\n",
    "    * embedded and also identitcal clusters\n",
    "    * **Notes**\n",
    "        * usually have the same median and mean (\"M&M\"), but not always\n",
    "    * overlap on edge between two spatially close clusters\n",
    "        * maybe not sharing M&M,\n",
    "    * megacluster when two clusters share an $x$ (rare)\n",
    "        * should be avoidable with gap durations\n",
    "    * missing short clusters and overlaps/duplicates"
   ]
  },
  {
   "cell_type": "markdown",
   "metadata": {},
   "source": [
    "#### Another way"
   ]
  },
  {
   "cell_type": "code",
   "execution_count": 39,
   "metadata": {},
   "outputs": [],
   "source": [
    "def get_rand_canonical_vars():\n",
    "    \n",
    "    rand_range = lambda min_, max_, size: (max_-min_)*np.random.random_sample(size=size) + min_\n",
    "\n",
    "    event_frac = rand_range(0.05,0.001, 1)[0]\n",
    "    duplicate_frac = 0.30 #rand_range(1,0.3,0.05)[0]\n",
    "\n",
    "    configs = {\n",
    "        'time_thresh':1/6,\n",
    "        'dist_thresh':0.5,\n",
    "        'event_frac':event_frac,\n",
    "        'duplicate_frac':duplicate_frac,    \n",
    "        'noise_min':0.02,\n",
    "        'noise_max':0.15\n",
    "    }\n",
    "\n",
    "    x_dist = rand_range(0.52,5.0, 10)[0]    \n",
    "    x_dist = (-1)**np.random.randint(0,2,1)[0]*x_dist\n",
    "    \n",
    "    mid_len = rand_range(0.2, 8, 10)[0]\n",
    "    shift = rand_range(-5, 5, 21)[0]\n",
    "    \n",
    "    return configs, x_dist, mid_len, shift"
   ]
  },
  {
   "cell_type": "code",
   "execution_count": 40,
   "metadata": {},
   "outputs": [
    {
     "data": {
      "text/plain": [
       "({'time_thresh': 0.16666666666666666,\n",
       "  'dist_thresh': 0.5,\n",
       "  'event_frac': 0.00993921266714591,\n",
       "  'duplicate_frac': 0.3,\n",
       "  'noise_min': 0.02,\n",
       "  'noise_max': 0.15},\n",
       " 3.43791953533256,\n",
       " 3.5874156224201084,\n",
       " 0.6183960223997822)"
      ]
     },
     "execution_count": 40,
     "metadata": {},
     "output_type": "execute_result"
    }
   ],
   "source": [
    "get_rand_canonical_vars()"
   ]
  },
  {
   "cell_type": "code",
   "execution_count": 30,
   "metadata": {},
   "outputs": [
    {
     "name": "stdout",
     "output_type": "stream",
     "text": [
      "[Errno 17] File exists: './testdata_training_set/'\n"
     ]
    }
   ],
   "source": [
    "from synthetic_data.trajectory_class import pickle_trajectory\n",
    "from datetime import datetime\n",
    "\n",
    "import os\n",
    "\n",
    "date_tag = datetime.today().strftime('%Y%m%d')\n",
    "data_dir = f\"./testdata_{date_tag}_4_no_iqr_and_wi_ranges_and_wi_shift/\"\n",
    "\n",
    "data_dir = f\"./testdata_training_set/\"\n",
    "\n",
    "try:\n",
    "    os.makedirs(data_dir)\n",
    "except OSError as e:\n",
    "    print(e)"
   ]
  },
  {
   "cell_type": "code",
   "execution_count": 35,
   "metadata": {},
   "outputs": [
    {
     "data": {
      "text/plain": [
       "[{'type': 'stay',\n",
       "  'loc': -4.6854080702528025,\n",
       "  'start': 0.0,\n",
       "  'end': 9.951545717712248,\n",
       "  'slope': 0},\n",
       " {'type': 'stay',\n",
       "  'loc': 3.8344802059609453,\n",
       "  'start': 11.326547734589427,\n",
       "  'end': 18.082008348044546,\n",
       "  'slope': 0},\n",
       " {'type': 'stay',\n",
       "  'loc': 2.495515556675466,\n",
       "  'start': 18.298100277141174,\n",
       "  'end': 24.0,\n",
       "  'slope': 0}]"
      ]
     },
     "execution_count": 35,
     "metadata": {},
     "output_type": "execute_result"
    }
   ],
   "source": []
  },
  {
   "cell_type": "code",
   "execution_count": 36,
   "metadata": {},
   "outputs": [
    {
     "data": {
      "text/plain": [
       "({'time_thresh': 0.16666666666666666,\n",
       "  'dist_thresh': 0.5,\n",
       "  'event_frac': 0.027284562198761575,\n",
       "  'duplicate_frac': 0.3,\n",
       "  'noise_min': 0.02,\n",
       "  'noise_max': 0.15},\n",
       " array([2.93253751]),\n",
       " 5.871359974337586,\n",
       " 4.7439438114438595)"
      ]
     },
     "execution_count": 36,
     "metadata": {},
     "output_type": "execute_result"
    }
   ],
   "source": [
    "get_rand_canonical_vars() "
   ]
  },
  {
   "cell_type": "code",
   "execution_count": null,
   "metadata": {
    "scrolled": false
   },
   "outputs": [
    {
     "name": "stdout",
     "output_type": "stream",
     "text": [
      "  10 of  1000\n",
      "Failed at 0 0\n",
      "Failed at 0 0\n",
      "  20 of  1000\n",
      "  30 of  1000\n",
      "  40 of  1000\n",
      "  50 of  1000\n",
      "  60 of  1000\n",
      "  70 of  1000\n",
      "  80 of  1000\n",
      "  90 of  1000\n",
      " 100 of  1000\n",
      " 110 of  1000\n",
      " 120 of  1000\n",
      " 130 of  1000\n",
      " 140 of  1000\n",
      "Failed at 0 0\n",
      "Failed at 0 0\n",
      " 150 of  1000\n",
      " 160 of  1000\n",
      "Failed at 0 0\n",
      "Failed at 0 0\n",
      "Failed at 0 0\n",
      "Failed at 0 0\n",
      "Failed at 0 0\n",
      "Failed at 0 0\n",
      "Failed at 0 0\n",
      "Failed at 0 0\n",
      "Failed at 0 0\n",
      "Failed at 0 0\n",
      "Failed at 0 0\n",
      "Failed at 0 0\n",
      "Failed at 0 0\n",
      "Failed at 0 0\n",
      "Failed at 0 0\n",
      "Failed at 0 0\n",
      "Failed at 0 0\n",
      "Failed at 0 0\n",
      "Failed at 0 0\n",
      " 170 of  1000\n",
      " 180 of  1000\n",
      " 190 of  1000\n",
      " 200 of  1000\n",
      " 210 of  1000\n",
      " 220 of  1000\n",
      " 230 of  1000\n",
      " 240 of  1000\n",
      " 250 of  1000\n",
      " 260 of  1000\n",
      " 270 of  1000\n",
      " 280 of  1000\n",
      "Failed at 0 0\n",
      "Failed at 0 0\n",
      " 290 of  1000\n",
      "Failed at 0 0\n",
      " 300 of  1000\n",
      " 310 of  1000\n",
      " 320 of  1000\n",
      " 330 of  1000\n",
      " 340 of  1000\n",
      " 350 of  1000\n",
      " 360 of  1000\n",
      " 370 of  1000\n",
      " 380 of  1000\n",
      " 390 of  1000\n",
      " 400 of  1000\n",
      " 410 of  1000\n",
      " 420 of  1000\n",
      " 430 of  1000\n",
      " 440 of  1000\n",
      " 450 of  1000\n",
      " 460 of  1000\n",
      " 470 of  1000\n",
      " 480 of  1000\n",
      " 490 of  1000\n",
      "Failed at 0 0\n",
      " 500 of  1000\n",
      " 510 of  1000\n",
      " 520 of  1000\n",
      " 530 of  1000\n",
      " 540 of  1000\n",
      "Failed at 0 0\n",
      " 550 of  1000\n",
      " 560 of  1000\n",
      " 570 of  1000\n",
      " 580 of  1000\n",
      " 590 of  1000\n",
      "Failed at 0 0\n",
      " 600 of  1000\n",
      " 610 of  1000\n",
      " 620 of  1000\n",
      " 630 of  1000\n",
      "Failed at 0 0\n",
      "Failed at 0 0\n",
      " 640 of  1000\n",
      " 650 of  1000\n",
      "Failed at 0 0\n",
      "Failed at 0 0\n",
      " 660 of  1000\n",
      " 670 of  1000\n",
      "Failed at 0 0\n",
      " 680 of  1000\n",
      "Failed at 0 0\n",
      " 690 of  1000\n",
      " 700 of  1000\n",
      "Failed at 0 0\n",
      " 710 of  1000\n",
      "Failed at 0 0\n",
      " 720 of  1000\n",
      " 730 of  1000\n",
      "Failed at 0 0\n",
      " 740 of  1000\n",
      " 750 of  1000\n",
      "Failed at 0 0\n",
      " 760 of  1000\n",
      " 770 of  1000\n",
      " 780 of  1000\n",
      " 790 of  1000\n",
      " 800 of  1000\n",
      " 810 of  1000\n",
      "Failed at 0 0\n",
      "Failed at 0 0\n",
      "Failed at 0 0\n",
      "Failed at 0 0\n",
      " 820 of  1000\n",
      "Failed at 0 0\n",
      " 830 of  1000\n",
      "Failed at 0 0\n",
      "Failed at 0 0\n",
      "Failed at 0 0\n",
      "Failed at 0 0\n",
      "Failed at 0 0\n",
      "Failed at 0 0\n",
      "Failed at 0 0\n",
      " 840 of  1000\n",
      "Failed at 0 0\n",
      " 850 of  1000\n",
      " 860 of  1000\n",
      "Failed at 0 0\n",
      " 870 of  1000\n",
      " 880 of  1000\n",
      "Failed at 0 0\n",
      " 890 of  1000\n",
      " 900 of  1000\n",
      "Failed at 0 0\n",
      " 910 of  1000\n",
      "Failed at 0 0\n",
      "Failed at 0 0\n",
      "Failed at 0 0\n",
      " 920 of  1000\n",
      " 930 of  1000\n",
      "Failed at 0 0\n",
      " 940 of  1000\n",
      " 950 of  1000\n",
      "Failed at 0 0\n",
      "Failed at 0 0\n",
      "Failed at 0 0\n",
      "Failed at 0 0\n",
      "Failed at 0 0\n",
      "Failed at 0 0\n",
      "Failed at 0 0\n",
      "Failed at 0 0\n",
      "Failed at 0 0\n",
      "Failed at 0 0\n",
      " 960 of  1000\n",
      "Failed at 0 0\n",
      " 970 of  1000\n",
      " 980 of  1000\n",
      " 990 of  1000\n",
      "1000 of  1000\n"
     ]
    }
   ],
   "source": [
    "total = 1000\n",
    "ii = 0\n",
    "while ii < total:\n",
    "            \n",
    "    configs, x_dist, mid_len, shift = get_rand_canonical_vars()          \n",
    "\n",
    "    #if verbose: print(f\"{x_dist:6.3f}, {mid_len:6.3f}, {shift:6.3f}\")\n",
    "\n",
    "    val = np.random.randint(0,2,1)\n",
    "    if val:\n",
    "        stays = get3(x_dist, mid_len, shift)\n",
    "    else:\n",
    "        stays = get3e(x_dist, mid_len, shift)            \n",
    "\n",
    "    continuation = True\n",
    "    m = 0\n",
    "    while continuation:\n",
    "        n = 0\n",
    "        try:\n",
    "            time_arr, raw_arr, noise_arr, segments = get_trajectory(stays, t_total, configs)\n",
    "            t_segs, x_segs = get_stay_segs(get_adjusted_stays(segments, time_arr))\n",
    "            stays_tag = int((x_segs.size)/3)\n",
    "            continuation = False\n",
    "        except:\n",
    "            print(\"Failed at\",m,n)\n",
    "            if n > 10: \n",
    "                continuation = False\n",
    "            else:\n",
    "                n+=1\n",
    "            pass\n",
    "\n",
    "    try:\n",
    "        trajectory_tag = f\"trajectory_{stays_tag}stays__{ii}\"\n",
    "        path_to_file =  data_dir + trajectory_tag\n",
    "        pickle_trajectory(time_arr, raw_arr, noise_arr, segments, path_to_file + \".pkl\")\n",
    "        ii+=1\n",
    "    except:\n",
    "        break\n",
    "        \n",
    "    if ii % 10 == 0:\n",
    "        print(f\"{ii:4d} of {total:5d}\")\n"
   ]
  },
  {
   "cell_type": "code",
   "execution_count": 33,
   "metadata": {},
   "outputs": [
    {
     "name": "stdout",
     "output_type": "stream",
     "text": [
      "  500 of 1000\n",
      "  550 of 1000\n",
      "  600 of 1000\n",
      "  650 of 1000\n",
      "  700 of 1000\n",
      "  750 of 1000\n",
      "  800 of 1000\n",
      "  850 of 1000\n",
      "  900 of 1000\n",
      "  950 of 1000\n"
     ]
    }
   ],
   "source": [
    "import pickle\n",
    "\n",
    "for ii in range(500, 1000):\n",
    "\n",
    "    stays_tag = 3\n",
    "    trajectory_tag = f\"trajectory_{stays_tag}stays__{ii}\"    \n",
    "    path_to_file =  data_dir + trajectory_tag\n",
    "    \n",
    "    trajectory = pickle.load( open(path_to_file + \".pkl\", \"rb\") )    \n",
    "    \n",
    "    segments = trajectory['segments']\n",
    "    t_arr = trajectory['time_arr']\n",
    "    r_arr = trajectory['raw_locs_arr']\n",
    "    x_arr = trajectory['nse_locs_arr']\n",
    "    t_segs, x_segs = get_stay_segs(get_adjusted_stays(segments, t_arr))\n",
    "\n",
    "    ax = plot_trajectory(t_arr, r_arr, x_arr, t_segs, x_segs, dist_thresh);\n",
    "    add_plot_seg_boxes(t_segs, x_segs, dist_thresh, ax)\n",
    "    ax.set_xlim([5.75,18.25]);\n",
    "\n",
    "    ylim = [noise_arr.min()-2*dist_thresh, noise_arr.max()+2*dist_thresh]\n",
    "\n",
    "    plt.savefig(path_to_file + \".png\")\n",
    "    plt.close()\n",
    "    \n",
    "    if ii % 50 == 0:\n",
    "        print(f\"{ii:5d} of 1000\")\n",
    "#'''"
   ]
  },
  {
   "cell_type": "code",
   "execution_count": null,
   "metadata": {
    "scrolled": false
   },
   "outputs": [],
   "source": [
    "lens = []\n",
    "precs = []\n",
    "recs = []\n",
    "\n",
    "precrec_limit = 0.85\n",
    "\n",
    "ii = 0\n",
    "\n",
    "length_criterion_break = False\n",
    "iqr_trim = False\n",
    "verbose = False\n",
    "\n",
    "\n",
    "total = 100\n",
    "\n",
    "while ii < total:\n",
    "            \n",
    "    configs, x_dist, mid_len, shift = get_rand_canonical_vars()          \n",
    "\n",
    "    #if verbose: print(f\"{x_dist:6.3f}, {mid_len:6.3f}, {shift:6.3f}\")\n",
    "\n",
    "    val = np.random.randint(0,2,1)\n",
    "    if val:\n",
    "        stays = get3(x_dist, mid_len, shift)\n",
    "    else:\n",
    "        stays = get3e(x_dist, mid_len, shift)            \n",
    "\n",
    "    continuation = True\n",
    "    m = 0\n",
    "    while continuation:\n",
    "        n = 0\n",
    "        try:\n",
    "            time_arr, raw_arr, noise_arr, segments = get_trajectory(stays, t_total, configs)\n",
    "            t_segs, x_segs = get_stay_segs(get_adjusted_stays(segments, time_arr))\n",
    "            continuation = False\n",
    "        except:\n",
    "            print(\"Failed at\",m,n)\n",
    "            if n > 10: \n",
    "                continuation = False\n",
    "            else:\n",
    "                n+=1\n",
    "            pass\n",
    "\n",
    "        try:\n",
    "\n",
    "            if verbose: print(\"Stage 1: get mini-clusters and merging\")\n",
    "            clusters_1 = get_clusters_3(time_arr, noise_arr, dist_thresh, time_thresh)\n",
    "            if verbose: print(len(clusters_1), \"Clusters:\")\n",
    "            if verbose: print_clusts(clusters_1);\n",
    "            if verbose: print()\n",
    "            all_clusters.append(clusters_1)\n",
    "\n",
    "            if verbose: print(\"Stage 2: extend clusters and IQR-filter\")\n",
    "            clusters_1 = sorted([sorted(c) for c in clusters_1])                        \n",
    "            clusters_2 = get_extended_clusters(time_arr, noise_arr, clusters_1, time_thresh)\n",
    "            if verbose: print(len(clusters_2), \"Clusters:\")\n",
    "            if verbose: print_clusts(clusters_2);\n",
    "            if verbose: print()\n",
    "            all_clusters.append(clusters_2)\n",
    "\n",
    "            if verbose: print(\"Stage 3: separate overlapping clusters\")\n",
    "            if clusters_2 != clusters_1:\n",
    "                clusters_2 = sorted([sorted(c) for c in clusters_2])    \n",
    "                #clusters_3 = separate_embedded_clusters(clusters_2)\n",
    "                clusters_3 = separate_clusters_hier(clusters_2)\n",
    "                if verbose: print(len(clusters_3), \"Clusters:\")\n",
    "                if verbose: print_clusts(clusters_3);\n",
    "            else: \n",
    "                if verbose: print(\"No update\")    \n",
    "                if verbose: clusters_3 = clusters_2.copy()\n",
    "            if verbose: print()    \n",
    "            all_clusters.append(clusters_3)\n",
    "\n",
    "            if verbose: print(\"Stage 4: merge nearby clusters\")\n",
    "            if clusters_3 != clusters_2:\n",
    "                clusters_3 = sorted([sorted(c) for c in clusters_3])\n",
    "                clusters_4 = merge_clusters_combo(time_arr, noise_arr, clusters_3, dist_thresh, time_thresh)\n",
    "                if verbose: print(len(clusters_4), \"Clusters:\")\n",
    "                if verbose: print_clusts(clusters_4);    \n",
    "            else: \n",
    "                if verbose: print(\"No update\")\n",
    "                clusters_4 = clusters_3.copy()\n",
    "            if verbose: print()\n",
    "            all_clusters.append(clusters_4)\n",
    "\n",
    "            if verbose: print(\"Stage 5: filter regions by IQR\")\n",
    "            clusters_4 = sorted([sorted(c) for c in clusters_4])\n",
    "            if False:#clusters_4 != clusters_3:\n",
    "                clusters_5 = shift_box(time_arr, noise_arr, clusters_4, time_thresh, dist_thresh);\n",
    "                if verbose: print(len(clusters_5), \"Clusters:\")\n",
    "                if verbose: print_clusts(clusters_5);\n",
    "            else: \n",
    "                if verbose: print(\"No update\")\n",
    "                clusters_5 = clusters_4.copy()\n",
    "            if verbose: print()\n",
    "            all_clusters.append(clusters_5)\n",
    "\n",
    "            if verbose: print(\"Stage 6: shift the boxes\")\n",
    "            clusters_5 = sorted([sorted(c) for c in clusters_5])\n",
    "            #clusters_5 = [list(range(c[0],c[-1]+1)) for c in clusters_5]\n",
    "            #iqr_trim = True\n",
    "            if iqr_trim:        \n",
    "                clusters_6 = get_iqr_trimmed_clusters(noise_arr, clusters_5, 1.5);\n",
    "                if verbose: print(len(clusters_6), \"Clusters:\")\n",
    "                if verbose: print_clusts(clusters_6);\n",
    "            else: \n",
    "                if verbose: print(\"No IQR-trim\")\n",
    "                clusters_6 = clusters_5.copy()\n",
    "            if verbose: print()\n",
    "            all_clusters.append(clusters_6)\n",
    "                \n",
    "            continuation = False\n",
    "        except:                    \n",
    "            print(\"Failed at\",m)\n",
    "            print(stays)                    \n",
    "            if m > 10: \n",
    "                break\n",
    "            else:\n",
    "                m+=1\n",
    "            pass\n",
    "\n",
    "        prec, rec, conmat = eval_synth_data(segments, time_arr, all_clusters[-1])\n",
    "\n",
    "        if (prec < precrec_limit) | (rec < precrec_limit):\n",
    "            if (prec < precrec_limit) & (rec < precrec_limit):\n",
    "                print(\"p&r low\")\n",
    "            elif (prec < precrec_limit):\n",
    "                print(\"p low\")\n",
    "            else:\n",
    "                print(\"r low\")\n",
    "\n",
    "            all_clusters = [\n",
    "                clusters_1,\n",
    "                clusters_2,\n",
    "                clusters_3,\n",
    "                clusters_4,\n",
    "                clusters_5,\n",
    "                clusters_6    \n",
    "            ]\n",
    "\n",
    "            len_all_clusts = len(all_clusters)\n",
    "\n",
    "            fig, axs = plt.subplots(len_all_clusts,1,figsize=[20,len_all_clusts*6])\n",
    "\n",
    "            ylim = [noise_arr.min()-2*dist_thresh, noise_arr.max()+2*dist_thresh]\n",
    "\n",
    "            axs =axs.flatten()\n",
    "\n",
    "            for i in range(len_all_clusts):\n",
    "                try:\n",
    "                    ax = axs[i]\n",
    "                    add_plot_cluster_boxplots(time_arr, raw_arr, noise_arr, t_segs, x_segs, all_clusters[i], switch_indices(all_clusters[i], time_arr.shape[0]), configs, ax)\n",
    "                    ax.set_ylim(ylim);\n",
    "                    ax.set_title(f\"Stage. {i}\", fontsize=24)\n",
    "                except:\n",
    "                    pass\n",
    "\n",
    "            fig.suptitle(f\"prec. {prec:6.3f}, {rec:6.3f}\", fontsize=16)\n",
    "\n",
    "            precstr = f\"{prec:6.3f}\".strip().replace(\".\",\"o\")\n",
    "            recstr = f\"{rec:6.3f}\".strip().replace(\".\",\"o\")\n",
    "\n",
    "            stays_tag = int((x_segs.size)/3)\n",
    "            notes = f\"prec{precstr}_rec{recstr}\"\n",
    "\n",
    "            trajectory_tag = f\"trajectory_{stays_tag}stays__{notes}\"\n",
    "            path_to_file =  data_dir + trajectory_tag\n",
    "            pickle_trajectory(time_arr, raw_arr, noise_arr, segments, path_to_file + \".pkl\")\n",
    "\n",
    "            plt.savefig(path_to_file + \".png\")\n",
    "            plt.close()\n",
    "            #'''\n",
    "\n",
    "            #break\n",
    "\n",
    "        lens.append(len(clusters_5))\n",
    "        precs.append(prec)\n",
    "        recs.append(rec)\n",
    "\n",
    "    if ii % 10 == 0:\n",
    "        print(f\"{ii:4d} of {total:5d}\")\n",
    "    ii+=1\n",
    "    \n",
    "#print_clusts(clusters_5);"
   ]
  },
  {
   "cell_type": "code",
   "execution_count": null,
   "metadata": {},
   "outputs": [],
   "source": [
    "print(len(precs),len(recs))"
   ]
  },
  {
   "cell_type": "code",
   "execution_count": null,
   "metadata": {},
   "outputs": [],
   "source": [
    "fig, axs = plt.subplots(1,3, figsize=[20,8])\n",
    "axs = axs.flatten()\n",
    "ax =axs[0]\n",
    "ax.plot(precs, recs, 'o', alpha=0.5)\n",
    "lims=[-.01,1.01]\n",
    "ax.set_xlim(lims)\n",
    "ax.set_ylim(lims)\n",
    "ax.set_xlabel(\"precision\")\n",
    "ax.set_ylabel(\"recall\")\n",
    "ax.grid()\n",
    "\n",
    "binw=0.02\n",
    "bins=np.arange(0.0,1.0+binw,binw)\n",
    "hp, _ = np.histogram(np.array(precs), bins=bins, density=True)\n",
    "hr, _ = np.histogram(np.array( recs), bins=bins, density=True)\n",
    "\n",
    "ax = axs[1]\n",
    "_ = ax.bar(bins[:-1], hp*binw, alpha=0.5, width=binw, align='center', label=\"precision\")\n",
    "_ = ax.bar(bins[:-1], hr*binw, alpha=0.5, width=binw, align='center', label=\"recall\")\n",
    "ax.set_xlabel(\"precision, recall\")\n",
    "ax.set_xlim(lims)\n",
    "ax.set_ylim(lims)\n",
    "ax.grid()\n",
    "ax.legend();\n",
    "\n",
    "ax = axs[2]\n",
    "_ = ax.plot(bins[:-1], 1-np.cumsum(hp*binw), alpha=0.5,label=\"precision\")\n",
    "_ = ax.plot(bins[:-1], 1-np.cumsum(hr*binw), alpha=0.5,label=\"recall\")\n",
    "ax.plot([0.9,0.9],[0,1], '--', color='gray', lw=1.2, alpha=0.5)\n",
    "ax.plot([0,1],[0.9,0.9], '--', color='gray', lw=1.2, alpha=0.5)\n",
    "ax.set_xlabel(\"precision, recall\")\n",
    "ax.set_xlim(lims)\n",
    "ax.set_ylim(lims)\n",
    "ax.grid()\n",
    "ax.legend()\n",
    "fig.savefig(data_dir + \"metrics.png\")"
   ]
  },
  {
   "cell_type": "markdown",
   "metadata": {},
   "source": [
    "## Revisit some bad files"
   ]
  },
  {
   "cell_type": "code",
   "execution_count": null,
   "metadata": {},
   "outputs": [],
   "source": [
    "1"
   ]
  },
  {
   "cell_type": "code",
   "execution_count": null,
   "metadata": {},
   "outputs": [],
   "source": [
    "data_dir"
   ]
  },
  {
   "cell_type": "code",
   "execution_count": null,
   "metadata": {},
   "outputs": [],
   "source": [
    "!ls -w 1 ./"
   ]
  },
  {
   "cell_type": "code",
   "execution_count": null,
   "metadata": {},
   "outputs": [],
   "source": [
    "!ls testdata_20200818_1_no_iqr_and_wi_ranges__pr85_more_dens/*.pkl #| wc -l"
   ]
  },
  {
   "cell_type": "code",
   "execution_count": null,
   "metadata": {},
   "outputs": [],
   "source": [
    "!ls testdata_20200817_4_no_iqr_and_wi_ranges__pr85/*.pkl"
   ]
  },
  {
   "cell_type": "code",
   "execution_count": null,
   "metadata": {},
   "outputs": [],
   "source": [
    "import pickle"
   ]
  },
  {
   "cell_type": "code",
   "execution_count": null,
   "metadata": {},
   "outputs": [],
   "source": [
    "trajectory = pickle.load( open(\"testdata_20200817_4_no_iqr_and_wi_ranges__pr85/\" + \"trajectory_3stays__prec0o811_rec1o000.pkl\", \"rb\") )"
   ]
  },
  {
   "cell_type": "code",
   "execution_count": null,
   "metadata": {},
   "outputs": [],
   "source": [
    "segments = trajectory['segments']\n",
    "t_arr = trajectory['time_arr']\n",
    "r_arr = trajectory['raw_locs_arr']\n",
    "x_arr = trajectory['nse_locs_arr']"
   ]
  },
  {
   "cell_type": "code",
   "execution_count": null,
   "metadata": {},
   "outputs": [],
   "source": [
    "t_segs, x_segs = get_stay_segs(get_adjusted_stays(segments, t_arr))\n",
    "\n",
    "ax = plot_trajectory(t_arr, r_arr, x_arr, t_segs, x_segs, dist_thresh);\n",
    "add_plot_seg_boxes(t_segs, x_segs, dist_thresh, ax)\n",
    "ax.set_xlim([5.75,18.25]);"
   ]
  },
  {
   "cell_type": "code",
   "execution_count": null,
   "metadata": {
    "scrolled": false
   },
   "outputs": [],
   "source": [
    "verbose = True\n",
    "\n",
    "all_clusters = []\n",
    "\n",
    "if verbose: print(\"Stage 1\")\n",
    "clusters_1 = get_clusters_3(t_arr, x_arr, dist_thresh, time_thresh)\n",
    "if verbose: print(len(clusters_1), \"Clusters:\")\n",
    "if verbose: print_clusts(clusters_1);\n",
    "if verbose: print()\n",
    "all_clusters.append(clusters_1)\n",
    "\n",
    "if verbose: print(\"Stage 2\")\n",
    "clusters_2 = get_extended_clusters(t_arr, x_arr, clusters_1, time_thresh)\n",
    "if verbose: print(len(clusters_2), \"Clusters:\")\n",
    "if verbose: print_clusts(clusters_2);\n",
    "if verbose: print()\n",
    "all_clusters.append(clusters_2)\n",
    "\n",
    "if verbose: print(\"Stage 3\")\n",
    "#clusters_3 = separate_clusters_hier(clusters_2, True)\n",
    "if clusters_2 != clusters_1:\n",
    "    clusters_2 = sorted([sorted(c) for c in clusters_2])    \n",
    "    #clusters_3 = separate_embedded_clusters(clusters_2)\n",
    "    clusters_3 = separate_clusters_hier(clusters_2)\n",
    "    if verbose: print(len(clusters_3), \"Clusters:\")\n",
    "    if verbose: print_clusts(clusters_3);\n",
    "else: \n",
    "    if verbose: print(\"No update\")    \n",
    "    if verbose: clusters_3 = clusters_2.copy()\n",
    "if verbose: print()    \n",
    "all_clusters.append(clusters_3)\n",
    "\n",
    "if verbose: print(\"Stage 4\")\n",
    "if clusters_3 != clusters_2:\n",
    "    clusters_3 = sorted([sorted(c) for c in clusters_3])\n",
    "    clusters_4 = merge_clusters_combo(t_arr, x_arr, clusters_3, dist_thresh, time_thresh)\n",
    "    if verbose: print(len(clusters_4), \"Clusters:\")\n",
    "    if verbose: print_clusts(clusters_4);    \n",
    "else: \n",
    "    if verbose: print(\"No update\")\n",
    "    clusters_4 = clusters_3.copy()\n",
    "if verbose: print()\n",
    "all_clusters.append(clusters_4)\n",
    "\n",
    "if verbose: print(\"Stage 5\")\n",
    "clusters_4 = sorted([sorted(c) for c in clusters_4])\n",
    "if clusters_4 != clusters_3:\n",
    "    clusters_5 = shift_box(t_arr, x_arr, clusters_4, time_thresh, dist_thresh);\n",
    "    if verbose: print(len(clusters_5), \"Clusters:\")\n",
    "    if verbose: print_clusts(clusters_5);\n",
    "else: \n",
    "    if verbose: print(\"No update\")\n",
    "    clusters_5 = clusters_4.copy()\n",
    "if verbose: print()\n",
    "all_clusters.append(clusters_5)\n",
    "\n",
    "if verbose: print(\"Stage 6\")\n",
    "clusters_5 = sorted([sorted(c) for c in clusters_5])\n",
    "#clusters_5 = [list(range(c[0],c[-1]+1)) for c in clusters_5]\n",
    "iqr_trim = True\n",
    "if iqr_trim:        \n",
    "    clusters_6 = get_iqr_trimmed_clusters(x_arr, clusters_5, 1.5);\n",
    "    if verbose: print(len(clusters_6), \"Clusters:\")\n",
    "    if verbose: print_clusts(clusters_6);\n",
    "else: \n",
    "    if verbose: print(\"No IQR-trim\")\n",
    "    clusters_6 = clusters_5.copy()\n",
    "if verbose: print()\n",
    "all_clusters.append(clusters_6)\n",
    "\n",
    "\n",
    "prec, rec, conmat = eval_synth_data(segments, t_arr, all_clusters[-1])\n",
    "\n",
    "\n",
    "len_all_clusts = len(all_clusters)\n",
    "\n",
    "fig, axs = plt.subplots(len_all_clusts,1,figsize=[20,len_all_clusts*6])\n",
    "\n",
    "ylim = [x_arr.min()-2*dist_thresh, x_arr.max()+2*dist_thresh]\n",
    "\n",
    "axs =axs.flatten()\n",
    "\n",
    "for i in range(len_all_clusts):\n",
    "    try:\n",
    "        ax = axs[i]\n",
    "        add_plot_cluster_boxplots(t_arr, r_arr, x_arr, t_segs, x_segs, all_clusters[i], switch_indices(all_clusters[i], t_arr.shape[0]), configs, ax)\n",
    "        ax.set_ylim(ylim);\n",
    "        ax.set_title(f\"Stage. {i}\", fontsize=24)\n",
    "    except:\n",
    "        pass\n",
    "\n",
    "fig.suptitle(f\"prec. {prec:6.3f}, {rec:6.3f}\", fontsize=16);"
   ]
  },
  {
   "cell_type": "code",
   "execution_count": null,
   "metadata": {},
   "outputs": [],
   "source": [
    "from helper__3stays_v3_scripts__eval import eval_synth_data_clusters\n",
    "\n",
    "print(eval_synth_data(segments, t_arr, clusters_6))\n",
    "\n",
    "print(eval_synth_data_clusters(segments, t_arr, clusters_6))\n",
    "\n",
    "print(eval_synth_data_clusters(segments, t_arr, clusters_6, True))"
   ]
  },
  {
   "cell_type": "code",
   "execution_count": null,
   "metadata": {},
   "outputs": [],
   "source": [
    "from stay_classification.box_classifier.box_method import get_time_ind\n",
    "from helper__3stays_v3_scripts import get_iqr_mask, get_iqr_mask_x, _get_iqr\n",
    "\n",
    "\n",
    "def shift_box(t_arr, x_arr, clusters, time_thresh, dist_thresh, verbose=False):\n",
    "    \"\"\"\n",
    "    \n",
    "    \"\"\"\n",
    "    t_thresh_fact = 1.0\n",
    "    \n",
    "    within=True\n",
    "    \n",
    "    iqr_fact = 0 #1.5\n",
    "    \n",
    "    new_clusters = []\n",
    "    \n",
    "    for c in clusters:\n",
    "    \n",
    "        #print(c[-1]-c[0], len(c)-1)\n",
    "        offset = c[0]\n",
    "        \n",
    "        q25, q75 = _get_iqr(x_arr[c])\n",
    "\n",
    "        iqr = abs(q75 - q25)\n",
    "            \n",
    "        # Bwd-shifted bounds\n",
    "        lower_ind = get_time_ind(t_arr, t_arr[c[ 0]], t_thresh_fact*time_thresh, -1)\n",
    "        upper_ind = get_time_ind(t_arr, t_arr[c[-1]], t_thresh_fact*time_thresh, -1)\n",
    "    \n",
    "        sub_arr = x_arr[lower_ind:upper_ind+1].copy()\n",
    "\n",
    "        if within:\n",
    "            mask = np.where((sub_arr >= (q25 - iqr_fact * iqr)) & (sub_arr <= (q75 + iqr_fact * iqr)))[0]\n",
    "\n",
    "        else:\n",
    "            mask =  np.where((sub_arr < (q25 - iqr_fact * iqr)) | (sub_arr > (q75 + iqr_fact * iqr)))[0]\n",
    "\n",
    "        bwd_mask = mask + lower_ind\n",
    "        \n",
    "        strg = f\"[{c[0]:6d}, {c[-1]:6d}]: {np.mean(x_arr[c]):6.3f}\\t\"\n",
    "        \n",
    "        if bwd_mask.size > 0:\n",
    "            #print(len(sub_arr),  \"\\t[\", mask[0], mask[-1], \"]\\t[\", bwd_mask[0], bwd_mask[-1],  \"]\\t[\", c[0], c[-1], \"]\", bwd_mask[-10:])            \n",
    "            bwd_mean = np.mean(x_arr[bwd_mask])\n",
    "        else:\n",
    "            bwd_mean = np.nan\n",
    "            \n",
    "        strg += f\"BWD: [{lower_ind:6d}, {upper_ind:6d}]: {len(bwd_mask):5d}: {bwd_mean:6.3f}\\t\"\n",
    "        \n",
    "        # Fwd-shifted bounds\n",
    "        lower_ind = get_time_ind(t_arr, t_arr[c[ 0]], t_thresh_fact*time_thresh, 1)\n",
    "        upper_ind = get_time_ind(t_arr, t_arr[c[-1]], t_thresh_fact*time_thresh, 1)\n",
    "    \n",
    "        sub_arr = x_arr[lower_ind:upper_ind+1].copy()\n",
    "        \n",
    "        if within:\n",
    "            mask = np.where((sub_arr >= (q25 - iqr_fact * iqr)) & (sub_arr <= (q75 + iqr_fact * iqr)))[0]\n",
    "\n",
    "        else:\n",
    "            mask =  np.where((sub_arr < (q25 - iqr_fact * iqr)) | (sub_arr > (q75 + iqr_fact * iqr)))[0]\n",
    "\n",
    "        fwd_mask = mask + lower_ind\n",
    "        \n",
    "        if fwd_mask.size > 0:\n",
    "            fwd_mean = np.mean(x_arr[fwd_mask])\n",
    "        else:\n",
    "            fwd_mean = np.nan\n",
    "        \n",
    "        strg += f\"FWD: [{lower_ind:6d}, {upper_ind:6d}]: {len(fwd_mask):5d}: {fwd_mean:6.3f}\\t\\t{abs(bwd_mean - fwd_mean) < 0.5*dist_thresh}\"\n",
    "        if verbose: print(strg)\n",
    "        \n",
    "        if (len(bwd_mask) > 0 ) & (len(fwd_mask) > 0):\n",
    "            if abs(bwd_mean - fwd_mean) < 0.5*dist_thresh:\n",
    "                new_clusters.append(c)\n",
    "            \n",
    "    return new_clusters"
   ]
  },
  {
   "cell_type": "code",
   "execution_count": null,
   "metadata": {},
   "outputs": [],
   "source": [
    "new_clusts = shift_box(t_arr, x_arr, clusters_5, time_thresh, dist_thresh, True)"
   ]
  },
  {
   "cell_type": "code",
   "execution_count": null,
   "metadata": {},
   "outputs": [],
   "source": [
    "xxx = np.arange(20)\n",
    "cxx = range(10,20)\n",
    "xxxx = xxx[cxx].copy()\n",
    "\n",
    "mask = np.where(xxxx >= 10)[0]\n",
    "\n",
    "offset = cxx[0]\n",
    "\n",
    "print(mask[0],mask[-1],offset)\n",
    "\n",
    "mask = mask + offset\n",
    "\n",
    "print(mask[0],mask[-1],offset)\n"
   ]
  },
  {
   "cell_type": "code",
   "execution_count": null,
   "metadata": {},
   "outputs": [],
   "source": []
  },
  {
   "cell_type": "code",
   "execution_count": null,
   "metadata": {},
   "outputs": [],
   "source": [
    "ax = plot_cluster_boxplots(t_arr, r_arr, x_arr, t_segs, x_segs, new_clusts, switch_indices(new_clusts, t_arr.shape[0]), configs)"
   ]
  },
  {
   "cell_type": "code",
   "execution_count": null,
   "metadata": {},
   "outputs": [],
   "source": [
    "get_iqr_mask_x()"
   ]
  },
  {
   "cell_type": "code",
   "execution_count": null,
   "metadata": {},
   "outputs": [],
   "source": [
    "from helper__metric_box__explore import iqr_metrics, get_boxplot_quants, get_clusters_rev \n",
    "\n",
    "def plot_cluster_boxplots_xlim(time_arr, raw_arr, noise_arr, t_segs, x_segs, clusters, clusters_rev, configs, xlim=[5.75,18.25]):\n",
    "    \"\"\"\n",
    "    \"\"\"\n",
    "    dist_thresh = configs['dist_thresh']\n",
    "    \n",
    "    ax = plot_trajectory(time_arr, raw_arr, noise_arr, t_segs, x_segs, dist_thresh);\n",
    "    add_plot_seg_boxes(t_segs, x_segs, dist_thresh, ax)\n",
    "\n",
    "    ax.set_xlim(xlim)\n",
    "\n",
    "    bp_data, labels, positions, widths = get_boxplot_quants(time_arr, noise_arr, clusters)\n",
    "\n",
    "    axt = ax.twiny()\n",
    "    _ = axt.boxplot(bp_data, labels=labels, positions=positions, boxprops=dict(color='red'), widths=widths)   \n",
    "\n",
    "    for label in axt.get_xticklabels():\n",
    "        label.set_rotation(90)\n",
    "    axt.set_xticklabels(labels, visible=True, color='red')\n",
    "\n",
    "\n",
    "    axt.set_xlim(ax.get_xlim())\n",
    "    axt.legend(['forward clusters'], bbox_to_anchor=(1.15, 0.6), loc='center right', ncol=1);\n",
    "\n",
    "\n",
    "    bp_data, labels, positions, widths = get_boxplot_quants(time_arr[::-1], noise_arr[::-1], clusters_rev)\n",
    "\n",
    "    axt = ax.twiny()\n",
    "    labels = list(map(lambda x: f\"{x:.2f}\", positions))\n",
    "    _ = axt.boxplot(bp_data, labels=labels, positions=positions, boxprops=dict(color='blue'), widths=widths)\n",
    "    axt.legend(['reverse clusters'], bbox_to_anchor=(1.15, 0.4), loc='center right', ncol=1);\n",
    "\n",
    "    for label in axt.get_xticklabels():\n",
    "        label.set_rotation(90)\n",
    "        \n",
    "    axt.set_xticklabels(labels, visible=False)\n",
    "\n",
    "    axt.set_xlim(ax.get_xlim())\n",
    "    ax.legend(bbox_to_anchor=(1.15, 1), loc='upper right', ncol=1)\n",
    "    \n",
    "    return ax"
   ]
  },
  {
   "cell_type": "code",
   "execution_count": null,
   "metadata": {},
   "outputs": [],
   "source": [
    "ylim = [x_arr.min()-2*dist_thresh, x_arr.max()+2*dist_thresh]\n",
    "ax = plot_cluster_boxplots_xlim(t_arr, r_arr, x_arr, t_segs, x_segs, clusters_3, switch_indices(clusters_3, t_arr.shape[0]), configs, [13,15])\n",
    "\n",
    "ax.set_title(\"Stage. 1\", fontsize=24)\n",
    "\n",
    "ax.set_ylim(4,6)\n",
    "ax.set_xlim(13,15);"
   ]
  },
  {
   "cell_type": "code",
   "execution_count": null,
   "metadata": {},
   "outputs": [],
   "source": [
    "print_ctimes = lambda cluster_list : [print(f\"[{time_arr[c[0]]:6.3f},{time_arr[c[-1]]:6.3f}]\") for c in cluster_list]\n",
    "print_ctimes(clusters_3);"
   ]
  },
  {
   "cell_type": "code",
   "execution_count": null,
   "metadata": {},
   "outputs": [],
   "source": [
    "np.median(x_arr[clusters_3[-1]]), np.mean(x_arr[clusters_3[-1]])"
   ]
  },
  {
   "cell_type": "code",
   "execution_count": null,
   "metadata": {},
   "outputs": [],
   "source": [
    "_ = plt.boxplot(x_arr[clusters_3[-1]])"
   ]
  },
  {
   "cell_type": "code",
   "execution_count": null,
   "metadata": {},
   "outputs": [],
   "source": [
    "from helper__3stays_v3_scripts import _get_iqr\n",
    "def get_iqr_mask_xx(sub_arr, offset, iqr_bounds, iqr_fact = 1.5, within=True, verbose=False):\n",
    "    \"\"\"\n",
    "    \"\"\"\n",
    "    \n",
    "    #TODO: rename `x_arr` --> `sub_arr`, `cluster` --> `offset` \n",
    "    \n",
    "    # Mask to include only events within the IQR\n",
    "    if iqr_bounds != None:\n",
    "        #if verbose: print(\"Getting input bounds\", iqr_bounds)\n",
    "        q25, q75 = iqr_bounds\n",
    "    else:\n",
    "        q25, q75 = _get_iqr(sub_arr)\n",
    "    \n",
    "    iqr = abs(q75 - q25)\n",
    "        \n",
    "    print(q25,q75)\n",
    "    print(q25 - iqr_fact * iqr, q75 + iqr_fact * iqr)\n",
    "    if within:\n",
    "        mask = np.where((sub_arr >= (q25 - iqr_fact * iqr)) & (sub_arr <= (q75 + iqr_fact * iqr)))\n",
    "        \n",
    "    else:\n",
    "        mask =  np.where((sub_arr < (q25 - iqr_fact * iqr)) | (sub_arr > (q75 + iqr_fact * iqr)))\n",
    "    \n",
    "    mask[0][:] += offset\n",
    "    \n",
    "    return mask"
   ]
  },
  {
   "cell_type": "code",
   "execution_count": null,
   "metadata": {},
   "outputs": [],
   "source": [
    "clusty = list(range(138,181))"
   ]
  },
  {
   "cell_type": "code",
   "execution_count": null,
   "metadata": {},
   "outputs": [],
   "source": [
    "get_iqr_mask_xx(x_arr[clusters_3[-1]], clusters_3[-1][0], None,1.5, True, True)"
   ]
  },
  {
   "cell_type": "code",
   "execution_count": null,
   "metadata": {},
   "outputs": [],
   "source": [
    "get_iqr_mask_xx(x_arr[clusty], clusty[0], None,1.5, True, True)"
   ]
  },
  {
   "cell_type": "code",
   "execution_count": null,
   "metadata": {},
   "outputs": [],
   "source": [
    "mask = np.where((x_arr[clusters_3[-1]] >= 4.2143282236654995) & (x_arr[clusters_3[-1]] <= 5.609823765610858))[0] + clusters_3[-1][0]"
   ]
  },
  {
   "cell_type": "code",
   "execution_count": null,
   "metadata": {},
   "outputs": [],
   "source": [
    "mask"
   ]
  },
  {
   "cell_type": "code",
   "execution_count": null,
   "metadata": {},
   "outputs": [],
   "source": [
    "t_arr[clusters_3[-1]], x_arr[clusters_3[-1]]"
   ]
  },
  {
   "cell_type": "code",
   "execution_count": null,
   "metadata": {},
   "outputs": [],
   "source": [
    "plt.plot(t_arr[clusty], x_arr[clusty], 'o:')\n",
    "plt.plot(t_arr[clusters_3[-1]], x_arr[clusters_3[-1]], 'x-')"
   ]
  },
  {
   "cell_type": "code",
   "execution_count": null,
   "metadata": {},
   "outputs": [],
   "source": [
    "plt.plot(t_arr[clusty], clusty, 'o:')\n",
    "plt.plot(t_arr[clusters_3[-1]], clusters_3[-1], 'x-')"
   ]
  },
  {
   "cell_type": "code",
   "execution_count": null,
   "metadata": {},
   "outputs": [],
   "source": []
  },
  {
   "cell_type": "code",
   "execution_count": null,
   "metadata": {},
   "outputs": [],
   "source": []
  },
  {
   "cell_type": "code",
   "execution_count": null,
   "metadata": {},
   "outputs": [],
   "source": []
  },
  {
   "cell_type": "markdown",
   "metadata": {},
   "source": [
    "`get_iqr_mask_x`: min and max are within;\n",
    "`get_time_ind`: fix moving edge within t-arr;\n",
    "`get_extended_clusters`: update output"
   ]
  },
  {
   "cell_type": "code",
   "execution_count": null,
   "metadata": {},
   "outputs": [],
   "source": [
    "t_arr[mask], x_arr[mask]"
   ]
  },
  {
   "cell_type": "code",
   "execution_count": null,
   "metadata": {},
   "outputs": [],
   "source": [
    "clusters_3[-1]"
   ]
  },
  {
   "cell_type": "code",
   "execution_count": null,
   "metadata": {},
   "outputs": [],
   "source": []
  },
  {
   "cell_type": "code",
   "execution_count": null,
   "metadata": {},
   "outputs": [],
   "source": []
  },
  {
   "cell_type": "code",
   "execution_count": null,
   "metadata": {
    "scrolled": false
   },
   "outputs": [],
   "source": [
    "check_clusts = get_extended_clusters(t_arr, x_arr, clusters_1, time_thresh, True);"
   ]
  },
  {
   "cell_type": "markdown",
   "metadata": {},
   "source": [
    "## Gap metrics"
   ]
  },
  {
   "cell_type": "code",
   "execution_count": null,
   "metadata": {},
   "outputs": [],
   "source": [
    "from helper__gaps import get_intercluster_metrics, get_gap_dist, get_gap_time"
   ]
  },
  {
   "cell_type": "code",
   "execution_count": null,
   "metadata": {},
   "outputs": [],
   "source": [
    "def get_gap_metrics(c1, c2, t_arr, x_arr, time_thresh, min_speed=3.6):\n",
    "    \"\"\"\n",
    "    Calculate some metrics for a gap: \n",
    "        * the duration of the gap, \n",
    "        * the minimal possible duration of the gap to include a stay\n",
    "        * a location statistic of the gap\n",
    "    \"\"\"\n",
    "    \n",
    "    # Get the gap indices between adjacent clusters\n",
    "    gap = list(range(c1[-1],c2[0]+1))\n",
    "    gap_len = len(gap)\n",
    "    interstay_dist_medi = abs(np.median(x_arr[c1])-np.median(x_arr[c2]))\n",
    "    interstay_dist_mean = abs(np.mean(x_arr[c1])-np.mean(x_arr[c2]))\n",
    "    \n",
    "    # Returns\n",
    "    ## Calulate the duration between adjacent clusters\n",
    "    gap_time = get_gap_time(t_arr,c1,c2)\n",
    "\n",
    "    ## Calculate the minimal time between two clusters to include two travels and a stay\n",
    "    dur1 = get_gap_dist(x_arr,c1, gap)/min_speed\n",
    "    dur2 = get_gap_dist(x_arr,c2, gap)/min_speed\n",
    "    \n",
    "    ## Calculate a statistic (ie the median) of the events contained in a gap\n",
    "    gap_mean   = np.mean(x_arr[gap])\n",
    "    gap_median = np.median(x_arr[gap])\n",
    "    '''\n",
    "    print(f\"{gap_len:4d}, {gap_time:6.3f}, {interstay_dist_medi:6.3f}, {interstay_dist_mean:6.3f}, {gap_mean:6.3f}, {gap_median:6.3f}\")\n",
    "    '''\n",
    "    warning = \"\"\n",
    "    if gap_time < time_thresh: \n",
    "        warning = \"WARNING: too short\"\n",
    "    \n",
    "    return f\"{gap_len:4d}, {gap_time:6.3f}, {interstay_dist_medi:6.3f}, {interstay_dist_mean:6.3f}, {gap_mean:6.3f}, {gap_median:6.3f}  {warning}\"\n",
    "\n",
    "def get_clust_metrics(gap, t_arr, x_arr, time_thresh, min_speed=3.6):\n",
    "    \"\"\"\n",
    "    Calculate some metrics for a gap: \n",
    "        * the duration of the gap, \n",
    "        * the minimal possible duration of the gap to include a stay\n",
    "        * a location statistic of the gap\n",
    "    \"\"\"\n",
    "    \n",
    "    # Get the gap indices between adjacent clusters\n",
    "    gap_len = len(gap)\n",
    "\n",
    "    \n",
    "    # Returns\n",
    "    ## Calulate the duration between adjacent clusters\n",
    "    gap_time = t_arr[gap[-1]]-t_arr[gap[0]]\n",
    "\n",
    "    ## Calculate the minimal time between two clusters to include two travels and a stay\n",
    "    #dur1 = get_gap_dist(x_arr,c1, gap)/min_speed\n",
    "    #dur2 = get_gap_dist(x_arr,c2, gap)/min_speed\n",
    "    \n",
    "    ## Calculate a statistic (ie the median) of the events contained in a gap\n",
    "    gap_mean   = np.mean(x_arr[gap])\n",
    "    gap_median = np.median(x_arr[gap])\n",
    "    \n",
    "    return f\"{gap_len:4d}, {gap_time:6.3f},   ----,   ----, {gap_mean:6.3f}, {gap_median:6.3f}\"\n",
    "\n",
    "def get_gap_dist(x_arr,c1,c2):\n",
    "    \"\"\"\n",
    "    Gets the spatial difference between two medians of neighboring clusters\n",
    "    \"\"\"\n",
    "    #return get_gap_dist_generic(x_arr[c1], np.median(x_arr[c2]))\n",
    "    return abs(np.median(x_arr[c1])-np.median(x_arr[c2]))\n",
    " "
   ]
  },
  {
   "cell_type": "code",
   "execution_count": null,
   "metadata": {},
   "outputs": [],
   "source": [
    "ylim = [x_arr.min()-2*dist_thresh, x_arr.max()+2*dist_thresh]\n",
    "ax = plot_cluster_boxplots(t_arr, r_arr, x_arr, t_segs, x_segs, clusters_2, switch_indices(clusters_2, t_arr.shape[0]), configs)\n",
    "ax.set_ylim(ylim);\n",
    "ax.set_title(\"Stage. 1\", fontsize=24)"
   ]
  },
  {
   "cell_type": "code",
   "execution_count": null,
   "metadata": {},
   "outputs": [],
   "source": [
    "print(f\"      len,    dur,  dmedi,   dmea,   mean, median\")\n",
    "for n in range(len(clusters_2)):\n",
    "    if n == 0:\n",
    "        printstr = get_clust_metrics(clusters_2[n], t_arr, x_arr, time_thresh)\n",
    "        print(f\"{n:4d} {printstr}\")\n",
    "    else:\n",
    "        printstr = get_gap_metrics(clusters_2[n-1],clusters_2[n], t_arr, x_arr, time_thresh)\n",
    "        print(f\"     {printstr}\")\n",
    "        printstr = get_clust_metrics(clusters_2[n], t_arr, x_arr, time_thresh)\n",
    "        print(f\"{n:4d} {printstr}\")\n"
   ]
  },
  {
   "cell_type": "code",
   "execution_count": null,
   "metadata": {},
   "outputs": [],
   "source": []
  },
  {
   "cell_type": "code",
   "execution_count": null,
   "metadata": {},
   "outputs": [],
   "source": []
  },
  {
   "cell_type": "code",
   "execution_count": null,
   "metadata": {},
   "outputs": [],
   "source": []
  }
 ],
 "metadata": {
  "kernelspec": {
   "display_name": "venv",
   "language": "python",
   "name": "venv"
  },
  "language_info": {
   "codemirror_mode": {
    "name": "ipython",
    "version": 3
   },
   "file_extension": ".py",
   "mimetype": "text/x-python",
   "name": "python",
   "nbconvert_exporter": "python",
   "pygments_lexer": "ipython3",
   "version": "3.6.9"
  },
  "toc": {
   "nav_menu": {},
   "number_sections": true,
   "sideBar": true,
   "skip_h1_title": false,
   "title_cell": "Table of Contents",
   "title_sidebar": "Contents",
   "toc_cell": false,
   "toc_position": {},
   "toc_section_display": true,
   "toc_window_display": false
  }
 },
 "nbformat": 4,
 "nbformat_minor": 2
}
