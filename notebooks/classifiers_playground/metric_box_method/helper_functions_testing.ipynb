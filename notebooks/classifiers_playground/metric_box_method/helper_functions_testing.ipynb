{
 "cells": [
  {
   "cell_type": "code",
   "execution_count": 5,
   "metadata": {},
   "outputs": [
    {
     "data": {
      "text/html": [
       "<style>.container { width:100% !important; }</style>"
      ],
      "text/plain": [
       "<IPython.core.display.HTML object>"
      ]
     },
     "metadata": {},
     "output_type": "display_data"
    }
   ],
   "source": [
    "from IPython.core.display import display, HTML\n",
    "display(HTML(\"<style>.container { width:100% !important; }</style>\"))"
   ]
  },
  {
   "cell_type": "code",
   "execution_count": null,
   "metadata": {},
   "outputs": [],
   "source": [
    "# This will reload imports before executing code, allowing you to easily change contents of custom scripts\n",
    "%load_ext autoreload\n",
    "%autoreload 2"
   ]
  },
  {
   "cell_type": "markdown",
   "metadata": {},
   "source": [
    "## Splitting lists"
   ]
  },
  {
   "cell_type": "markdown",
   "metadata": {},
   "source": [
    "Turn `[0,1,2,3,4]` and `[2,3]` into `[[0,1], [2,3], [4]]`; as well as other variations"
   ]
  },
  {
   "cell_type": "code",
   "execution_count": 1,
   "metadata": {},
   "outputs": [],
   "source": [
    "def contains(a1,a2,b1,b2):\n",
    "    \"\"\"\n",
    "    Check whether one range contains another\n",
    "    \"\"\"    \n",
    "    return ((a1 >= b1) & (a2 <= b2))\n",
    "\n",
    "inter_bounds = lambda p1, p2: intersecting_bounds(p1[0],p1[-1],p2[0],p2[-1])\n",
    "conta_bounds = lambda p1, p2: contains(p1[0],p1[-1],p2[0],p2[-1])\n",
    "\n",
    "def intersecting_bounds(a1,a2,b1,b2):\n",
    "    \"\"\"\n",
    "    Check whether two ranges intersect\n",
    "    \n",
    "    Specifically: b1 < a1 < b2 and a2 > b2\n",
    "    \"\"\"\n",
    "    '''print(a1,a2,b1,b2)\n",
    "    \n",
    "    print((a1 >  b1), (a1 <= b2), (a2 >= b2))\n",
    "    print((a1 >= b1), (a1 <  b2), (a2 >  b2))'''\n",
    "    \n",
    "    cond1 = (((a1 >  b1) & (a1 < b2)) & (a2 > b2)) | \\\n",
    "             (((a1 > b1) & (a1 < b2)) & (a2 > b2))\n",
    "    return cond1"
   ]
  },
  {
   "cell_type": "code",
   "execution_count": 2,
   "metadata": {},
   "outputs": [],
   "source": [
    "def split_lists1( list1, list2): \n",
    "    \n",
    "    \"\"\"\n",
    "    Usage:\n",
    "    split_list(range(10), list(range(4,7)))\n",
    "    ([0, 1, 2, 3], [4, 5, 6], [7, 8, 9])\n",
    "    \"\"\"\n",
    "    uneql = lambda l1, l2: ([e for e in l2 if e < min(l1)], l1, [e for e in l2 if e > max(l1)])\n",
    "    equal = lambda l1, l2: ([e for e in l1 if e < min(l2)], \\\n",
    "                            [e for e in l2 if ((e >= min(l2)) & (e <= max(l1)))], \\\n",
    "                            [e for e in l2 if e > max(l1)])\n",
    "    '''\n",
    "    if len(list1) < len(list2):\n",
    "        return uneql(list1, list2)\n",
    "    \n",
    "    elif len(list1) < len(list2):\n",
    "        return uneql(list2, list1)\n",
    "    '''\n",
    "    # This is version 2\n",
    "    #else:\n",
    "    if min(list1) < min(list2):\n",
    "        return equal(list1, list2)\n",
    "    else:\n",
    "        return equal(list2, list1)"
   ]
  },
  {
   "cell_type": "code",
   "execution_count": 4,
   "metadata": {},
   "outputs": [],
   "source": [
    "aa = list(range(5))\n",
    "bb = list(range(8))\n",
    "cc = list(range(4,8))"
   ]
  },
  {
   "cell_type": "code",
   "execution_count": 17,
   "metadata": {},
   "outputs": [
    {
     "name": "stdout",
     "output_type": "stream",
     "text": [
      "split [0, 1, 2, 3, 4, 5, 6, 7] and [4, 5, 6, 7] to [[0, 1, 2, 3], [4, 5, 6, 7], []] \n",
      "\n",
      "split [4, 5, 6, 7] and [0, 1, 2, 3, 4, 5, 6, 7] to [[0, 1, 2, 3], [4, 5, 6, 7], []] \n",
      "\n",
      "split [0, 1, 2, 3, 4] and [0, 1, 2, 3, 4, 5, 6, 7] to [[], [0, 1, 2, 3, 4], []] \n",
      "\n",
      "split [0, 1, 2, 3, 4, 5, 6, 7] and [0, 1, 2, 3, 4] to [[], [0, 1, 2, 3, 4], [5, 6, 7]] \n",
      "\n",
      "split [0, 1, 2, 3, 4, 5, 6, 7] and [1, 2, 3, 4] to [[0], [1, 2, 3, 4], []] \n",
      "\n",
      "split [1, 2, 3, 4] and [0, 1, 2, 3, 4, 5, 6, 7] to [[0], [1, 2, 3, 4], []] \n",
      "\n",
      "split [0, 1, 2, 3, 4] and [2, 3, 4, 5, 6, 7] to [[0, 1], [2, 3, 4], [5, 6, 7]] \n",
      "\n",
      "split [2, 3, 4, 5, 6] and [0, 1, 2, 3, 4] to [[0, 1], [2, 3, 4], [5, 6]] \n",
      "\n"
     ]
    }
   ],
   "source": [
    "print(\"split\", bb[0:], \"and\", cc, \"to\", list(split_lists1(bb[0:], cc)), \"\\n\")\n",
    "\n",
    "print(\"split\", cc, \"and\", bb[0:], \"to\", list(split_lists1(cc, bb[0:])), \"\\n\")\n",
    "\n",
    "print(\"split\", aa, \"and\", bb[0:], \"to\", list(split_lists1(aa, bb[0:])), \"\\n\")\n",
    "\n",
    "print(\"split\", bb[0:], \"and\", aa, \"to\", list(split_lists1(bb[0:], aa)), \"\\n\")\n",
    "\n",
    "print(\"split\", bb[0:], \"and\", aa[1:], \"to\", list(split_lists1(bb[0:], aa[1:])), \"\\n\")\n",
    "\n",
    "print(\"split\", aa[1:], \"and\", bb[0:], \"to\", list(split_lists1(aa[1:], bb[0:])), \"\\n\")\n",
    "\n",
    "print(\"split\", aa[:], \"and\", bb[2:], \"to\", list(split_lists1(aa[:], bb[2:])), \"\\n\")\n",
    "\n",
    "print(\"split\", bb[2:-1],\"and\", aa[:], \"to\", list(split_lists1(bb[2:-1], aa[:])), \"\\n\")"
   ]
  },
  {
   "cell_type": "code",
   "execution_count": 6,
   "metadata": {},
   "outputs": [],
   "source": [
    "def split_lists2( list1, list2): \n",
    "    \n",
    "    if list1 == list2: \n",
    "        return list1\n",
    "    \n",
    "    print(f\"l1: {list1},\\nl2: {list2}\")\n",
    "    print()\n",
    "    \"\"\"\n",
    "    Usage:\n",
    "    split_list(range(10), list(range(4,7)))\n",
    "    ([0, 1, 2, 3], [4, 5, 6], [7, 8, 9])\n",
    "    \"\"\"\n",
    "    emend = lambda l1, l2: ([e for e in l1  if e < min(l2)], [e for e in l2])    \n",
    "    embeg = lambda l1, l2: ([e for e in l1], [e for e in l2 if e > max(l1)])\n",
    "    embed = lambda l1, l2: ([e for e in l1 if e < min(l2)], \\\n",
    "                            [e for e in l2 if ((e >= min(l2)) & (e <= max(l1)))], \\\n",
    "                            [e for e in l1 if e > max(l2)])\n",
    "        \n",
    "    equal = lambda l1, l2: ([e for e in l1 if e < min(l2)], \\\n",
    "                            [e for e in l2 if ((e >= min(l2)) & (e <= max(l1)))], \\\n",
    "                            [e for e in l2 if e > max(l1)])        \n",
    "    \n",
    "    if inter_bounds(list1,list2):\n",
    "        # l1 \\cap l2 \\neq \\emptyset, l2.min < l1.min\n",
    "        print('l1 intersects l2')\n",
    "        return equal(list2,list1)\n",
    "        \n",
    "    elif inter_bounds(list2,list1):\n",
    "        # l1 \\cap l2 \\neq \\emptyset, l1.min < l2.min\n",
    "        print('l2 intersects l1')\n",
    "        return equal(list1,list2)\n",
    "        \n",
    "    elif conta_bounds(list1,list2):\n",
    "        # l1 \\subset l2\n",
    "        if list1[-1] == list2[-1]:\n",
    "            print('l2 embeds l1, shares end')\n",
    "            return emend(list2,list1)\n",
    "        \n",
    "        elif list1[0] == list2[0]:\n",
    "            print('l2 embeds l1, shares begin')\n",
    "            return embeg(list1,list2)\n",
    "        \n",
    "        else:\n",
    "            print('l2 embeds l1')             \n",
    "            return embed(list2,list1)\n",
    "    \n",
    "    else:\n",
    "        # l1 \\subset l1\n",
    "        if list1[-1] == list2[-1]:\n",
    "            print('l1 embeds l2, shares end')\n",
    "            return emend(list1,list2)\n",
    "        \n",
    "        elif list1[0] == list2[0]:\n",
    "            print('l1 embeds l2, shares begin')\n",
    "            return embeg(list2,list1)\n",
    "        \n",
    "        else:\n",
    "            print('l1 embeds l2')             \n",
    "            return embed(list1,list2)"
   ]
  },
  {
   "cell_type": "code",
   "execution_count": 18,
   "metadata": {},
   "outputs": [
    {
     "name": "stdout",
     "output_type": "stream",
     "text": [
      "l1: [0, 1, 2, 3, 4, 5, 6, 7],\n",
      "l2: [4, 5, 6, 7]\n",
      "\n",
      "l1 embeds l2, shares end\n",
      "split [0, 1, 2, 3, 4, 5, 6, 7] and [4, 5, 6, 7] to [[0, 1, 2, 3], [4, 5, 6, 7]] \n",
      "\n",
      "l1: [4, 5, 6, 7],\n",
      "l2: [0, 1, 2, 3, 4, 5, 6, 7]\n",
      "\n",
      "l2 embeds l1, shares end\n",
      "split [4, 5, 6, 7] and [0, 1, 2, 3, 4, 5, 6, 7] to [[0, 1, 2, 3], [4, 5, 6, 7]] \n",
      "\n",
      "l1: [0, 1, 2, 3, 4],\n",
      "l2: [0, 1, 2, 3, 4, 5, 6, 7]\n",
      "\n",
      "l2 embeds l1, shares begin\n",
      "split [0, 1, 2, 3, 4] and [0, 1, 2, 3, 4, 5, 6, 7] to [[0, 1, 2, 3, 4], [5, 6, 7]] \n",
      "\n",
      "l1: [0, 1, 2, 3, 4, 5, 6, 7],\n",
      "l2: [0, 1, 2, 3, 4]\n",
      "\n",
      "l1 embeds l2, shares begin\n",
      "split [0, 1, 2, 3, 4, 5, 6, 7] and [0, 1, 2, 3, 4] to [[0, 1, 2, 3, 4], [5, 6, 7]] \n",
      "\n",
      "l1: [0, 1, 2, 3, 4, 5, 6, 7],\n",
      "l2: [1, 2, 3, 4]\n",
      "\n",
      "l1 embeds l2\n",
      "split [0, 1, 2, 3, 4, 5, 6, 7] and [1, 2, 3, 4] to [[0], [1, 2, 3, 4], [5, 6, 7]] \n",
      "\n",
      "l1: [1, 2, 3, 4],\n",
      "l2: [0, 1, 2, 3, 4, 5, 6, 7]\n",
      "\n",
      "l2 embeds l1\n",
      "split [1, 2, 3, 4] and [0, 1, 2, 3, 4, 5, 6, 7] to [[0], [1, 2, 3, 4], [5, 6, 7]] \n",
      "\n",
      "l1: [0, 1, 2, 3, 4],\n",
      "l2: [2, 3, 4, 5, 6, 7]\n",
      "\n",
      "l2 intersects l1\n",
      "split [0, 1, 2, 3, 4] and [2, 3, 4, 5, 6, 7] to [[0, 1], [2, 3, 4], [5, 6, 7]] \n",
      "\n",
      "l1: [2, 3, 4, 5, 6],\n",
      "l2: [0, 1, 2, 3, 4]\n",
      "\n",
      "l1 intersects l2\n",
      "split [2, 3, 4, 5, 6] and [0, 1, 2, 3, 4] to [[0, 1], [2, 3, 4], [5, 6]] \n",
      "\n"
     ]
    }
   ],
   "source": [
    "print(\"split\", bb[0:], \"and\", cc, \"to\", list(split_lists2(bb[0:], cc)), \"\\n\")\n",
    "\n",
    "print(\"split\", cc, \"and\", bb[0:], \"to\", list(split_lists2(cc, bb[0:])), \"\\n\")\n",
    "\n",
    "print(\"split\", aa, \"and\", bb[0:], \"to\", list(split_lists2(aa, bb[0:])), \"\\n\")\n",
    "\n",
    "print(\"split\", bb[0:], \"and\", aa, \"to\", list(split_lists2(bb[0:], aa)), \"\\n\")\n",
    "\n",
    "print(\"split\", bb[0:], \"and\", aa[1:], \"to\", list(split_lists2(bb[0:], aa[1:])), \"\\n\")\n",
    "\n",
    "print(\"split\", aa[1:], \"and\", bb[0:], \"to\", list(split_lists2(aa[1:], bb[0:])), \"\\n\")\n",
    "\n",
    "print(\"split\", aa[:], \"and\", bb[2:], \"to\", list(split_lists2(aa[:], bb[2:])), \"\\n\")\n",
    "\n",
    "print(\"split\", bb[2:-1],\"and\", aa[:], \"to\", list(split_lists2(bb[2:-1], aa[:])), \"\\n\")"
   ]
  },
  {
   "cell_type": "code",
   "execution_count": 44,
   "metadata": {},
   "outputs": [],
   "source": [
    "def list_intersection(lst1, lst2): \n",
    "    \"\"\"\n",
    "    Split intersecting and interleaved lists into contiguous sublists\n",
    "    \"\"\"\n",
    "    \n",
    "    lst3 = sorted([e for e in lst1 if e in lst2])\n",
    "    \n",
    "    print(lst3)\n",
    "    \n",
    "    new1_lt = sorted([e for e in lst1 if (e < min(lst3))])\n",
    "    new1_gt = sorted([e for e in lst1 if (e > max(lst3))])\n",
    "\n",
    "    new2_lt = sorted([e for e in lst2 if (e < min(lst3))])\n",
    "    new2_gt = sorted([e for e in lst2 if (e > max(lst3))])\n",
    "    \n",
    "    output = [new1_lt, new1_gt, new2_lt, new2_gt, lst3]\n",
    "    \n",
    "    output = sorted([l for l in output if l != []])\n",
    "    \n",
    "    return output "
   ]
  },
  {
   "cell_type": "code",
   "execution_count": 33,
   "metadata": {},
   "outputs": [
    {
     "name": "stdout",
     "output_type": "stream",
     "text": [
      "l1: [2, 3, 4, 5, 6],\n",
      "l2: [0, 1, 2, 3, 4]\n",
      "\n",
      "l1 intersects l2\n",
      "split [2, 3, 4, 5, 6] and [0, 1, 2, 3, 4] to [[0, 1], [2, 3, 4], [5, 6]] \n",
      "\n",
      "split [2, 3, 4, 5, 6] and [0, 1, 2, 3, 4] to [[0, 1], [2, 3, 4], [5, 6]] \n",
      "\n"
     ]
    }
   ],
   "source": [
    "print(\"split\", bb[2:-1],\"and\", aa[:], \"to\", list(split_lists2(bb[2:-1], aa[:])), \"\\n\")\n",
    "print(\"split\", bb[2:-1],\"and\", aa[:], \"to\", list_intersection(bb[2:-1], aa[:]), \"\\n\")"
   ]
  },
  {
   "cell_type": "code",
   "execution_count": 34,
   "metadata": {},
   "outputs": [
    {
     "name": "stdout",
     "output_type": "stream",
     "text": [
      "l1: [1, 2, 3, 4],\n",
      "l2: [0, 1, 2, 3, 4, 5, 6, 7]\n",
      "\n",
      "l2 embeds l1\n",
      "split [1, 2, 3, 4] and [0, 1, 2, 3, 4, 5, 6, 7] to [[0], [1, 2, 3, 4], [5, 6, 7]] \n",
      "\n",
      "split [1, 2, 3, 4] and [0, 1, 2, 3, 4, 5, 6, 7] to [[0], [1, 2, 3, 4], [5, 6, 7]] \n",
      "\n"
     ]
    }
   ],
   "source": [
    "print(\"split\", aa[1:], \"and\", bb[0:], \"to\", list(split_lists2(aa[1:], bb[0:]), \"\\n\")\n",
    "print(\"split\", aa[1:], \"and\", bb[0:], \"to\", list_intersection(aa[1:], bb[0:]), \"\\n\")\n"
   ]
  },
  {
   "cell_type": "code",
   "execution_count": 37,
   "metadata": {},
   "outputs": [
    {
     "name": "stdout",
     "output_type": "stream",
     "text": [
      "split [0, 1, 2, 3, 4, 5, 6, 7] and [4, 5, 6, 7] to [[0, 1, 2, 3], [4, 5, 6, 7]] \n",
      "\n",
      "split [4, 5, 6, 7] and [0, 1, 2, 3, 4, 5, 6, 7] to [[0, 1, 2, 3], [4, 5, 6, 7]] \n",
      "\n",
      "split [0, 1, 2, 3, 4] and [0, 1, 2, 3, 4, 5, 6, 7] to [[0, 1, 2, 3, 4], [5, 6, 7]] \n",
      "\n",
      "split [0, 1, 2, 3, 4, 5, 6, 7] and [0, 1, 2, 3, 4] to [[0, 1, 2, 3, 4], [5, 6, 7]] \n",
      "\n",
      "split [0, 1, 2, 3, 4, 5, 6, 7] and [1, 2, 3, 4] to [[0], [1, 2, 3, 4], [5, 6, 7]] \n",
      "\n",
      "split [1, 2, 3, 4] and [0, 1, 2, 3, 4, 5, 6, 7] to [[0], [1, 2, 3, 4], [5, 6, 7]] \n",
      "\n",
      "split [0, 1, 2, 3, 4] and [2, 3, 4, 5, 6, 7] to [[0, 1], [2, 3, 4], [5, 6, 7]] \n",
      "\n",
      "split [2, 3, 4, 5, 6] and [0, 1, 2, 3, 4] to [[0, 1], [2, 3, 4], [5, 6]] \n",
      "\n"
     ]
    }
   ],
   "source": [
    "print(\"split\", bb[0:], \"and\", cc, \"to\", list_intersection(bb[0:], cc), \"\\n\")\n",
    "\n",
    "print(\"split\", cc, \"and\", bb[0:], \"to\", list_intersection(cc, bb[0:]), \"\\n\")\n",
    "\n",
    "print(\"split\", aa, \"and\", bb[0:], \"to\", list_intersection(aa, bb[0:]), \"\\n\")\n",
    "\n",
    "print(\"split\", bb[0:], \"and\", aa, \"to\", list_intersection(bb[0:], aa), \"\\n\")\n",
    "\n",
    "print(\"split\", bb[0:], \"and\", aa[1:], \"to\", list_intersection(bb[0:], aa[1:]), \"\\n\")\n",
    "\n",
    "print(\"split\", aa[1:], \"and\", bb[0:], \"to\", list_intersection(aa[1:], bb[0:]), \"\\n\")\n",
    "\n",
    "print(\"split\", aa[:], \"and\", bb[2:], \"to\", list_intersection(aa[:], bb[2:]), \"\\n\")\n",
    "\n",
    "print(\"split\", bb[2:-1],\"and\", aa[:], \"to\", list_intersection(bb[2:-1], aa[:]), \"\\n\")"
   ]
  },
  {
   "cell_type": "code",
   "execution_count": 58,
   "metadata": {},
   "outputs": [],
   "source": [
    "aaa = sorted(list(range(0,7,2)) + [3])\n",
    "bbb = sorted(list(range(1,8,2)) + aaa[1:4:2])"
   ]
  },
  {
   "cell_type": "code",
   "execution_count": 59,
   "metadata": {},
   "outputs": [
    {
     "data": {
      "text/plain": [
       "([0, 2, 3, 4, 6], [1, 2, 3, 4, 5, 7])"
      ]
     },
     "execution_count": 59,
     "metadata": {},
     "output_type": "execute_result"
    }
   ],
   "source": [
    "aaa,bbb"
   ]
  },
  {
   "cell_type": "code",
   "execution_count": 60,
   "metadata": {},
   "outputs": [
    {
     "name": "stdout",
     "output_type": "stream",
     "text": [
      "[2, 3, 4]\n"
     ]
    },
    {
     "data": {
      "text/plain": [
       "[[0], [1], [2, 3, 4], [5, 7], [6]]"
      ]
     },
     "execution_count": 60,
     "metadata": {},
     "output_type": "execute_result"
    }
   ],
   "source": [
    "list_intersection(aaa,bbb)"
   ]
  },
  {
   "cell_type": "code",
   "execution_count": 62,
   "metadata": {},
   "outputs": [
    {
     "name": "stdout",
     "output_type": "stream",
     "text": [
      "l1: [0, 2, 3, 4, 6],\n",
      "l2: [1, 2, 3, 4, 5, 7]\n",
      "\n",
      "l2 intersects l1\n"
     ]
    },
    {
     "data": {
      "text/plain": [
       "[[0], [1, 2, 3, 4, 5], [7]]"
      ]
     },
     "execution_count": 62,
     "metadata": {},
     "output_type": "execute_result"
    }
   ],
   "source": [
    "list(split_lists2(aaa, bbb))"
   ]
  },
  {
   "cell_type": "code",
   "execution_count": 89,
   "metadata": {},
   "outputs": [],
   "source": [
    "def contiguous_sublists(lst1, lst2): \n",
    "    \"\"\"\n",
    "    Split intersecting and interleaved lists into contiguous sublists\n",
    "    \"\"\"\n",
    "    print(lst1, lst2)\n",
    "    # Gather all unique elements together and order\n",
    "    lst3 = sorted(list(set(lst1+lst2)))\n",
    "\n",
    "    # Classifying function according to origin and intersections\n",
    "    def get_flag(e):\n",
    "        if (e in lst1) & (e in lst2):\n",
    "            return 0\n",
    "        elif (e in lst1):\n",
    "            return 1\n",
    "        else:\n",
    "            return 2\n",
    "    \n",
    "    # output list\n",
    "    all_lists = []\n",
    "    \n",
    "    # Initializations\n",
    "    e = lst3[0]    \n",
    "    flag = get_flag(e)\n",
    "    lst = [e]\n",
    "    \n",
    "    # Walk through all elements\n",
    "    for e in lst3[1:]:\n",
    "        flag_ = get_flag(e)\n",
    "        \n",
    "        if flag == flag_:\n",
    "            lst.append(e)\n",
    "        else:\n",
    "            all_lists.append(lst)\n",
    "            lst = [e]\n",
    "            flag = flag_\n",
    "    \n",
    "    # close the last list\n",
    "    all_lists.append(lst)        \n",
    "    \n",
    "    # Sort the lists (maybe unnecessary)\n",
    "    #all_lists = sorted([l for l in all_lists if l != []])\n",
    "    \n",
    "    return all_lists "
   ]
  },
  {
   "cell_type": "code",
   "execution_count": 94,
   "metadata": {},
   "outputs": [
    {
     "name": "stdout",
     "output_type": "stream",
     "text": [
      "[0, 1, 2, 3, 4, 5, 7, 9] [4, 5, 6, 7, 8, 10, 12, 14, 16, 18, 20]\n"
     ]
    },
    {
     "data": {
      "text/plain": [
       "[[0, 1, 2, 3], [4, 5], [6], [7], [8], [9], [10, 12, 14, 16, 18, 20]]"
      ]
     },
     "execution_count": 94,
     "metadata": {},
     "output_type": "execute_result"
    }
   ],
   "source": [
    "contiguous_sublists(list(range(5))+list(range(5,11,2)), list(range(4,8))+list(range(8,21,2)))"
   ]
  },
  {
   "cell_type": "code",
   "execution_count": null,
   "metadata": {},
   "outputs": [],
   "source": []
  }
 ],
 "metadata": {
  "kernelspec": {
   "display_name": "venv",
   "language": "python",
   "name": "venv"
  },
  "language_info": {
   "codemirror_mode": {
    "name": "ipython",
    "version": 3
   },
   "file_extension": ".py",
   "mimetype": "text/x-python",
   "name": "python",
   "nbconvert_exporter": "python",
   "pygments_lexer": "ipython3",
   "version": "3.6.9"
  },
  "toc": {
   "nav_menu": {},
   "number_sections": true,
   "sideBar": true,
   "skip_h1_title": false,
   "title_cell": "Table of Contents",
   "title_sidebar": "Contents",
   "toc_cell": false,
   "toc_position": {},
   "toc_section_display": true,
   "toc_window_display": false
  }
 },
 "nbformat": 4,
 "nbformat_minor": 2
}
