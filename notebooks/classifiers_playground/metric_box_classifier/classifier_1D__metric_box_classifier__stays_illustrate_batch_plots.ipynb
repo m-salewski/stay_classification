{
 "cells": [
  {
   "cell_type": "code",
   "execution_count": 1,
   "metadata": {},
   "outputs": [
    {
     "data": {
      "text/html": [
       "<style>.container { width:100% !important; }</style>"
      ],
      "text/plain": [
       "<IPython.core.display.HTML object>"
      ]
     },
     "metadata": {},
     "output_type": "display_data"
    }
   ],
   "source": [
    "from IPython.core.display import display, HTML\n",
    "display(HTML(\"<style>.container { width:100% !important; }</style>\"))"
   ]
  },
  {
   "cell_type": "code",
   "execution_count": 2,
   "metadata": {},
   "outputs": [],
   "source": [
    "# This will reload imports before executing code, allowing you to easily change contents of custom scripts\n",
    "%load_ext autoreload\n",
    "%autoreload 2"
   ]
  },
  {
   "cell_type": "markdown",
   "metadata": {},
   "source": [
    "# Metric box classifier & synthetic data: batch plotting\n",
    "\n",
    "**25.08.2020**\n",
    "\n",
    "import numpy as np\n",
    "import pandas as pd"
   ]
  },
  {
   "cell_type": "code",
   "execution_count": 4,
   "metadata": {},
   "outputs": [],
   "source": [
    "import numpy as np\n",
    "\n",
    "%matplotlib inline\n",
    "import matplotlib.pyplot as plt\n",
    "\n",
    "import os, sys\n",
    "sys.path.append('/home/sandm/Notebooks/stay_classification/src/')"
   ]
  },
  {
   "cell_type": "code",
   "execution_count": 6,
   "metadata": {},
   "outputs": [],
   "source": [
    "from synthetic_data.trajectory_class import get_pickle_trajectory\n",
    "from synthetic_data.trajectory import get_stay_segs, get_adjusted_stays\n",
    "from stay_classification.metric_box_classifier.metric_box_classifier import stay_classifier_testing\n",
    "from helper__metric_box__explore import eval_synth_data\n",
    "from synthetic_data.plotting import add_plot_trajectory, add_plot_seg_boxes, add_plot_cluster_boxplots"
   ]
  },
  {
   "cell_type": "markdown",
   "metadata": {},
   "source": [
    "# Start here"
   ]
  },
  {
   "cell_type": "code",
   "execution_count": 7,
   "metadata": {},
   "outputs": [],
   "source": [
    "dsec = 1/3600.0\n",
    "t_total = np.arange(0,24,dsec)"
   ]
  },
  {
   "cell_type": "code",
   "execution_count": 8,
   "metadata": {},
   "outputs": [],
   "source": [
    "time_thresh = 1/6\n",
    "dist_thresh=0.25"
   ]
  },
  {
   "cell_type": "code",
   "execution_count": 15,
   "metadata": {},
   "outputs": [],
   "source": [
    "nr_stays = 3"
   ]
  },
  {
   "cell_type": "code",
   "execution_count": 16,
   "metadata": {},
   "outputs": [
    {
     "name": "stdout",
     "output_type": "stream",
     "text": [
      "[Errno 17] File exists: './testdata_training_set__canonical_3stays/plots/'\n"
     ]
    }
   ],
   "source": [
    "data_dir = f\"./testdata_training_set__canonical_{nr_stays}stays/\"\n",
    "\n",
    "data_dir_plots = data_dir + \"plots/\"\n",
    "\n",
    "try:\n",
    "    os.makedirs(data_dir_plots)\n",
    "except OSError as e:\n",
    "    print(e)\n",
    "    \n",
    "try:\n",
    "    os.makedirs(data_dir_plots + \"bad/\")\n",
    "except OSError as e:\n",
    "    print(e)\n",
    "\n",
    "try:\n",
    "    os.makedirs(data_dir_plots + \"good/\")\n",
    "except OSError as e:\n",
    "    print(e)"
   ]
  },
  {
   "cell_type": "code",
   "execution_count": 21,
   "metadata": {
    "scrolled": false
   },
   "outputs": [
    {
     "name": "stdout",
     "output_type": "stream",
     "text": [
      " 800 of  1000\n",
      " 900 of  1000\n"
     ]
    }
   ],
   "source": [
    "lens = []\n",
    "precs = []\n",
    "recs = []\n",
    "\n",
    "lens3 = []\n",
    "precs3 = []\n",
    "recs3 = []\n",
    "\n",
    "bad_list = []\n",
    "\n",
    "precrec_limit = 0.80\n",
    "\n",
    "ii = 0\n",
    "\n",
    "length_criterion_break = False\n",
    "iqr_trim = False\n",
    "verbose = False\n",
    "\n",
    "total = 1000\n",
    "tots = 800 \n",
    "for ii in range(tots, tots+200):\n",
    "    \n",
    "    # Load the data\n",
    "    trajectory_tag = f\"trajectory{ii}_{nr_stays}stays\"    \n",
    "    path_to_file =  data_dir + trajectory_tag\n",
    "    t_arr, r_arr, x_arr, segments = get_pickle_trajectory(path_to_file)\n",
    "    t_segs, x_segs = get_stay_segs(get_adjusted_stays(segments, t_arr))\n",
    "\n",
    "    # Get the stay clusters\n",
    "    all_clusters = stay_classifier_testing(t_arr, x_arr, dist_thresh, time_thresh, verbose)    \n",
    "    \n",
    "    stage_titels = [\n",
    "            f\"Stage {1}: get mini-clusters and merging\",\n",
    "            f\"Stage {2}: extend clusters and IQR-filter\",\n",
    "            f\"Stage {3}: separate overlapping clusters\",\n",
    "            f\"Stage {4}: merge nearby clusters\",\n",
    "            f\"Stage {5}: shift the boxes\",\n",
    "            f\"Stage {6}: filter regions by IQR\"\n",
    "        ]\n",
    "\n",
    "    final_len=len(all_clusters[-1])\n",
    "    prec, rec, conmat = eval_synth_data(segments, t_arr, all_clusters[-1])\n",
    "    \n",
    "    results_dir = \"good/\"\n",
    "    \n",
    "    staystr = f\"{final_len}\"\n",
    "    precstr = f\"{prec:6.3f}\".strip().replace(\".\",\"o\")\n",
    "    recstr = f\"{rec:6.3f}\".strip().replace(\".\",\"o\")\n",
    "\n",
    "    stays_tag = int((x_segs.size)/3)\n",
    "    notes = f\"{staystr}stays_prec{precstr}_rec{recstr}\"\n",
    "\n",
    "    trajectory_tag = f\"trajectory{ii}_{stays_tag}stays\" \n",
    "    trajectory_tag += f\"__{notes}\"\n",
    "    \n",
    "    if (prec < precrec_limit) | (rec < precrec_limit) | (final_len != stays_tag):    \n",
    "        #if ((prec < precrec_limit) | (rec < precrec_limit)) & (final_len == 3):\n",
    "        reason = f\"Traj.{ii}: \"\n",
    "        if (final_len != stays_tag): \n",
    "            reason += \" wrong stays;\"\n",
    "        if (prec < precrec_limit):\n",
    "            reason += \" p low;\"\n",
    "        if (rec < precrec_limit):\n",
    "            reason += \" r low;\"\n",
    "        \n",
    "        #print(ii, reason)        \n",
    "        bad_list.append(trajectory_tag)\n",
    "        results_dir = \"bad/\"\n",
    "    else:\n",
    "        results_dir = \"good/\"\n",
    "    \n",
    "    len_all_clusts = len(all_clusters)\n",
    "    \n",
    "    fig, axs = plt.subplots(len_all_clusts,1,figsize=[20,len_all_clusts*6])\n",
    "    fig.subplots_adjust(bottom=0.1, top=0.9, hspace=0.4)\n",
    "    ylim = [x_arr.min()-2*dist_thresh, x_arr.max()+2*dist_thresh]\n",
    "\n",
    "    axs =axs.flatten()\n",
    "\n",
    "    for i in range(len_all_clusts):\n",
    "        try:\n",
    "            ax = axs[i]\n",
    "            add_plot_trajectory(t_arr, r_arr, x_arr, t_segs, x_segs, dist_thresh, ax)\n",
    "            #ax.set_xlim(0.7,23.3)\n",
    "            ax.set_xlim([5.75,18.25]);\n",
    "            add_plot_seg_boxes(t_segs, x_segs, dist_thresh, ax)\n",
    "            add_plot_cluster_boxplots(t_arr, x_arr, all_clusters[-1], dist_thresh, ax)\n",
    "            ax.set_ylim(ylim);\n",
    "            ax.set_title(f\"{stage_titels[-1]}\", fontsize=16);\n",
    "        except:\n",
    "            print(f\"File {ii}, plotting stage {i} failed\")\n",
    "            pass\n",
    "\n",
    "    fig.suptitle(f\"{final_len:4d} Stays, prec. {prec:6.3f}, {rec:6.3f}\", fontsize=16)\n",
    "    \n",
    "    path_to_file =  data_dir_plots + results_dir + trajectory_tag\n",
    "    plt.savefig(path_to_file + \".png\")\n",
    "    plt.close()\n",
    "    \n",
    "    if final_len != stays_tag:\n",
    "        lens.append(final_len)\n",
    "        precs.append(prec)\n",
    "        recs.append(rec)\n",
    "    else:\n",
    "        lens3.append(final_len)\n",
    "        precs3.append(prec)\n",
    "        recs3.append(rec)\n",
    "    \n",
    "    \n",
    "    if ii % int(0.1*total) == 0:\n",
    "        print(f\"{ii:4d} of {total:5d}\")\n"
   ]
  }
 ],
 "metadata": {
  "kernelspec": {
   "display_name": "venv",
   "language": "python",
   "name": "venv"
  },
  "language_info": {
   "codemirror_mode": {
    "name": "ipython",
    "version": 3
   },
   "file_extension": ".py",
   "mimetype": "text/x-python",
   "name": "python",
   "nbconvert_exporter": "python",
   "pygments_lexer": "ipython3",
   "version": "3.6.9"
  },
  "toc": {
   "nav_menu": {},
   "number_sections": true,
   "sideBar": true,
   "skip_h1_title": false,
   "title_cell": "Table of Contents",
   "title_sidebar": "Contents",
   "toc_cell": false,
   "toc_position": {},
   "toc_section_display": true,
   "toc_window_display": false
  }
 },
 "nbformat": 4,
 "nbformat_minor": 2
}
