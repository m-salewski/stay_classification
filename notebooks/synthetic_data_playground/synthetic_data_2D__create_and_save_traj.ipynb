{
 "cells": [
  {
   "cell_type": "code",
   "execution_count": 2,
   "metadata": {},
   "outputs": [
    {
     "data": {
      "text/html": [
       "<style>.container { width:100% !important; }</style>"
      ],
      "text/plain": [
       "<IPython.core.display.HTML object>"
      ]
     },
     "metadata": {},
     "output_type": "display_data"
    }
   ],
   "source": [
    "from IPython.core.display import display, HTML\n",
    "display(HTML(\"<style>.container { width:100% !important; }</style>\"))"
   ]
  },
  {
   "cell_type": "code",
   "execution_count": 3,
   "metadata": {},
   "outputs": [],
   "source": [
    "# This will reload imports before executing code, allowing you to easily change contents of custom scripts\n",
    "%load_ext autoreload\n",
    "%autoreload 2"
   ]
  },
  {
   "cell_type": "code",
   "execution_count": 4,
   "metadata": {},
   "outputs": [],
   "source": [
    "import numpy as np\n",
    "\n",
    "%matplotlib inline\n",
    "import matplotlib.pyplot as plt"
   ]
  },
  {
   "cell_type": "code",
   "execution_count": 5,
   "metadata": {},
   "outputs": [],
   "source": [
    "import os, sys\n",
    "sys.path.append('/home/sandm/Notebooks/stay_classification/src/')"
   ]
  },
  {
   "cell_type": "markdown",
   "metadata": {},
   "source": [
    "# Random 2D trajectory creation\n",
    "\n",
    "Create a (random) sequence of signaling events, _eg_ GPS measurements, with locationsobscured by noise. \n",
    "\n",
    "<br/>\n",
    "\n",
    "<font color='red' size=4>\n",
    "    NOTE: Instead of doing it by hand, it's better to build the scripts to create the 2D trajectory\n",
    "</font>"
   ]
  },
  {
   "cell_type": "markdown",
   "metadata": {},
   "source": [
    "**Note** the signaling events for a given user, form a set $\\mathcal{E} :=  \\{e_i = (\\mathbf{x}_i, t_i), i=[0,N-1] \\; | \\; t_{i+1}>t_i\\}$"
   ]
  },
  {
   "cell_type": "markdown",
   "metadata": {},
   "source": [
    "## Configs"
   ]
  },
  {
   "cell_type": "markdown",
   "metadata": {
    "hide_input": false
   },
   "source": [
    "There are a few main configs:\n",
    "* the minimal duration of the stays\n",
    "* the minimal distance between two adjacent stays\n",
    "* the rest are just ranges for some stochastics which control the noise "
   ]
  },
  {
   "cell_type": "code",
   "execution_count": 6,
   "metadata": {},
   "outputs": [],
   "source": [
    "configs = {\n",
    "    'time_thresh':1/6,\n",
    "    'dist_thresh':0.5,\n",
    "    'noise_min':0.02,\n",
    "    'noise_max':0.15\n",
    "}"
   ]
  },
  {
   "cell_type": "markdown",
   "metadata": {},
   "source": [
    "## Create the trajectories"
   ]
  },
  {
   "cell_type": "markdown",
   "metadata": {},
   "source": [
    "The trajectory is specified by a time array and a locations array. \n",
    "\n",
    "There are a few additional arrays, namely \n",
    "* one with the raw trajectory without the noise\n",
    "    * these are used for evaluating the classification\n",
    "* lists of the stays as segments defined by the pairs $[(\\mathbf{x}_i, t_i)$, $(\\mathbf{x}_i, t_j)]$\n",
    "    * these are what should be identified"
   ]
  },
  {
   "cell_type": "code",
   "execution_count": 7,
   "metadata": {},
   "outputs": [],
   "source": [
    "from synthetic_data.trajectory import get_stay_segs, get_adjusted_stays\n",
    "from synthetic_data.trajectory_class import get_rand_traj"
   ]
  },
  {
   "cell_type": "code",
   "execution_count": 115,
   "metadata": {},
   "outputs": [],
   "source": [
    "time_arr, raw_arr, noise_arr, segments = get_rand_traj(configs)\n",
    "t_segs, x_segs = get_stay_segs(get_adjusted_stays(segments, time_arr))"
   ]
  },
  {
   "cell_type": "markdown",
   "metadata": {},
   "source": [
    "## Visualizations"
   ]
  },
  {
   "cell_type": "code",
   "execution_count": 54,
   "metadata": {},
   "outputs": [],
   "source": [
    "from synthetic_data.plotting import plot_trajectory"
   ]
  },
  {
   "cell_type": "code",
   "execution_count": 116,
   "metadata": {},
   "outputs": [
    {
     "data": {
      "application/vnd.jupyter.widget-view+json": {
       "model_id": "634f4f1411904f60a40ab8cc0a5e283d",
       "version_major": 2,
       "version_minor": 0
      },
      "text/plain": [
       "Canvas(toolbar=Toolbar(toolitems=[('Home', 'Reset original view', 'home', 'home'), ('Back', 'Back to previous …"
      ]
     },
     "metadata": {},
     "output_type": "display_data"
    }
   ],
   "source": [
    "plot_trajectory(time_arr, raw_arr, noise_arr, t_segs, x_segs, configs['dist_thresh'])"
   ]
  },
  {
   "cell_type": "markdown",
   "metadata": {},
   "source": [
    "### tabling"
   ]
  },
  {
   "cell_type": "code",
   "execution_count": 14,
   "metadata": {},
   "outputs": [],
   "source": [
    "from synthetic_data.trajectory import get_stay_indices"
   ]
  },
  {
   "cell_type": "code",
   "execution_count": 30,
   "metadata": {},
   "outputs": [],
   "source": [
    "true_indices = get_stay_indices(get_adjusted_stays(segments, time_arr), time_arr)\n",
    "true_labels = np.zeros(time_arr.shape)\n",
    "\n",
    "for pair in true_indices:\n",
    "    true_labels[pair[0]:pair[1]+1] = 1"
   ]
  },
  {
   "cell_type": "code",
   "execution_count": 16,
   "metadata": {},
   "outputs": [],
   "source": [
    "import pandas as pd"
   ]
  },
  {
   "cell_type": "code",
   "execution_count": 56,
   "metadata": {},
   "outputs": [],
   "source": [
    "df = pd.DataFrame({'ID':time_arr.size*[\"#111111\"], 'time':time_arr, 'x':raw_arr, 'nx':noise_arr, 'stay':np.array(true_labels).astype(bool)})"
   ]
  },
  {
   "cell_type": "code",
   "execution_count": 42,
   "metadata": {
    "scrolled": false
   },
   "outputs": [
    {
     "data": {
      "text/html": [
       "<div>\n",
       "<style scoped>\n",
       "    .dataframe tbody tr th:only-of-type {\n",
       "        vertical-align: middle;\n",
       "    }\n",
       "\n",
       "    .dataframe tbody tr th {\n",
       "        vertical-align: top;\n",
       "    }\n",
       "\n",
       "    .dataframe thead th {\n",
       "        text-align: right;\n",
       "    }\n",
       "</style>\n",
       "<table border=\"1\" class=\"dataframe\">\n",
       "  <thead>\n",
       "    <tr style=\"text-align: right;\">\n",
       "      <th></th>\n",
       "      <th>ID</th>\n",
       "      <th>time</th>\n",
       "      <th>x</th>\n",
       "      <th>nx</th>\n",
       "      <th>stay</th>\n",
       "    </tr>\n",
       "  </thead>\n",
       "  <tbody>\n",
       "    <tr>\n",
       "      <th>0</th>\n",
       "      <td>#111111</td>\n",
       "      <td>0.053056</td>\n",
       "      <td>-0.407513</td>\n",
       "      <td>-0.414037</td>\n",
       "      <td>True</td>\n",
       "    </tr>\n",
       "    <tr>\n",
       "      <th>1</th>\n",
       "      <td>#111111</td>\n",
       "      <td>0.185278</td>\n",
       "      <td>-0.407513</td>\n",
       "      <td>-0.332827</td>\n",
       "      <td>True</td>\n",
       "    </tr>\n",
       "    <tr>\n",
       "      <th>2</th>\n",
       "      <td>#111111</td>\n",
       "      <td>0.289722</td>\n",
       "      <td>-0.407513</td>\n",
       "      <td>-0.447598</td>\n",
       "      <td>True</td>\n",
       "    </tr>\n",
       "    <tr>\n",
       "      <th>3</th>\n",
       "      <td>#111111</td>\n",
       "      <td>0.378889</td>\n",
       "      <td>-0.407513</td>\n",
       "      <td>-0.331953</td>\n",
       "      <td>True</td>\n",
       "    </tr>\n",
       "    <tr>\n",
       "      <th>4</th>\n",
       "      <td>#111111</td>\n",
       "      <td>0.428611</td>\n",
       "      <td>-0.407513</td>\n",
       "      <td>-0.350395</td>\n",
       "      <td>True</td>\n",
       "    </tr>\n",
       "    <tr>\n",
       "      <th>5</th>\n",
       "      <td>#111111</td>\n",
       "      <td>0.481111</td>\n",
       "      <td>-0.407513</td>\n",
       "      <td>-0.442189</td>\n",
       "      <td>True</td>\n",
       "    </tr>\n",
       "    <tr>\n",
       "      <th>6</th>\n",
       "      <td>#111111</td>\n",
       "      <td>0.551944</td>\n",
       "      <td>-0.407513</td>\n",
       "      <td>-0.357406</td>\n",
       "      <td>True</td>\n",
       "    </tr>\n",
       "    <tr>\n",
       "      <th>7</th>\n",
       "      <td>#111111</td>\n",
       "      <td>0.626389</td>\n",
       "      <td>-0.407513</td>\n",
       "      <td>-0.407316</td>\n",
       "      <td>True</td>\n",
       "    </tr>\n",
       "    <tr>\n",
       "      <th>8</th>\n",
       "      <td>#111111</td>\n",
       "      <td>0.626389</td>\n",
       "      <td>-0.407513</td>\n",
       "      <td>-0.386647</td>\n",
       "      <td>True</td>\n",
       "    </tr>\n",
       "    <tr>\n",
       "      <th>9</th>\n",
       "      <td>#111111</td>\n",
       "      <td>0.723611</td>\n",
       "      <td>-0.407513</td>\n",
       "      <td>-0.501745</td>\n",
       "      <td>True</td>\n",
       "    </tr>\n",
       "  </tbody>\n",
       "</table>\n",
       "</div>"
      ],
      "text/plain": [
       "        ID      time         x        nx  stay\n",
       "0  #111111  0.053056 -0.407513 -0.414037  True\n",
       "1  #111111  0.185278 -0.407513 -0.332827  True\n",
       "2  #111111  0.289722 -0.407513 -0.447598  True\n",
       "3  #111111  0.378889 -0.407513 -0.331953  True\n",
       "4  #111111  0.428611 -0.407513 -0.350395  True\n",
       "5  #111111  0.481111 -0.407513 -0.442189  True\n",
       "6  #111111  0.551944 -0.407513 -0.357406  True\n",
       "7  #111111  0.626389 -0.407513 -0.407316  True\n",
       "8  #111111  0.626389 -0.407513 -0.386647  True\n",
       "9  #111111  0.723611 -0.407513 -0.501745  True"
      ]
     },
     "execution_count": 42,
     "metadata": {},
     "output_type": "execute_result"
    }
   ],
   "source": [
    "dfx.head(10)"
   ]
  },
  {
   "cell_type": "code",
   "execution_count": 41,
   "metadata": {
    "scrolled": false
   },
   "outputs": [
    {
     "data": {
      "text/plain": [
       "<matplotlib.axes._subplots.AxesSubplot at 0x7fde477f3048>"
      ]
     },
     "execution_count": 41,
     "metadata": {},
     "output_type": "execute_result"
    },
    {
     "data": {
      "image/png": "[encoded data removed]",
      "text/plain": [
       "<Figure size 1440x720 with 1 Axes>"
      ]
     },
     "metadata": {
      "needs_background": "light"
     },
     "output_type": "display_data"
    }
   ],
   "source": [
    "fig, ax = plt.subplots(figsize=[20,10])\n",
    "dfx.plot(x='time', y='x', marker='', linestyle='--', ax=ax)\n",
    "dfx.plot(x='time', y='nx', marker='.', linestyle='-', ax=ax)\n",
    "dfx[dfx['stay']].plot(x='time', y='x', color='k',marker='o', linestyle='--', dashes=[1,0.5], linewidth=5, ax=ax)"
   ]
  },
  {
   "cell_type": "code",
   "execution_count": 69,
   "metadata": {},
   "outputs": [
    {
     "data": {
      "text/html": [
       "<div>\n",
       "<style scoped>\n",
       "    .dataframe tbody tr th:only-of-type {\n",
       "        vertical-align: middle;\n",
       "    }\n",
       "\n",
       "    .dataframe tbody tr th {\n",
       "        vertical-align: top;\n",
       "    }\n",
       "\n",
       "    .dataframe thead th {\n",
       "        text-align: right;\n",
       "    }\n",
       "</style>\n",
       "<table border=\"1\" class=\"dataframe\">\n",
       "  <thead>\n",
       "    <tr style=\"text-align: right;\">\n",
       "      <th></th>\n",
       "      <th>ID</th>\n",
       "      <th>time</th>\n",
       "      <th>x</th>\n",
       "      <th>nx</th>\n",
       "      <th>stay</th>\n",
       "      <th>time_bin</th>\n",
       "    </tr>\n",
       "  </thead>\n",
       "  <tbody>\n",
       "    <tr>\n",
       "      <th>0</th>\n",
       "      <td>#111111</td>\n",
       "      <td>0.057778</td>\n",
       "      <td>1.597144</td>\n",
       "      <td>1.480571</td>\n",
       "      <td>True</td>\n",
       "      <td>0.057755</td>\n",
       "    </tr>\n",
       "    <tr>\n",
       "      <th>1</th>\n",
       "      <td>#111111</td>\n",
       "      <td>0.190000</td>\n",
       "      <td>1.597144</td>\n",
       "      <td>1.499828</td>\n",
       "      <td>True</td>\n",
       "      <td>0.189931</td>\n",
       "    </tr>\n",
       "    <tr>\n",
       "      <th>2</th>\n",
       "      <td>#111111</td>\n",
       "      <td>0.292222</td>\n",
       "      <td>1.597144</td>\n",
       "      <td>1.555307</td>\n",
       "      <td>True</td>\n",
       "      <td>0.292130</td>\n",
       "    </tr>\n",
       "    <tr>\n",
       "      <th>3</th>\n",
       "      <td>#111111</td>\n",
       "      <td>0.447778</td>\n",
       "      <td>1.597144</td>\n",
       "      <td>1.560354</td>\n",
       "      <td>True</td>\n",
       "      <td>0.447685</td>\n",
       "    </tr>\n",
       "    <tr>\n",
       "      <th>4</th>\n",
       "      <td>#111111</td>\n",
       "      <td>0.459167</td>\n",
       "      <td>1.597144</td>\n",
       "      <td>1.420859</td>\n",
       "      <td>True</td>\n",
       "      <td>0.459144</td>\n",
       "    </tr>\n",
       "  </tbody>\n",
       "</table>\n",
       "</div>"
      ],
      "text/plain": [
       "        ID      time         x        nx  stay  time_bin\n",
       "0  #111111  0.057778  1.597144  1.480571  True  0.057755\n",
       "1  #111111  0.190000  1.597144  1.499828  True  0.189931\n",
       "2  #111111  0.292222  1.597144  1.555307  True  0.292130\n",
       "3  #111111  0.447778  1.597144  1.560354  True  0.447685\n",
       "4  #111111  0.459167  1.597144  1.420859  True  0.459144"
      ]
     },
     "execution_count": 69,
     "metadata": {},
     "output_type": "execute_result"
    }
   ],
   "source": [
    "dfx.head()"
   ]
  },
  {
   "cell_type": "code",
   "execution_count": 117,
   "metadata": {},
   "outputs": [],
   "source": [
    "dfy = pd.DataFrame({'ID':time_arr.size*[\"#111111\"], 'time':time_arr, 'y':raw_arr, 'ny':noise_arr, 'stay':np.array(true_labels).astype(bool)})"
   ]
  },
  {
   "cell_type": "code",
   "execution_count": 118,
   "metadata": {},
   "outputs": [
    {
     "data": {
      "text/html": [
       "<div>\n",
       "<style scoped>\n",
       "    .dataframe tbody tr th:only-of-type {\n",
       "        vertical-align: middle;\n",
       "    }\n",
       "\n",
       "    .dataframe tbody tr th {\n",
       "        vertical-align: top;\n",
       "    }\n",
       "\n",
       "    .dataframe thead th {\n",
       "        text-align: right;\n",
       "    }\n",
       "</style>\n",
       "<table border=\"1\" class=\"dataframe\">\n",
       "  <thead>\n",
       "    <tr style=\"text-align: right;\">\n",
       "      <th></th>\n",
       "      <th>ID</th>\n",
       "      <th>time</th>\n",
       "      <th>x</th>\n",
       "      <th>nx</th>\n",
       "      <th>stay</th>\n",
       "    </tr>\n",
       "  </thead>\n",
       "  <tbody>\n",
       "    <tr>\n",
       "      <th>0</th>\n",
       "      <td>#111111</td>\n",
       "      <td>0.055278</td>\n",
       "      <td>-1.706245</td>\n",
       "      <td>-1.709878</td>\n",
       "      <td>True</td>\n",
       "    </tr>\n",
       "    <tr>\n",
       "      <th>1</th>\n",
       "      <td>#111111</td>\n",
       "      <td>0.109722</td>\n",
       "      <td>-1.706245</td>\n",
       "      <td>-1.763388</td>\n",
       "      <td>True</td>\n",
       "    </tr>\n",
       "    <tr>\n",
       "      <th>2</th>\n",
       "      <td>#111111</td>\n",
       "      <td>0.195833</td>\n",
       "      <td>-1.706245</td>\n",
       "      <td>-1.730857</td>\n",
       "      <td>True</td>\n",
       "    </tr>\n",
       "    <tr>\n",
       "      <th>3</th>\n",
       "      <td>#111111</td>\n",
       "      <td>0.203333</td>\n",
       "      <td>-1.706245</td>\n",
       "      <td>-1.652080</td>\n",
       "      <td>True</td>\n",
       "    </tr>\n",
       "    <tr>\n",
       "      <th>4</th>\n",
       "      <td>#111111</td>\n",
       "      <td>0.245000</td>\n",
       "      <td>-1.706245</td>\n",
       "      <td>-1.634114</td>\n",
       "      <td>True</td>\n",
       "    </tr>\n",
       "  </tbody>\n",
       "</table>\n",
       "</div>"
      ],
      "text/plain": [
       "        ID      time         x        nx  stay\n",
       "0  #111111  0.055278 -1.706245 -1.709878  True\n",
       "1  #111111  0.109722 -1.706245 -1.763388  True\n",
       "2  #111111  0.195833 -1.706245 -1.730857  True\n",
       "3  #111111  0.203333 -1.706245 -1.652080  True\n",
       "4  #111111  0.245000 -1.706245 -1.634114  True"
      ]
     },
     "execution_count": 118,
     "metadata": {},
     "output_type": "execute_result"
    }
   ],
   "source": [
    "dfy.head()"
   ]
  },
  {
   "cell_type": "code",
   "execution_count": 119,
   "metadata": {},
   "outputs": [],
   "source": [
    "binw = 1/(24)\n",
    "\n",
    "dfx['time_bin'] = dfx['time'].apply(lambda x: x-x%binw)\n",
    "dfy['time_bin'] = dfy['time'].apply(lambda x: x-x%binw)\n"
   ]
  },
  {
   "cell_type": "code",
   "execution_count": 112,
   "metadata": {},
   "outputs": [],
   "source": [
    "%matplotlib widget\n",
    "from mpl_toolkits.mplot3d import Axes3D"
   ]
  },
  {
   "cell_type": "code",
   "execution_count": 120,
   "metadata": {},
   "outputs": [],
   "source": [
    "dfm = dfx[['time_bin', 'nx']].merge(dfy[['time_bin', 'nx']], on='time_bin', how='inner').head()"
   ]
  },
  {
   "cell_type": "code",
   "execution_count": 121,
   "metadata": {},
   "outputs": [],
   "source": [
    "binw = 1/12\n",
    "\n",
    "dfx['time_bin'] = dfx['time'].apply(lambda x: x-x%binw)\n",
    "dfy['time_bin'] = dfy['time'].apply(lambda x: x-x%binw)\n"
   ]
  },
  {
   "cell_type": "code",
   "execution_count": 92,
   "metadata": {},
   "outputs": [
    {
     "data": {
      "text/plain": [
       "(5, 3)"
      ]
     },
     "execution_count": 92,
     "metadata": {},
     "output_type": "execute_result"
    }
   ],
   "source": [
    "dfm.shape"
   ]
  },
  {
   "cell_type": "code",
   "execution_count": 122,
   "metadata": {},
   "outputs": [],
   "source": [
    "df_g = dfx.groupby('time_bin').agg({'nx':'mean'}).reset_index()\n",
    "dfy_g = dfy.groupby('time_bin').agg({'nx':'mean'}).reset_index()"
   ]
  },
  {
   "cell_type": "code",
   "execution_count": 124,
   "metadata": {},
   "outputs": [],
   "source": [
    "df_g = df_g.merge(dfy_g, on='time_bin')"
   ]
  },
  {
   "cell_type": "code",
   "execution_count": 125,
   "metadata": {},
   "outputs": [
    {
     "data": {
      "application/vnd.jupyter.widget-view+json": {
       "model_id": "f9be7cf330c241b08cf664f37c06885d",
       "version_major": 2,
       "version_minor": 0
      },
      "text/plain": [
       "Canvas(toolbar=Toolbar(toolitems=[('Home', 'Reset original view', 'home', 'home'), ('Back', 'Back to previous …"
      ]
     },
     "metadata": {},
     "output_type": "display_data"
    },
    {
     "data": {
      "text/plain": [
       "<matplotlib.axes._subplots.AxesSubplot at 0x7fde45a0dc50>"
      ]
     },
     "execution_count": 125,
     "metadata": {},
     "output_type": "execute_result"
    }
   ],
   "source": [
    "fig, ax = plt.subplots(figsize=[20,10])\n",
    "df_g.plot(x='time_bin', y='nx_x', marker='.', linestyle='-', ax=ax)\n",
    "df_g.plot(x='time_bin', y='nx_y', marker='.', linestyle='-', ax=ax)\n"
   ]
  },
  {
   "cell_type": "code",
   "execution_count": 126,
   "metadata": {},
   "outputs": [
    {
     "data": {
      "application/vnd.jupyter.widget-view+json": {
       "model_id": "28a6f53d169242268e79546720014bc4",
       "version_major": 2,
       "version_minor": 0
      },
      "text/plain": [
       "Canvas(toolbar=Toolbar(toolitems=[('Home', 'Reset original view', 'home', 'home'), ('Back', 'Back to previous …"
      ]
     },
     "metadata": {},
     "output_type": "display_data"
    }
   ],
   "source": [
    "fig = plt.figure(figsize=[10,10])\n",
    "ax = fig.add_subplot(111, projection='3d')\n",
    "\n",
    "'''\n",
    "ax.errorbar(range(4), meanM0, yerr=stddevM0, color='g', linestyle='-.',  linewidth=3, alpha=0.99) \n",
    "ax.errorbar(range(4), meanM1, yerr=stddevM1, color='r', linestyle='--', linewidth=3, alpha=0.99) \n",
    "ax.errorbar(range(4), meanM2, yerr=stddevM2, color='b', linestyle=':',  linewidth=3, alpha=0.99) \n",
    "\n",
    "ax.legend(['0','1','2'])\n",
    "'''\n",
    "ax.plot(df_g.nx_x, df_g.nx_y, df_g.time_bin, color='g', linestyle='-', alpha=0.61, label=None)  \n",
    "  \n",
    "#    ax.scatter(xs, ys, zs, marker=m)\n",
    "\n",
    "#ax.set_xlabel('X Label: '+dataset.feature_names[0])\n",
    "#ax.set_ylabel('Y Label: '+dataset.feature_names[2])\n",
    "#ax.set_zlabel('Z Label: '+dataset.feature_names[3])\n",
    "\n",
    "plt.show();"
   ]
  },
  {
   "cell_type": "code",
   "execution_count": null,
   "metadata": {},
   "outputs": [],
   "source": [
    "path_to_file =  \"./testdata/\" + trajectory_tag + \".csv\"\n",
    "dfx.to_csv(path_to_filez, index=False)"
   ]
  },
  {
   "cell_type": "markdown",
   "metadata": {},
   "source": [
    "## Save the trajectory"
   ]
  },
  {
   "cell_type": "markdown",
   "metadata": {},
   "source": [
    "### Pickling"
   ]
  },
  {
   "cell_type": "code",
   "execution_count": 11,
   "metadata": {},
   "outputs": [],
   "source": [
    "from synthetic_data.trajectory_class import pickle_trajectory\n",
    "from datetime import datetime"
   ]
  },
  {
   "cell_type": "code",
   "execution_count": 12,
   "metadata": {},
   "outputs": [
    {
     "name": "stdout",
     "output_type": "stream",
     "text": [
      "./testdata/20200703_trajectory_5stays__.pkl\n"
     ]
    }
   ],
   "source": [
    "stays_tag = int((x_segs.size)/3)\n",
    "date_tag = datetime.today().strftime('%Y%m%d')\n",
    "notes = ''\n",
    "trajectory_tag = f\"{date_tag}_trajectory_{stays_tag}stays__{notes}\"\n",
    "path_to_file =  \"./testdata/\" + trajectory_tag + \".pkl\"\n",
    "print(path_to_file)"
   ]
  },
  {
   "cell_type": "code",
   "execution_count": 13,
   "metadata": {
    "scrolled": true
   },
   "outputs": [
    {
     "ename": "TypeError",
     "evalue": "expected str, bytes or os.PathLike object, not NoneType",
     "output_type": "error",
     "traceback": [
      "\u001b[0;31m---------------------------------------------------------------------------\u001b[0m",
      "\u001b[0;31mTypeError\u001b[0m                                 Traceback (most recent call last)",
      "\u001b[0;32m<ipython-input-13-e8ed2c7ad747>\u001b[0m in \u001b[0;36m<module>\u001b[0;34m\u001b[0m\n\u001b[0;32m----> 1\u001b[0;31m \u001b[0mpickle_trajectory\u001b[0m\u001b[0;34m(\u001b[0m\u001b[0mtime_arr\u001b[0m\u001b[0;34m,\u001b[0m \u001b[0mraw_arr\u001b[0m\u001b[0;34m,\u001b[0m \u001b[0mnoise_arr\u001b[0m\u001b[0;34m,\u001b[0m \u001b[0msegments\u001b[0m\u001b[0;34m,\u001b[0m \u001b[0;32mNone\u001b[0m\u001b[0;34m)\u001b[0m\u001b[0;34m\u001b[0m\u001b[0;34m\u001b[0m\u001b[0m\n\u001b[0m",
      "\u001b[0;32m~/Notebooks/stay_classification/src/synthetic_data/trajectory_class.py\u001b[0m in \u001b[0;36mpickle_trajectory\u001b[0;34m(t_arr, x_arr, nx_arr, segs, path_to_file)\u001b[0m\n\u001b[1;32m    205\u001b[0m     \u001b[0mtrajectory\u001b[0m\u001b[0;34m[\u001b[0m\u001b[0;34m'nse_locs_arr'\u001b[0m\u001b[0;34m]\u001b[0m \u001b[0;34m=\u001b[0m \u001b[0mnx_arr\u001b[0m\u001b[0;34m\u001b[0m\u001b[0;34m\u001b[0m\u001b[0m\n\u001b[1;32m    206\u001b[0m \u001b[0;34m\u001b[0m\u001b[0m\n\u001b[0;32m--> 207\u001b[0;31m     \u001b[0mpickle\u001b[0m\u001b[0;34m.\u001b[0m\u001b[0mdump\u001b[0m\u001b[0;34m(\u001b[0m \u001b[0mtrajectory\u001b[0m\u001b[0;34m,\u001b[0m \u001b[0mopen\u001b[0m\u001b[0;34m(\u001b[0m \u001b[0mpath_to_file\u001b[0m\u001b[0;34m,\u001b[0m \u001b[0;34m\"wb\"\u001b[0m \u001b[0;34m)\u001b[0m \u001b[0;34m)\u001b[0m\u001b[0;34m\u001b[0m\u001b[0;34m\u001b[0m\u001b[0m\n\u001b[0m",
      "\u001b[0;31mTypeError\u001b[0m: expected str, bytes or os.PathLike object, not NoneType"
     ]
    }
   ],
   "source": [
    "pickle_trajectory(time_arr, raw_arr, noise_arr, segments, None)"
   ]
  }
 ],
 "metadata": {
  "kernelspec": {
   "display_name": "Python 3",
   "language": "python",
   "name": "python3"
  },
  "language_info": {
   "codemirror_mode": {
    "name": "ipython",
    "version": 3
   },
   "file_extension": ".py",
   "mimetype": "text/x-python",
   "name": "python",
   "nbconvert_exporter": "python",
   "pygments_lexer": "ipython3",
   "version": "3.6.9"
  },
  "toc": {
   "nav_menu": {},
   "number_sections": true,
   "sideBar": true,
   "skip_h1_title": false,
   "title_cell": "Table of Contents",
   "title_sidebar": "Contents",
   "toc_cell": false,
   "toc_position": {},
   "toc_section_display": true,
   "toc_window_display": false
  }
 },
 "nbformat": 4,
 "nbformat_minor": 2
}
