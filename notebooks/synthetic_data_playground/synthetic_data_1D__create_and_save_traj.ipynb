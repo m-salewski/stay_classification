{
 "cells": [
  {
   "cell_type": "code",
   "execution_count": 2,
   "metadata": {},
   "outputs": [
    {
     "data": {
      "text/html": [
       "<style>.container { width:100% !important; }</style>"
      ],
      "text/plain": [
       "<IPython.core.display.HTML object>"
      ]
     },
     "metadata": {},
     "output_type": "display_data"
    }
   ],
   "source": [
    "from IPython.core.display import display, HTML\n",
    "display(HTML(\"<style>.container { width:100% !important; }</style>\"))"
   ]
  },
  {
   "cell_type": "code",
   "execution_count": 3,
   "metadata": {},
   "outputs": [],
   "source": [
    "# This will reload imports before executing code, allowing you to easily change contents of custom scripts\n",
    "%load_ext autoreload\n",
    "%autoreload 2"
   ]
  },
  {
   "cell_type": "code",
   "execution_count": 4,
   "metadata": {},
   "outputs": [],
   "source": [
    "import numpy as np\n",
    "\n",
    "%matplotlib inline\n",
    "import matplotlib.pyplot as plt"
   ]
  },
  {
   "cell_type": "code",
   "execution_count": 5,
   "metadata": {},
   "outputs": [],
   "source": [
    "import os, sys\n",
    "sys.path.append('/home/sandm/Notebooks/stay_classification/src/')"
   ]
  },
  {
   "cell_type": "markdown",
   "metadata": {},
   "source": [
    "# Random trajectory creation\n",
    "\n",
    "Create a (random) sequence of signaling events, _eg_ GPS measurements, with locationsobscured by noise. \n"
   ]
  },
  {
   "cell_type": "markdown",
   "metadata": {},
   "source": [
    "**Note** the signaling events for a given user, form a set $\\mathcal{E} :=  \\{e_i = (\\mathbf{x}_i, t_i), i=[0,N-1] \\; | \\; t_{i+1}>t_i\\}$"
   ]
  },
  {
   "cell_type": "markdown",
   "metadata": {},
   "source": [
    "## Configs"
   ]
  },
  {
   "cell_type": "markdown",
   "metadata": {
    "hide_input": false
   },
   "source": [
    "There are a few main configs:\n",
    "* the minimal duration of the stays\n",
    "* the minimal distance between two adjacent stays\n",
    "* the rest are just ranges for some stochastics which control the noise "
   ]
  },
  {
   "cell_type": "code",
   "execution_count": 6,
   "metadata": {},
   "outputs": [],
   "source": [
    "configs = {\n",
    "    'time_thresh':1/6,\n",
    "    'dist_thresh':0.5,\n",
    "    'noise_min':0.02,\n",
    "    'noise_max':0.15\n",
    "}"
   ]
  },
  {
   "cell_type": "markdown",
   "metadata": {},
   "source": [
    "## Create the trajectories"
   ]
  },
  {
   "cell_type": "markdown",
   "metadata": {},
   "source": [
    "The trajectory is specified by a time array and a locations array. \n",
    "\n",
    "There are a few additional arrays, namely \n",
    "* one with the raw trajectory without the noise\n",
    "    * these are used for evaluating the classification\n",
    "* lists of the stays as segments defined by the pairs $[(\\mathbf{x}_i, t_i)$, $(\\mathbf{x}_i, t_j)]$\n",
    "    * these are what should be identified"
   ]
  },
  {
   "cell_type": "code",
   "execution_count": 7,
   "metadata": {},
   "outputs": [],
   "source": [
    "from synthetic_data.trajectory import get_stay_segs, get_adjusted_stays\n",
    "from synthetic_data.trajectory_class import get_rand_traj"
   ]
  },
  {
   "cell_type": "code",
   "execution_count": 115,
   "metadata": {},
   "outputs": [],
   "source": [
    "time_arr, raw_arr, noise_arr, segments = get_rand_traj(configs)\n",
    "t_segs, x_segs = get_stay_segs(get_adjusted_stays(segments, time_arr))"
   ]
  },
  {
   "cell_type": "markdown",
   "metadata": {},
   "source": [
    "## Visualizations"
   ]
  },
  {
   "cell_type": "code",
   "execution_count": 54,
   "metadata": {},
   "outputs": [],
   "source": [
    "from synthetic_data.plotting import plot_trajectory"
   ]
  },
  {
   "cell_type": "code",
   "execution_count": 116,
   "metadata": {},
   "outputs": [
    {
     "data": {
      "application/vnd.jupyter.widget-view+json": {
       "model_id": "634f4f1411904f60a40ab8cc0a5e283d",
       "version_major": 2,
       "version_minor": 0
      },
      "text/plain": [
       "Canvas(toolbar=Toolbar(toolitems=[('Home', 'Reset original view', 'home', 'home'), ('Back', 'Back to previous …"
      ]
     },
     "metadata": {},
     "output_type": "display_data"
    }
   ],
   "source": [
    "plot_trajectory(time_arr, raw_arr, noise_arr, t_segs, x_segs, configs['dist_thresh'])"
   ]
  },
  {
   "cell_type": "markdown",
   "metadata": {},
   "source": [
    "## Save the trajectory"
   ]
  },
  {
   "cell_type": "markdown",
   "metadata": {},
   "source": [
    "### Pickling"
   ]
  },
  {
   "cell_type": "code",
   "execution_count": 11,
   "metadata": {},
   "outputs": [],
   "source": [
    "from synthetic_data.trajectory_class import pickle_trajectory\n",
    "from datetime import datetime"
   ]
  },
  {
   "cell_type": "code",
   "execution_count": 12,
   "metadata": {},
   "outputs": [
    {
     "name": "stdout",
     "output_type": "stream",
     "text": [
      "./testdata/20200703_trajectory_5stays__.pkl\n"
     ]
    }
   ],
   "source": [
    "stays_tag = int((x_segs.size)/3)\n",
    "date_tag = datetime.today().strftime('%Y%m%d')\n",
    "notes = ''\n",
    "trajectory_tag = f\"{date_tag}_trajectory_{stays_tag}stays__{notes}\"\n",
    "path_to_file =  \"./testdata/\" + trajectory_tag + \".pkl\"\n",
    "print(path_to_file)"
   ]
  },
  {
   "cell_type": "code",
   "execution_count": 13,
   "metadata": {},
   "outputs": [
    {
     "ename": "TypeError",
     "evalue": "expected str, bytes or os.PathLike object, not NoneType",
     "output_type": "error",
     "traceback": [
      "\u001b[0;31m---------------------------------------------------------------------------\u001b[0m",
      "\u001b[0;31mTypeError\u001b[0m                                 Traceback (most recent call last)",
      "\u001b[0;32m<ipython-input-13-e8ed2c7ad747>\u001b[0m in \u001b[0;36m<module>\u001b[0;34m\u001b[0m\n\u001b[0;32m----> 1\u001b[0;31m \u001b[0mpickle_trajectory\u001b[0m\u001b[0;34m(\u001b[0m\u001b[0mtime_arr\u001b[0m\u001b[0;34m,\u001b[0m \u001b[0mraw_arr\u001b[0m\u001b[0;34m,\u001b[0m \u001b[0mnoise_arr\u001b[0m\u001b[0;34m,\u001b[0m \u001b[0msegments\u001b[0m\u001b[0;34m,\u001b[0m \u001b[0;32mNone\u001b[0m\u001b[0;34m)\u001b[0m\u001b[0;34m\u001b[0m\u001b[0;34m\u001b[0m\u001b[0m\n\u001b[0m",
      "\u001b[0;32m~/Notebooks/stay_classification/src/synthetic_data/trajectory_class.py\u001b[0m in \u001b[0;36mpickle_trajectory\u001b[0;34m(t_arr, x_arr, nx_arr, segs, path_to_file)\u001b[0m\n\u001b[1;32m    205\u001b[0m     \u001b[0mtrajectory\u001b[0m\u001b[0;34m[\u001b[0m\u001b[0;34m'nse_locs_arr'\u001b[0m\u001b[0;34m]\u001b[0m \u001b[0;34m=\u001b[0m \u001b[0mnx_arr\u001b[0m\u001b[0;34m\u001b[0m\u001b[0;34m\u001b[0m\u001b[0m\n\u001b[1;32m    206\u001b[0m \u001b[0;34m\u001b[0m\u001b[0m\n\u001b[0;32m--> 207\u001b[0;31m     \u001b[0mpickle\u001b[0m\u001b[0;34m.\u001b[0m\u001b[0mdump\u001b[0m\u001b[0;34m(\u001b[0m \u001b[0mtrajectory\u001b[0m\u001b[0;34m,\u001b[0m \u001b[0mopen\u001b[0m\u001b[0;34m(\u001b[0m \u001b[0mpath_to_file\u001b[0m\u001b[0;34m,\u001b[0m \u001b[0;34m\"wb\"\u001b[0m \u001b[0;34m)\u001b[0m \u001b[0;34m)\u001b[0m\u001b[0;34m\u001b[0m\u001b[0;34m\u001b[0m\u001b[0m\n\u001b[0m",
      "\u001b[0;31mTypeError\u001b[0m: expected str, bytes or os.PathLike object, not NoneType"
     ]
    }
   ],
   "source": [
    "pickle_trajectory(time_arr, raw_arr, noise_arr, segments, None)"
   ]
  },
  {
   "cell_type": "markdown",
   "metadata": {},
   "source": [
    "### tabling"
   ]
  },
  {
   "cell_type": "code",
   "execution_count": 14,
   "metadata": {},
   "outputs": [],
   "source": [
    "from synthetic_data.trajectory import get_stay_indices"
   ]
  },
  {
   "cell_type": "code",
   "execution_count": 147,
   "metadata": {},
   "outputs": [],
   "source": [
    "true_indices = get_stay_indices(get_adjusted_stays(segments, time_arr), time_arr)\n",
    "true_labels = np.zeros(time_arr.shape)\n",
    "\n",
    "for pair in true_indices:\n",
    "    true_labels[pair[0]:pair[1]+1] = 1"
   ]
  },
  {
   "cell_type": "code",
   "execution_count": 16,
   "metadata": {},
   "outputs": [],
   "source": [
    "import pandas as pd"
   ]
  },
  {
   "cell_type": "code",
   "execution_count": 148,
   "metadata": {},
   "outputs": [],
   "source": [
    "df = pd.DataFrame({'ID':time_arr.size*[\"#111111\"], 'time':time_arr, 'x':raw_arr, 'nx':noise_arr, 'stay':np.array(true_labels).astype(bool)})"
   ]
  },
  {
   "cell_type": "code",
   "execution_count": 149,
   "metadata": {
    "scrolled": false
   },
   "outputs": [
    {
     "data": {
      "text/html": [
       "<div>\n",
       "<style scoped>\n",
       "    .dataframe tbody tr th:only-of-type {\n",
       "        vertical-align: middle;\n",
       "    }\n",
       "\n",
       "    .dataframe tbody tr th {\n",
       "        vertical-align: top;\n",
       "    }\n",
       "\n",
       "    .dataframe thead th {\n",
       "        text-align: right;\n",
       "    }\n",
       "</style>\n",
       "<table border=\"1\" class=\"dataframe\">\n",
       "  <thead>\n",
       "    <tr style=\"text-align: right;\">\n",
       "      <th></th>\n",
       "      <th>ID</th>\n",
       "      <th>time</th>\n",
       "      <th>x</th>\n",
       "      <th>nx</th>\n",
       "      <th>stay</th>\n",
       "    </tr>\n",
       "  </thead>\n",
       "  <tbody>\n",
       "    <tr>\n",
       "      <th>0</th>\n",
       "      <td>#111111</td>\n",
       "      <td>0.055278</td>\n",
       "      <td>-1.706245</td>\n",
       "      <td>-1.709878</td>\n",
       "      <td>True</td>\n",
       "    </tr>\n",
       "    <tr>\n",
       "      <th>1</th>\n",
       "      <td>#111111</td>\n",
       "      <td>0.109722</td>\n",
       "      <td>-1.706245</td>\n",
       "      <td>-1.763388</td>\n",
       "      <td>True</td>\n",
       "    </tr>\n",
       "    <tr>\n",
       "      <th>2</th>\n",
       "      <td>#111111</td>\n",
       "      <td>0.195833</td>\n",
       "      <td>-1.706245</td>\n",
       "      <td>-1.730857</td>\n",
       "      <td>True</td>\n",
       "    </tr>\n",
       "    <tr>\n",
       "      <th>3</th>\n",
       "      <td>#111111</td>\n",
       "      <td>0.203333</td>\n",
       "      <td>-1.706245</td>\n",
       "      <td>-1.652080</td>\n",
       "      <td>True</td>\n",
       "    </tr>\n",
       "    <tr>\n",
       "      <th>4</th>\n",
       "      <td>#111111</td>\n",
       "      <td>0.245000</td>\n",
       "      <td>-1.706245</td>\n",
       "      <td>-1.634114</td>\n",
       "      <td>True</td>\n",
       "    </tr>\n",
       "    <tr>\n",
       "      <th>5</th>\n",
       "      <td>#111111</td>\n",
       "      <td>0.315556</td>\n",
       "      <td>-1.706245</td>\n",
       "      <td>-1.700113</td>\n",
       "      <td>True</td>\n",
       "    </tr>\n",
       "    <tr>\n",
       "      <th>6</th>\n",
       "      <td>#111111</td>\n",
       "      <td>0.324167</td>\n",
       "      <td>-1.706245</td>\n",
       "      <td>-1.758871</td>\n",
       "      <td>True</td>\n",
       "    </tr>\n",
       "    <tr>\n",
       "      <th>7</th>\n",
       "      <td>#111111</td>\n",
       "      <td>0.378611</td>\n",
       "      <td>-1.669235</td>\n",
       "      <td>-1.663362</td>\n",
       "      <td>False</td>\n",
       "    </tr>\n",
       "    <tr>\n",
       "      <th>8</th>\n",
       "      <td>#111111</td>\n",
       "      <td>0.381944</td>\n",
       "      <td>-1.663152</td>\n",
       "      <td>-1.736698</td>\n",
       "      <td>False</td>\n",
       "    </tr>\n",
       "    <tr>\n",
       "      <th>9</th>\n",
       "      <td>#111111</td>\n",
       "      <td>0.404722</td>\n",
       "      <td>-1.621580</td>\n",
       "      <td>-1.640583</td>\n",
       "      <td>False</td>\n",
       "    </tr>\n",
       "  </tbody>\n",
       "</table>\n",
       "</div>"
      ],
      "text/plain": [
       "        ID      time         x        nx   stay\n",
       "0  #111111  0.055278 -1.706245 -1.709878   True\n",
       "1  #111111  0.109722 -1.706245 -1.763388   True\n",
       "2  #111111  0.195833 -1.706245 -1.730857   True\n",
       "3  #111111  0.203333 -1.706245 -1.652080   True\n",
       "4  #111111  0.245000 -1.706245 -1.634114   True\n",
       "5  #111111  0.315556 -1.706245 -1.700113   True\n",
       "6  #111111  0.324167 -1.706245 -1.758871   True\n",
       "7  #111111  0.378611 -1.669235 -1.663362  False\n",
       "8  #111111  0.381944 -1.663152 -1.736698  False\n",
       "9  #111111  0.404722 -1.621580 -1.640583  False"
      ]
     },
     "execution_count": 149,
     "metadata": {},
     "output_type": "execute_result"
    }
   ],
   "source": [
    "df.head(10)"
   ]
  },
  {
   "cell_type": "code",
   "execution_count": 150,
   "metadata": {
    "scrolled": false
   },
   "outputs": [
    {
     "data": {
      "application/vnd.jupyter.widget-view+json": {
       "model_id": "d55747f8a21e482b968245a9ed7594b6",
       "version_major": 2,
       "version_minor": 0
      },
      "text/plain": [
       "Canvas(toolbar=Toolbar(toolitems=[('Home', 'Reset original view', 'home', 'home'), ('Back', 'Back to previous …"
      ]
     },
     "metadata": {},
     "output_type": "display_data"
    },
    {
     "data": {
      "text/plain": [
       "<matplotlib.axes._subplots.AxesSubplot at 0x7fde4059d780>"
      ]
     },
     "execution_count": 150,
     "metadata": {},
     "output_type": "execute_result"
    }
   ],
   "source": [
    "fig, ax = plt.subplots(figsize=[20,10])\n",
    "df.plot(x='time', y='x', marker='', linestyle='--', ax=ax)\n",
    "df.plot(x='time', y='nx', marker='.', linestyle='-', ax=ax)\n",
    "\n",
    "# To print the segments\n",
    "df_cp = df.copy()\n",
    "df_cp.loc[df_cp['stay']==False,'nx'] =  np.nan\n",
    "df_cp.loc[df_cp['stay']==False,'x'] =  np.nan\n",
    "df_cp.plot(x='time', y='x', color='k',marker='o', linestyle='--', dashes=[1,0.5], linewidth=5, ax=ax)"
   ]
  },
  {
   "cell_type": "code",
   "execution_count": null,
   "metadata": {},
   "outputs": [],
   "source": [
    "path_to_file =  \"./testdata/\" + trajectory_tag + \".csv\"\n",
    "df.to_csv(path_to_filez, index=False)"
   ]
  }
 ],
 "metadata": {
  "kernelspec": {
   "display_name": "Python 3",
   "language": "python",
   "name": "python3"
  },
  "language_info": {
   "codemirror_mode": {
    "name": "ipython",
    "version": 3
   },
   "file_extension": ".py",
   "mimetype": "text/x-python",
   "name": "python",
   "nbconvert_exporter": "python",
   "pygments_lexer": "ipython3",
   "version": "3.6.9"
  },
  "toc": {
   "nav_menu": {},
   "number_sections": true,
   "sideBar": true,
   "skip_h1_title": false,
   "title_cell": "Table of Contents",
   "title_sidebar": "Contents",
   "toc_cell": false,
   "toc_position": {},
   "toc_section_display": true,
   "toc_window_display": false
  }
 },
 "nbformat": 4,
 "nbformat_minor": 2
}
