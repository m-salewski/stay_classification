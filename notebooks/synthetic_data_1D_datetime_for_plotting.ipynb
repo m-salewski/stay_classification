{
 "cells": [
  {
   "cell_type": "code",
   "execution_count": 1,
   "metadata": {},
   "outputs": [],
   "source": [
    "import numpy as np\n",
    "\n",
    "%matplotlib inline\n",
    "import matplotlib.pyplot as plt"
   ]
  },
  {
   "cell_type": "code",
   "execution_count": 2,
   "metadata": {},
   "outputs": [],
   "source": [
    "import os, sys\n",
    "sys.path.append('/home/sandm/Notebooks/stay_classification/src/')"
   ]
  },
  {
   "cell_type": "markdown",
   "metadata": {},
   "source": [
    "# Introduction: movement analysis\n",
    "\n",
    "From a sequence of signaling events, _eg_ GPS measurements, determine locations where the user remains for a significant duration of time, called \"stays\". For each of these, there should be a beginning and end, as well as a location. \n",
    "\n",
    "Generally, this is meant for movement on the surface of the earth, but for present purposes, it is easiest to illustrate in one spatial dimension \"1D\"; all of the problems and strategies can be generalized to 2D as needed."
   ]
  },
  {
   "cell_type": "markdown",
   "metadata": {},
   "source": [
    "**Note** the signaling events for a given user, form a set $\\mathcal{E} :=  \\{e_i = (\\mathbf{x}_i, t_i), i=[0,N-1] \\; | \\; t_{i+1}>t_i\\}$"
   ]
  },
  {
   "cell_type": "code",
   "execution_count": 3,
   "metadata": {},
   "outputs": [],
   "source": [
    "from datetime import datetime, date\n",
    "import time"
   ]
  },
  {
   "cell_type": "code",
   "execution_count": 4,
   "metadata": {},
   "outputs": [],
   "source": [
    "from synthetic_data.trajectory import get_stay\n",
    "from synthetic_data.trajectory import get_journey_path, get_segments\n",
    "from synthetic_data.masking import get_mask_with_duplicates\n",
    "from synthetic_data.trajectory import get_stay_segs, get_adjusted_stays\n",
    "from synthetic_data.noise import get_noisy_segs, get_noisy_path, get_noise_arr\n",
    "\n",
    "dsec = 1/3600.0\n",
    "time = np.arange(0,24,dsec)\n",
    "stays = [\n",
    "        get_stay(  0.00,  6.00,-1.00), #home\n",
    "        get_stay(  7.50, 16.50, 1.00), #work, afternoon\n",
    "        get_stay( 18.00, 24.00,-1.00)  # overnight\n",
    "    ]\n",
    "\n",
    "t_segs, x_segs = get_stay_segs(stays)\n",
    "\n",
    "\n",
    "raw_journey = get_journey_path(time, get_segments(time, stays, threshold=0.5))\n",
    "\n",
    "\n",
    "dup_mask = get_mask_with_duplicates(time, 0.005, 0.6)\n",
    "\n",
    "time_sub = time[dup_mask]\n",
    "raw_journey_sub = raw_journey[dup_mask]\n",
    "\n",
    "segments = get_segments(time, stays, threshold=0.5)\n",
    "new_stays = get_adjusted_stays(segments, time_sub)\n",
    "new_t_segs, new_x_segs = get_stay_segs(new_stays)      \n",
    "\n",
    "noises = get_noise_arr(0.02, 0.15, len(segments))\n",
    "\n",
    "noise_segments = get_noisy_segs(segments, noises)\n",
    "\n",
    "noise_journey_sub = get_noisy_path(time_sub, raw_journey_sub, noise_segments)"
   ]
  },
  {
   "cell_type": "code",
   "execution_count": 5,
   "metadata": {},
   "outputs": [],
   "source": [
    "zero_hour = datetime.combine(date.today(), datetime.min.time()).timestamp()\n",
    "max_hour = datetime.combine(date.today(), datetime.max.time()).timestamp()"
   ]
  },
  {
   "cell_type": "code",
   "execution_count": 6,
   "metadata": {},
   "outputs": [],
   "source": [
    "timestamp_sub = time_sub+zero_hour"
   ]
  },
  {
   "cell_type": "code",
   "execution_count": 7,
   "metadata": {},
   "outputs": [
    {
     "data": {
      "text/plain": [
       "1591308000.2669444"
      ]
     },
     "execution_count": 7,
     "metadata": {},
     "output_type": "execute_result"
    }
   ],
   "source": [
    "timestamp_sub[0]"
   ]
  },
  {
   "cell_type": "code",
   "execution_count": 21,
   "metadata": {},
   "outputs": [
    {
     "data": {
      "text/plain": [
       "datetime.datetime(2020, 6, 5, 0, 0, 0, 300000)"
      ]
     },
     "execution_count": 21,
     "metadata": {},
     "output_type": "execute_result"
    }
   ],
   "source": [
    "datetime.fromtimestamp(round(timestamp_sub[1],1))"
   ]
  },
  {
   "cell_type": "code",
   "execution_count": 22,
   "metadata": {},
   "outputs": [],
   "source": [
    "convert_tstamp = lambda x: datetime.fromtimestamp(round(x,1))"
   ]
  },
  {
   "cell_type": "code",
   "execution_count": 23,
   "metadata": {},
   "outputs": [
    {
     "data": {
      "text/plain": [
       "datetime.datetime(2020, 6, 4, 0, 0, 0, 100000)"
      ]
     },
     "execution_count": 23,
     "metadata": {},
     "output_type": "execute_result"
    }
   ],
   "source": [
    "convert_tstamp(1591221600.1325)"
   ]
  },
  {
   "cell_type": "code",
   "execution_count": 24,
   "metadata": {},
   "outputs": [],
   "source": [
    "datetime_sub = np.array(list(map(convert_tstamp, list((time_sub+zero_hour)))))"
   ]
  },
  {
   "cell_type": "code",
   "execution_count": 25,
   "metadata": {},
   "outputs": [
    {
     "data": {
      "text/plain": [
       "array([datetime.datetime(2020, 6, 5, 0, 0, 0, 300000),\n",
       "       datetime.datetime(2020, 6, 5, 0, 0, 0, 300000),\n",
       "       datetime.datetime(2020, 6, 5, 0, 0, 0, 300000),\n",
       "       datetime.datetime(2020, 6, 5, 0, 0, 0, 300000),\n",
       "       datetime.datetime(2020, 6, 5, 0, 0, 0, 400000),\n",
       "       datetime.datetime(2020, 6, 5, 0, 0, 0, 400000),\n",
       "       datetime.datetime(2020, 6, 5, 0, 0, 0, 700000),\n",
       "       datetime.datetime(2020, 6, 5, 0, 0, 0, 900000),\n",
       "       datetime.datetime(2020, 6, 5, 0, 0, 0, 900000),\n",
       "       datetime.datetime(2020, 6, 5, 0, 0, 1),\n",
       "       datetime.datetime(2020, 6, 5, 0, 0, 1),\n",
       "       datetime.datetime(2020, 6, 5, 0, 0, 1),\n",
       "       datetime.datetime(2020, 6, 5, 0, 0, 1),\n",
       "       datetime.datetime(2020, 6, 5, 0, 0, 1),\n",
       "       datetime.datetime(2020, 6, 5, 0, 0, 1),\n",
       "       datetime.datetime(2020, 6, 5, 0, 0, 1),\n",
       "       datetime.datetime(2020, 6, 5, 0, 0, 1),\n",
       "       datetime.datetime(2020, 6, 5, 0, 0, 1),\n",
       "       datetime.datetime(2020, 6, 5, 0, 0, 1, 100000),\n",
       "       datetime.datetime(2020, 6, 5, 0, 0, 1, 100000),\n",
       "       datetime.datetime(2020, 6, 5, 0, 0, 1, 100000),\n",
       "       datetime.datetime(2020, 6, 5, 0, 0, 1, 200000),\n",
       "       datetime.datetime(2020, 6, 5, 0, 0, 1, 500000),\n",
       "       datetime.datetime(2020, 6, 5, 0, 0, 1, 500000),\n",
       "       datetime.datetime(2020, 6, 5, 0, 0, 1, 500000),\n",
       "       datetime.datetime(2020, 6, 5, 0, 0, 1, 500000),\n",
       "       datetime.datetime(2020, 6, 5, 0, 0, 1, 500000),\n",
       "       datetime.datetime(2020, 6, 5, 0, 0, 1, 500000),\n",
       "       datetime.datetime(2020, 6, 5, 0, 0, 1, 800000),\n",
       "       datetime.datetime(2020, 6, 5, 0, 0, 1, 800000),\n",
       "       datetime.datetime(2020, 6, 5, 0, 0, 1, 800000),\n",
       "       datetime.datetime(2020, 6, 5, 0, 0, 1, 900000),\n",
       "       datetime.datetime(2020, 6, 5, 0, 0, 1, 900000),\n",
       "       datetime.datetime(2020, 6, 5, 0, 0, 2),\n",
       "       datetime.datetime(2020, 6, 5, 0, 0, 2, 100000),\n",
       "       datetime.datetime(2020, 6, 5, 0, 0, 2, 100000),\n",
       "       datetime.datetime(2020, 6, 5, 0, 0, 2, 100000),\n",
       "       datetime.datetime(2020, 6, 5, 0, 0, 2, 800000),\n",
       "       datetime.datetime(2020, 6, 5, 0, 0, 2, 800000),\n",
       "       datetime.datetime(2020, 6, 5, 0, 0, 2, 900000),\n",
       "       datetime.datetime(2020, 6, 5, 0, 0, 2, 900000),\n",
       "       datetime.datetime(2020, 6, 5, 0, 0, 3),\n",
       "       datetime.datetime(2020, 6, 5, 0, 0, 3),\n",
       "       datetime.datetime(2020, 6, 5, 0, 0, 3, 500000),\n",
       "       datetime.datetime(2020, 6, 5, 0, 0, 3, 500000),\n",
       "       datetime.datetime(2020, 6, 5, 0, 0, 3, 500000),\n",
       "       datetime.datetime(2020, 6, 5, 0, 0, 3, 500000),\n",
       "       datetime.datetime(2020, 6, 5, 0, 0, 3, 600000),\n",
       "       datetime.datetime(2020, 6, 5, 0, 0, 3, 600000),\n",
       "       datetime.datetime(2020, 6, 5, 0, 0, 3, 700000),\n",
       "       datetime.datetime(2020, 6, 5, 0, 0, 3, 900000),\n",
       "       datetime.datetime(2020, 6, 5, 0, 0, 3, 900000),\n",
       "       datetime.datetime(2020, 6, 5, 0, 0, 4),\n",
       "       datetime.datetime(2020, 6, 5, 0, 0, 4),\n",
       "       datetime.datetime(2020, 6, 5, 0, 0, 4, 200000),\n",
       "       datetime.datetime(2020, 6, 5, 0, 0, 4, 200000),\n",
       "       datetime.datetime(2020, 6, 5, 0, 0, 4, 200000),\n",
       "       datetime.datetime(2020, 6, 5, 0, 0, 4, 300000),\n",
       "       datetime.datetime(2020, 6, 5, 0, 0, 4, 300000),\n",
       "       datetime.datetime(2020, 6, 5, 0, 0, 4, 300000),\n",
       "       datetime.datetime(2020, 6, 5, 0, 0, 4, 600000),\n",
       "       datetime.datetime(2020, 6, 5, 0, 0, 4, 600000),\n",
       "       datetime.datetime(2020, 6, 5, 0, 0, 4, 600000),\n",
       "       datetime.datetime(2020, 6, 5, 0, 0, 4, 600000),\n",
       "       datetime.datetime(2020, 6, 5, 0, 0, 4, 600000),\n",
       "       datetime.datetime(2020, 6, 5, 0, 0, 4, 600000),\n",
       "       datetime.datetime(2020, 6, 5, 0, 0, 4, 600000),\n",
       "       datetime.datetime(2020, 6, 5, 0, 0, 4, 700000),\n",
       "       datetime.datetime(2020, 6, 5, 0, 0, 4, 900000),\n",
       "       datetime.datetime(2020, 6, 5, 0, 0, 4, 900000),\n",
       "       datetime.datetime(2020, 6, 5, 0, 0, 4, 900000),\n",
       "       datetime.datetime(2020, 6, 5, 0, 0, 5),\n",
       "       datetime.datetime(2020, 6, 5, 0, 0, 5),\n",
       "       datetime.datetime(2020, 6, 5, 0, 0, 5),\n",
       "       datetime.datetime(2020, 6, 5, 0, 0, 5, 400000),\n",
       "       datetime.datetime(2020, 6, 5, 0, 0, 5, 400000),\n",
       "       datetime.datetime(2020, 6, 5, 0, 0, 5, 600000),\n",
       "       datetime.datetime(2020, 6, 5, 0, 0, 5, 700000),\n",
       "       datetime.datetime(2020, 6, 5, 0, 0, 5, 700000),\n",
       "       datetime.datetime(2020, 6, 5, 0, 0, 6, 100000),\n",
       "       datetime.datetime(2020, 6, 5, 0, 0, 6, 100000),\n",
       "       datetime.datetime(2020, 6, 5, 0, 0, 6, 100000),\n",
       "       datetime.datetime(2020, 6, 5, 0, 0, 6, 100000),\n",
       "       datetime.datetime(2020, 6, 5, 0, 0, 6, 100000),\n",
       "       datetime.datetime(2020, 6, 5, 0, 0, 6, 100000),\n",
       "       datetime.datetime(2020, 6, 5, 0, 0, 6, 300000),\n",
       "       datetime.datetime(2020, 6, 5, 0, 0, 6, 300000),\n",
       "       datetime.datetime(2020, 6, 5, 0, 0, 6, 300000),\n",
       "       datetime.datetime(2020, 6, 5, 0, 0, 6, 300000),\n",
       "       datetime.datetime(2020, 6, 5, 0, 0, 6, 400000),\n",
       "       datetime.datetime(2020, 6, 5, 0, 0, 6, 500000),\n",
       "       datetime.datetime(2020, 6, 5, 0, 0, 6, 500000),\n",
       "       datetime.datetime(2020, 6, 5, 0, 0, 6, 900000),\n",
       "       datetime.datetime(2020, 6, 5, 0, 0, 6, 900000),\n",
       "       datetime.datetime(2020, 6, 5, 0, 0, 6, 900000),\n",
       "       datetime.datetime(2020, 6, 5, 0, 0, 7, 100000),\n",
       "       datetime.datetime(2020, 6, 5, 0, 0, 7, 100000),\n",
       "       datetime.datetime(2020, 6, 5, 0, 0, 7, 200000),\n",
       "       datetime.datetime(2020, 6, 5, 0, 0, 7, 200000),\n",
       "       datetime.datetime(2020, 6, 5, 0, 0, 7, 400000)], dtype=object)"
      ]
     },
     "execution_count": 25,
     "metadata": {},
     "output_type": "execute_result"
    }
   ],
   "source": [
    "datetime_sub[:100]"
   ]
  },
  {
   "cell_type": "code",
   "execution_count": 26,
   "metadata": {},
   "outputs": [],
   "source": [
    "import matplotlib.dates as mdates"
   ]
  },
  {
   "cell_type": "code",
   "execution_count": 28,
   "metadata": {},
   "outputs": [
    {
     "data": {
      "image/png": "[encoded data removed]",
      "text/plain": [
       "<Figure size 1440x720 with 1 Axes>"
      ]
     },
     "metadata": {
      "needs_background": "light"
     },
     "output_type": "display_data"
    }
   ],
   "source": [
    "fig, ax = plt.subplots(1,1,figsize=(20,10))\n",
    "#plt.plot(t_segs, x_segs, ':', marker='|', color='grey', linewidth=2.0, markerfacecolor='w', markersize=30.0, markeredgewidth=1.0, dashes=[0.5,0.5], label='raw stays')\n",
    "\n",
    "#plt.plot(new_t_segs, new_x_segs, 'ko--', linewidth=3.0, markerfacecolor='w', markersize=4.0, markeredgewidth=1.0, label='adjusted raw stays')\n",
    "ax.plot(datetime_sub, raw_journey_sub, ':', label='raw journey')\n",
    "ax.plot(datetime_sub, noise_journey_sub, '.-', label='noisy journey', alpha=0.5)\n",
    "\n",
    "myFmt = mdates.DateFormatter('%H:%M:%S.%f')\n",
    "ax.xaxis.set_major_formatter(myFmt)\n",
    "\n",
    "fig.autofmt_xdate()\n",
    "plt.legend();"
   ]
  },
  {
   "cell_type": "code",
   "execution_count": 29,
   "metadata": {},
   "outputs": [],
   "source": [
    "from datetime import timedelta"
   ]
  },
  {
   "cell_type": "code",
   "execution_count": 30,
   "metadata": {},
   "outputs": [
    {
     "data": {
      "image/png": "[encoded data removed]",
      "text/plain": [
       "<Figure size 1440x720 with 1 Axes>"
      ]
     },
     "metadata": {
      "needs_background": "light"
     },
     "output_type": "display_data"
    }
   ],
   "source": [
    "\n",
    "fig, ax = plt.subplots(1,1,figsize=(20,10))\n",
    "y = np.random.randint(0,100,(3600*25))\n",
    "x = [datetime.combine(date.today(), datetime.min.time()) + timedelta(seconds=i) for i in range(3600*25)]\n",
    "\n",
    "masko = np.sort(np.random.randint(0,3600*25,(10)))\n",
    "\n",
    "plt.plot(np.array(x)[masko],y[masko],'o--')\n",
    "myFmt = mdates.DateFormatter('%H:%M:%S.%f')\n",
    "ax.xaxis.set_major_formatter(myFmt)\n",
    "\n"
   ]
  },
  {
   "cell_type": "code",
   "execution_count": 31,
   "metadata": {},
   "outputs": [
    {
     "data": {
      "text/plain": [
       "array([datetime.datetime(2020, 6, 5, 4, 22, 47),\n",
       "       datetime.datetime(2020, 6, 5, 4, 57, 30),\n",
       "       datetime.datetime(2020, 6, 5, 7, 0, 11),\n",
       "       datetime.datetime(2020, 6, 5, 10, 51, 57),\n",
       "       datetime.datetime(2020, 6, 5, 11, 36, 17),\n",
       "       datetime.datetime(2020, 6, 5, 13, 35, 26),\n",
       "       datetime.datetime(2020, 6, 5, 19, 39, 1),\n",
       "       datetime.datetime(2020, 6, 5, 21, 54, 42),\n",
       "       datetime.datetime(2020, 6, 5, 23, 25, 55),\n",
       "       datetime.datetime(2020, 6, 6, 0, 35, 34)], dtype=object)"
      ]
     },
     "execution_count": 31,
     "metadata": {},
     "output_type": "execute_result"
    }
   ],
   "source": [
    "np.array(x)[masko]"
   ]
  },
  {
   "cell_type": "code",
   "execution_count": 32,
   "metadata": {},
   "outputs": [
    {
     "data": {
      "text/plain": [
       "array([datetime.datetime(2020, 6, 5, 0, 0, 0, 300000),\n",
       "       datetime.datetime(2020, 6, 5, 0, 0, 0, 300000),\n",
       "       datetime.datetime(2020, 6, 5, 0, 0, 0, 300000),\n",
       "       datetime.datetime(2020, 6, 5, 0, 0, 0, 300000),\n",
       "       datetime.datetime(2020, 6, 5, 0, 0, 0, 400000),\n",
       "       datetime.datetime(2020, 6, 5, 0, 0, 0, 400000),\n",
       "       datetime.datetime(2020, 6, 5, 0, 0, 0, 700000),\n",
       "       datetime.datetime(2020, 6, 5, 0, 0, 0, 900000),\n",
       "       datetime.datetime(2020, 6, 5, 0, 0, 0, 900000),\n",
       "       datetime.datetime(2020, 6, 5, 0, 0, 1),\n",
       "       datetime.datetime(2020, 6, 5, 0, 0, 1),\n",
       "       datetime.datetime(2020, 6, 5, 0, 0, 1),\n",
       "       datetime.datetime(2020, 6, 5, 0, 0, 1),\n",
       "       datetime.datetime(2020, 6, 5, 0, 0, 1),\n",
       "       datetime.datetime(2020, 6, 5, 0, 0, 1),\n",
       "       datetime.datetime(2020, 6, 5, 0, 0, 1),\n",
       "       datetime.datetime(2020, 6, 5, 0, 0, 1),\n",
       "       datetime.datetime(2020, 6, 5, 0, 0, 1),\n",
       "       datetime.datetime(2020, 6, 5, 0, 0, 1, 100000),\n",
       "       datetime.datetime(2020, 6, 5, 0, 0, 1, 100000),\n",
       "       datetime.datetime(2020, 6, 5, 0, 0, 1, 100000),\n",
       "       datetime.datetime(2020, 6, 5, 0, 0, 1, 200000),\n",
       "       datetime.datetime(2020, 6, 5, 0, 0, 1, 500000),\n",
       "       datetime.datetime(2020, 6, 5, 0, 0, 1, 500000),\n",
       "       datetime.datetime(2020, 6, 5, 0, 0, 1, 500000),\n",
       "       datetime.datetime(2020, 6, 5, 0, 0, 1, 500000),\n",
       "       datetime.datetime(2020, 6, 5, 0, 0, 1, 500000),\n",
       "       datetime.datetime(2020, 6, 5, 0, 0, 1, 500000),\n",
       "       datetime.datetime(2020, 6, 5, 0, 0, 1, 800000),\n",
       "       datetime.datetime(2020, 6, 5, 0, 0, 1, 800000),\n",
       "       datetime.datetime(2020, 6, 5, 0, 0, 1, 800000),\n",
       "       datetime.datetime(2020, 6, 5, 0, 0, 1, 900000),\n",
       "       datetime.datetime(2020, 6, 5, 0, 0, 1, 900000),\n",
       "       datetime.datetime(2020, 6, 5, 0, 0, 2),\n",
       "       datetime.datetime(2020, 6, 5, 0, 0, 2, 100000),\n",
       "       datetime.datetime(2020, 6, 5, 0, 0, 2, 100000),\n",
       "       datetime.datetime(2020, 6, 5, 0, 0, 2, 100000),\n",
       "       datetime.datetime(2020, 6, 5, 0, 0, 2, 800000),\n",
       "       datetime.datetime(2020, 6, 5, 0, 0, 2, 800000),\n",
       "       datetime.datetime(2020, 6, 5, 0, 0, 2, 900000),\n",
       "       datetime.datetime(2020, 6, 5, 0, 0, 2, 900000),\n",
       "       datetime.datetime(2020, 6, 5, 0, 0, 3),\n",
       "       datetime.datetime(2020, 6, 5, 0, 0, 3),\n",
       "       datetime.datetime(2020, 6, 5, 0, 0, 3, 500000),\n",
       "       datetime.datetime(2020, 6, 5, 0, 0, 3, 500000),\n",
       "       datetime.datetime(2020, 6, 5, 0, 0, 3, 500000),\n",
       "       datetime.datetime(2020, 6, 5, 0, 0, 3, 500000),\n",
       "       datetime.datetime(2020, 6, 5, 0, 0, 3, 600000),\n",
       "       datetime.datetime(2020, 6, 5, 0, 0, 3, 600000),\n",
       "       datetime.datetime(2020, 6, 5, 0, 0, 3, 700000),\n",
       "       datetime.datetime(2020, 6, 5, 0, 0, 3, 900000),\n",
       "       datetime.datetime(2020, 6, 5, 0, 0, 3, 900000),\n",
       "       datetime.datetime(2020, 6, 5, 0, 0, 4),\n",
       "       datetime.datetime(2020, 6, 5, 0, 0, 4),\n",
       "       datetime.datetime(2020, 6, 5, 0, 0, 4, 200000),\n",
       "       datetime.datetime(2020, 6, 5, 0, 0, 4, 200000),\n",
       "       datetime.datetime(2020, 6, 5, 0, 0, 4, 200000),\n",
       "       datetime.datetime(2020, 6, 5, 0, 0, 4, 300000),\n",
       "       datetime.datetime(2020, 6, 5, 0, 0, 4, 300000),\n",
       "       datetime.datetime(2020, 6, 5, 0, 0, 4, 300000),\n",
       "       datetime.datetime(2020, 6, 5, 0, 0, 4, 600000),\n",
       "       datetime.datetime(2020, 6, 5, 0, 0, 4, 600000),\n",
       "       datetime.datetime(2020, 6, 5, 0, 0, 4, 600000),\n",
       "       datetime.datetime(2020, 6, 5, 0, 0, 4, 600000),\n",
       "       datetime.datetime(2020, 6, 5, 0, 0, 4, 600000),\n",
       "       datetime.datetime(2020, 6, 5, 0, 0, 4, 600000),\n",
       "       datetime.datetime(2020, 6, 5, 0, 0, 4, 600000),\n",
       "       datetime.datetime(2020, 6, 5, 0, 0, 4, 700000),\n",
       "       datetime.datetime(2020, 6, 5, 0, 0, 4, 900000),\n",
       "       datetime.datetime(2020, 6, 5, 0, 0, 4, 900000),\n",
       "       datetime.datetime(2020, 6, 5, 0, 0, 4, 900000),\n",
       "       datetime.datetime(2020, 6, 5, 0, 0, 5),\n",
       "       datetime.datetime(2020, 6, 5, 0, 0, 5),\n",
       "       datetime.datetime(2020, 6, 5, 0, 0, 5),\n",
       "       datetime.datetime(2020, 6, 5, 0, 0, 5, 400000),\n",
       "       datetime.datetime(2020, 6, 5, 0, 0, 5, 400000),\n",
       "       datetime.datetime(2020, 6, 5, 0, 0, 5, 600000),\n",
       "       datetime.datetime(2020, 6, 5, 0, 0, 5, 700000),\n",
       "       datetime.datetime(2020, 6, 5, 0, 0, 5, 700000),\n",
       "       datetime.datetime(2020, 6, 5, 0, 0, 6, 100000),\n",
       "       datetime.datetime(2020, 6, 5, 0, 0, 6, 100000),\n",
       "       datetime.datetime(2020, 6, 5, 0, 0, 6, 100000),\n",
       "       datetime.datetime(2020, 6, 5, 0, 0, 6, 100000),\n",
       "       datetime.datetime(2020, 6, 5, 0, 0, 6, 100000),\n",
       "       datetime.datetime(2020, 6, 5, 0, 0, 6, 100000),\n",
       "       datetime.datetime(2020, 6, 5, 0, 0, 6, 300000),\n",
       "       datetime.datetime(2020, 6, 5, 0, 0, 6, 300000),\n",
       "       datetime.datetime(2020, 6, 5, 0, 0, 6, 300000),\n",
       "       datetime.datetime(2020, 6, 5, 0, 0, 6, 300000),\n",
       "       datetime.datetime(2020, 6, 5, 0, 0, 6, 400000),\n",
       "       datetime.datetime(2020, 6, 5, 0, 0, 6, 500000),\n",
       "       datetime.datetime(2020, 6, 5, 0, 0, 6, 500000),\n",
       "       datetime.datetime(2020, 6, 5, 0, 0, 6, 900000),\n",
       "       datetime.datetime(2020, 6, 5, 0, 0, 6, 900000),\n",
       "       datetime.datetime(2020, 6, 5, 0, 0, 6, 900000),\n",
       "       datetime.datetime(2020, 6, 5, 0, 0, 7, 100000),\n",
       "       datetime.datetime(2020, 6, 5, 0, 0, 7, 100000),\n",
       "       datetime.datetime(2020, 6, 5, 0, 0, 7, 200000),\n",
       "       datetime.datetime(2020, 6, 5, 0, 0, 7, 200000),\n",
       "       datetime.datetime(2020, 6, 5, 0, 0, 7, 400000),\n",
       "       datetime.datetime(2020, 6, 5, 0, 0, 7, 400000),\n",
       "       datetime.datetime(2020, 6, 5, 0, 0, 7, 400000),\n",
       "       datetime.datetime(2020, 6, 5, 0, 0, 7, 400000),\n",
       "       datetime.datetime(2020, 6, 5, 0, 0, 7, 400000),\n",
       "       datetime.datetime(2020, 6, 5, 0, 0, 7, 400000),\n",
       "       datetime.datetime(2020, 6, 5, 0, 0, 7, 500000),\n",
       "       datetime.datetime(2020, 6, 5, 0, 0, 7, 500000),\n",
       "       datetime.datetime(2020, 6, 5, 0, 0, 7, 600000),\n",
       "       datetime.datetime(2020, 6, 5, 0, 0, 7, 800000),\n",
       "       datetime.datetime(2020, 6, 5, 0, 0, 8, 100000),\n",
       "       datetime.datetime(2020, 6, 5, 0, 0, 8, 100000),\n",
       "       datetime.datetime(2020, 6, 5, 0, 0, 8, 200000),\n",
       "       datetime.datetime(2020, 6, 5, 0, 0, 8, 200000),\n",
       "       datetime.datetime(2020, 6, 5, 0, 0, 8, 200000),\n",
       "       datetime.datetime(2020, 6, 5, 0, 0, 8, 200000),\n",
       "       datetime.datetime(2020, 6, 5, 0, 0, 8, 200000),\n",
       "       datetime.datetime(2020, 6, 5, 0, 0, 8, 500000),\n",
       "       datetime.datetime(2020, 6, 5, 0, 0, 8, 600000),\n",
       "       datetime.datetime(2020, 6, 5, 0, 0, 8, 600000),\n",
       "       datetime.datetime(2020, 6, 5, 0, 0, 8, 800000),\n",
       "       datetime.datetime(2020, 6, 5, 0, 0, 8, 800000),\n",
       "       datetime.datetime(2020, 6, 5, 0, 0, 8, 800000),\n",
       "       datetime.datetime(2020, 6, 5, 0, 0, 9, 100000),\n",
       "       datetime.datetime(2020, 6, 5, 0, 0, 9, 100000),\n",
       "       datetime.datetime(2020, 6, 5, 0, 0, 9, 100000),\n",
       "       datetime.datetime(2020, 6, 5, 0, 0, 9, 100000),\n",
       "       datetime.datetime(2020, 6, 5, 0, 0, 9, 100000),\n",
       "       datetime.datetime(2020, 6, 5, 0, 0, 9, 100000),\n",
       "       datetime.datetime(2020, 6, 5, 0, 0, 9, 300000),\n",
       "       datetime.datetime(2020, 6, 5, 0, 0, 9, 300000),\n",
       "       datetime.datetime(2020, 6, 5, 0, 0, 9, 300000),\n",
       "       datetime.datetime(2020, 6, 5, 0, 0, 9, 300000),\n",
       "       datetime.datetime(2020, 6, 5, 0, 0, 9, 600000),\n",
       "       datetime.datetime(2020, 6, 5, 0, 0, 9, 800000),\n",
       "       datetime.datetime(2020, 6, 5, 0, 0, 10, 300000),\n",
       "       datetime.datetime(2020, 6, 5, 0, 0, 10, 300000),\n",
       "       datetime.datetime(2020, 6, 5, 0, 0, 10, 400000),\n",
       "       datetime.datetime(2020, 6, 5, 0, 0, 10, 400000),\n",
       "       datetime.datetime(2020, 6, 5, 0, 0, 10, 400000),\n",
       "       datetime.datetime(2020, 6, 5, 0, 0, 10, 400000),\n",
       "       datetime.datetime(2020, 6, 5, 0, 0, 10, 400000),\n",
       "       datetime.datetime(2020, 6, 5, 0, 0, 10, 400000),\n",
       "       datetime.datetime(2020, 6, 5, 0, 0, 10, 400000),\n",
       "       datetime.datetime(2020, 6, 5, 0, 0, 10, 500000),\n",
       "       datetime.datetime(2020, 6, 5, 0, 0, 10, 800000),\n",
       "       datetime.datetime(2020, 6, 5, 0, 0, 10, 900000),\n",
       "       datetime.datetime(2020, 6, 5, 0, 0, 10, 900000),\n",
       "       datetime.datetime(2020, 6, 5, 0, 0, 10, 900000),\n",
       "       datetime.datetime(2020, 6, 5, 0, 0, 11, 100000),\n",
       "       datetime.datetime(2020, 6, 5, 0, 0, 11, 200000),\n",
       "       datetime.datetime(2020, 6, 5, 0, 0, 11, 200000),\n",
       "       datetime.datetime(2020, 6, 5, 0, 0, 11, 200000),\n",
       "       datetime.datetime(2020, 6, 5, 0, 0, 11, 300000),\n",
       "       datetime.datetime(2020, 6, 5, 0, 0, 11, 500000),\n",
       "       datetime.datetime(2020, 6, 5, 0, 0, 11, 700000),\n",
       "       datetime.datetime(2020, 6, 5, 0, 0, 11, 700000),\n",
       "       datetime.datetime(2020, 6, 5, 0, 0, 11, 700000),\n",
       "       datetime.datetime(2020, 6, 5, 0, 0, 11, 700000),\n",
       "       datetime.datetime(2020, 6, 5, 0, 0, 11, 700000),\n",
       "       datetime.datetime(2020, 6, 5, 0, 0, 11, 800000),\n",
       "       datetime.datetime(2020, 6, 5, 0, 0, 11, 800000),\n",
       "       datetime.datetime(2020, 6, 5, 0, 0, 11, 800000),\n",
       "       datetime.datetime(2020, 6, 5, 0, 0, 12, 100000),\n",
       "       datetime.datetime(2020, 6, 5, 0, 0, 12, 100000),\n",
       "       datetime.datetime(2020, 6, 5, 0, 0, 12, 100000),\n",
       "       datetime.datetime(2020, 6, 5, 0, 0, 12, 100000),\n",
       "       datetime.datetime(2020, 6, 5, 0, 0, 12, 100000),\n",
       "       datetime.datetime(2020, 6, 5, 0, 0, 12, 200000),\n",
       "       datetime.datetime(2020, 6, 5, 0, 0, 12, 300000),\n",
       "       datetime.datetime(2020, 6, 5, 0, 0, 12, 300000),\n",
       "       datetime.datetime(2020, 6, 5, 0, 0, 12, 300000),\n",
       "       datetime.datetime(2020, 6, 5, 0, 0, 12, 600000),\n",
       "       datetime.datetime(2020, 6, 5, 0, 0, 12, 900000),\n",
       "       datetime.datetime(2020, 6, 5, 0, 0, 12, 900000),\n",
       "       datetime.datetime(2020, 6, 5, 0, 0, 12, 900000),\n",
       "       datetime.datetime(2020, 6, 5, 0, 0, 12, 900000),\n",
       "       datetime.datetime(2020, 6, 5, 0, 0, 12, 900000),\n",
       "       datetime.datetime(2020, 6, 5, 0, 0, 12, 900000),\n",
       "       datetime.datetime(2020, 6, 5, 0, 0, 12, 900000),\n",
       "       datetime.datetime(2020, 6, 5, 0, 0, 12, 900000),\n",
       "       datetime.datetime(2020, 6, 5, 0, 0, 13),\n",
       "       datetime.datetime(2020, 6, 5, 0, 0, 13, 100000),\n",
       "       datetime.datetime(2020, 6, 5, 0, 0, 13, 100000),\n",
       "       datetime.datetime(2020, 6, 5, 0, 0, 13, 100000),\n",
       "       datetime.datetime(2020, 6, 5, 0, 0, 13, 200000),\n",
       "       datetime.datetime(2020, 6, 5, 0, 0, 13, 200000),\n",
       "       datetime.datetime(2020, 6, 5, 0, 0, 13, 200000),\n",
       "       datetime.datetime(2020, 6, 5, 0, 0, 13, 200000),\n",
       "       datetime.datetime(2020, 6, 5, 0, 0, 13, 200000),\n",
       "       datetime.datetime(2020, 6, 5, 0, 0, 13, 200000),\n",
       "       datetime.datetime(2020, 6, 5, 0, 0, 13, 200000),\n",
       "       datetime.datetime(2020, 6, 5, 0, 0, 13, 800000),\n",
       "       datetime.datetime(2020, 6, 5, 0, 0, 13, 800000),\n",
       "       datetime.datetime(2020, 6, 5, 0, 0, 13, 800000),\n",
       "       datetime.datetime(2020, 6, 5, 0, 0, 14),\n",
       "       datetime.datetime(2020, 6, 5, 0, 0, 14),\n",
       "       datetime.datetime(2020, 6, 5, 0, 0, 14, 200000),\n",
       "       datetime.datetime(2020, 6, 5, 0, 0, 14, 200000),\n",
       "       datetime.datetime(2020, 6, 5, 0, 0, 14, 400000),\n",
       "       datetime.datetime(2020, 6, 5, 0, 0, 14, 400000),\n",
       "       datetime.datetime(2020, 6, 5, 0, 0, 14, 400000),\n",
       "       datetime.datetime(2020, 6, 5, 0, 0, 14, 400000),\n",
       "       datetime.datetime(2020, 6, 5, 0, 0, 14, 600000),\n",
       "       datetime.datetime(2020, 6, 5, 0, 0, 14, 600000),\n",
       "       datetime.datetime(2020, 6, 5, 0, 0, 14, 600000),\n",
       "       datetime.datetime(2020, 6, 5, 0, 0, 14, 700000),\n",
       "       datetime.datetime(2020, 6, 5, 0, 0, 14, 700000),\n",
       "       datetime.datetime(2020, 6, 5, 0, 0, 14, 700000),\n",
       "       datetime.datetime(2020, 6, 5, 0, 0, 14, 800000),\n",
       "       datetime.datetime(2020, 6, 5, 0, 0, 14, 800000),\n",
       "       datetime.datetime(2020, 6, 5, 0, 0, 14, 800000),\n",
       "       datetime.datetime(2020, 6, 5, 0, 0, 14, 800000),\n",
       "       datetime.datetime(2020, 6, 5, 0, 0, 14, 800000),\n",
       "       datetime.datetime(2020, 6, 5, 0, 0, 14, 800000),\n",
       "       datetime.datetime(2020, 6, 5, 0, 0, 14, 800000),\n",
       "       datetime.datetime(2020, 6, 5, 0, 0, 15, 200000),\n",
       "       datetime.datetime(2020, 6, 5, 0, 0, 15, 200000),\n",
       "       datetime.datetime(2020, 6, 5, 0, 0, 15, 700000),\n",
       "       datetime.datetime(2020, 6, 5, 0, 0, 15, 700000),\n",
       "       datetime.datetime(2020, 6, 5, 0, 0, 15, 700000),\n",
       "       datetime.datetime(2020, 6, 5, 0, 0, 15, 700000),\n",
       "       datetime.datetime(2020, 6, 5, 0, 0, 15, 800000),\n",
       "       datetime.datetime(2020, 6, 5, 0, 0, 15, 900000),\n",
       "       datetime.datetime(2020, 6, 5, 0, 0, 15, 900000),\n",
       "       datetime.datetime(2020, 6, 5, 0, 0, 15, 900000),\n",
       "       datetime.datetime(2020, 6, 5, 0, 0, 16, 200000),\n",
       "       datetime.datetime(2020, 6, 5, 0, 0, 16, 200000),\n",
       "       datetime.datetime(2020, 6, 5, 0, 0, 16, 200000),\n",
       "       datetime.datetime(2020, 6, 5, 0, 0, 16, 200000),\n",
       "       datetime.datetime(2020, 6, 5, 0, 0, 16, 200000),\n",
       "       datetime.datetime(2020, 6, 5, 0, 0, 16, 200000),\n",
       "       datetime.datetime(2020, 6, 5, 0, 0, 16, 600000),\n",
       "       datetime.datetime(2020, 6, 5, 0, 0, 16, 600000),\n",
       "       datetime.datetime(2020, 6, 5, 0, 0, 16, 600000),\n",
       "       datetime.datetime(2020, 6, 5, 0, 0, 16, 700000),\n",
       "       datetime.datetime(2020, 6, 5, 0, 0, 16, 700000),\n",
       "       datetime.datetime(2020, 6, 5, 0, 0, 16, 700000),\n",
       "       datetime.datetime(2020, 6, 5, 0, 0, 16, 800000),\n",
       "       datetime.datetime(2020, 6, 5, 0, 0, 16, 800000),\n",
       "       datetime.datetime(2020, 6, 5, 0, 0, 16, 900000),\n",
       "       datetime.datetime(2020, 6, 5, 0, 0, 16, 900000),\n",
       "       datetime.datetime(2020, 6, 5, 0, 0, 17, 100000),\n",
       "       datetime.datetime(2020, 6, 5, 0, 0, 17, 100000),\n",
       "       datetime.datetime(2020, 6, 5, 0, 0, 17, 200000),\n",
       "       datetime.datetime(2020, 6, 5, 0, 0, 17, 200000),\n",
       "       datetime.datetime(2020, 6, 5, 0, 0, 17, 200000),\n",
       "       datetime.datetime(2020, 6, 5, 0, 0, 17, 200000),\n",
       "       datetime.datetime(2020, 6, 5, 0, 0, 17, 200000),\n",
       "       datetime.datetime(2020, 6, 5, 0, 0, 17, 300000),\n",
       "       datetime.datetime(2020, 6, 5, 0, 0, 17, 400000),\n",
       "       datetime.datetime(2020, 6, 5, 0, 0, 17, 400000),\n",
       "       datetime.datetime(2020, 6, 5, 0, 0, 17, 800000),\n",
       "       datetime.datetime(2020, 6, 5, 0, 0, 17, 800000),\n",
       "       datetime.datetime(2020, 6, 5, 0, 0, 17, 800000),\n",
       "       datetime.datetime(2020, 6, 5, 0, 0, 17, 800000),\n",
       "       datetime.datetime(2020, 6, 5, 0, 0, 17, 900000),\n",
       "       datetime.datetime(2020, 6, 5, 0, 0, 17, 900000),\n",
       "       datetime.datetime(2020, 6, 5, 0, 0, 18),\n",
       "       datetime.datetime(2020, 6, 5, 0, 0, 18, 100000),\n",
       "       datetime.datetime(2020, 6, 5, 0, 0, 18, 100000),\n",
       "       datetime.datetime(2020, 6, 5, 0, 0, 18, 100000),\n",
       "       datetime.datetime(2020, 6, 5, 0, 0, 18, 100000),\n",
       "       datetime.datetime(2020, 6, 5, 0, 0, 18, 200000),\n",
       "       datetime.datetime(2020, 6, 5, 0, 0, 18, 200000),\n",
       "       datetime.datetime(2020, 6, 5, 0, 0, 18, 200000),\n",
       "       datetime.datetime(2020, 6, 5, 0, 0, 18, 200000),\n",
       "       datetime.datetime(2020, 6, 5, 0, 0, 18, 200000),\n",
       "       datetime.datetime(2020, 6, 5, 0, 0, 18, 200000),\n",
       "       datetime.datetime(2020, 6, 5, 0, 0, 18, 200000),\n",
       "       datetime.datetime(2020, 6, 5, 0, 0, 18, 200000),\n",
       "       datetime.datetime(2020, 6, 5, 0, 0, 18, 400000),\n",
       "       datetime.datetime(2020, 6, 5, 0, 0, 18, 400000),\n",
       "       datetime.datetime(2020, 6, 5, 0, 0, 18, 500000),\n",
       "       datetime.datetime(2020, 6, 5, 0, 0, 18, 500000),\n",
       "       datetime.datetime(2020, 6, 5, 0, 0, 18, 600000),\n",
       "       datetime.datetime(2020, 6, 5, 0, 0, 18, 600000),\n",
       "       datetime.datetime(2020, 6, 5, 0, 0, 18, 600000),\n",
       "       datetime.datetime(2020, 6, 5, 0, 0, 18, 800000),\n",
       "       datetime.datetime(2020, 6, 5, 0, 0, 19, 400000),\n",
       "       datetime.datetime(2020, 6, 5, 0, 0, 19, 400000),\n",
       "       datetime.datetime(2020, 6, 5, 0, 0, 19, 400000),\n",
       "       datetime.datetime(2020, 6, 5, 0, 0, 19, 600000),\n",
       "       datetime.datetime(2020, 6, 5, 0, 0, 19, 700000),\n",
       "       datetime.datetime(2020, 6, 5, 0, 0, 19, 700000),\n",
       "       datetime.datetime(2020, 6, 5, 0, 0, 19, 900000),\n",
       "       datetime.datetime(2020, 6, 5, 0, 0, 20),\n",
       "       datetime.datetime(2020, 6, 5, 0, 0, 20),\n",
       "       datetime.datetime(2020, 6, 5, 0, 0, 20),\n",
       "       datetime.datetime(2020, 6, 5, 0, 0, 20),\n",
       "       datetime.datetime(2020, 6, 5, 0, 0, 20),\n",
       "       datetime.datetime(2020, 6, 5, 0, 0, 20, 100000),\n",
       "       datetime.datetime(2020, 6, 5, 0, 0, 20, 100000),\n",
       "       datetime.datetime(2020, 6, 5, 0, 0, 20, 100000),\n",
       "       datetime.datetime(2020, 6, 5, 0, 0, 20, 100000),\n",
       "       datetime.datetime(2020, 6, 5, 0, 0, 20, 500000),\n",
       "       datetime.datetime(2020, 6, 5, 0, 0, 20, 500000),\n",
       "       datetime.datetime(2020, 6, 5, 0, 0, 20, 500000),\n",
       "       datetime.datetime(2020, 6, 5, 0, 0, 20, 800000),\n",
       "       datetime.datetime(2020, 6, 5, 0, 0, 20, 800000),\n",
       "       datetime.datetime(2020, 6, 5, 0, 0, 20, 800000),\n",
       "       datetime.datetime(2020, 6, 5, 0, 0, 20, 800000),\n",
       "       datetime.datetime(2020, 6, 5, 0, 0, 20, 800000),\n",
       "       datetime.datetime(2020, 6, 5, 0, 0, 20, 800000),\n",
       "       datetime.datetime(2020, 6, 5, 0, 0, 20, 800000),\n",
       "       datetime.datetime(2020, 6, 5, 0, 0, 20, 800000),\n",
       "       datetime.datetime(2020, 6, 5, 0, 0, 20, 800000),\n",
       "       datetime.datetime(2020, 6, 5, 0, 0, 21, 200000),\n",
       "       datetime.datetime(2020, 6, 5, 0, 0, 21, 200000),\n",
       "       datetime.datetime(2020, 6, 5, 0, 0, 21, 200000),\n",
       "       datetime.datetime(2020, 6, 5, 0, 0, 21, 600000),\n",
       "       datetime.datetime(2020, 6, 5, 0, 0, 21, 600000),\n",
       "       datetime.datetime(2020, 6, 5, 0, 0, 21, 600000),\n",
       "       datetime.datetime(2020, 6, 5, 0, 0, 21, 800000),\n",
       "       datetime.datetime(2020, 6, 5, 0, 0, 22),\n",
       "       datetime.datetime(2020, 6, 5, 0, 0, 22, 200000),\n",
       "       datetime.datetime(2020, 6, 5, 0, 0, 22, 200000),\n",
       "       datetime.datetime(2020, 6, 5, 0, 0, 22, 200000),\n",
       "       datetime.datetime(2020, 6, 5, 0, 0, 22, 200000),\n",
       "       datetime.datetime(2020, 6, 5, 0, 0, 22, 200000),\n",
       "       datetime.datetime(2020, 6, 5, 0, 0, 22, 400000),\n",
       "       datetime.datetime(2020, 6, 5, 0, 0, 22, 400000),\n",
       "       datetime.datetime(2020, 6, 5, 0, 0, 22, 400000),\n",
       "       datetime.datetime(2020, 6, 5, 0, 0, 22, 400000),\n",
       "       datetime.datetime(2020, 6, 5, 0, 0, 22, 400000),\n",
       "       datetime.datetime(2020, 6, 5, 0, 0, 22, 600000),\n",
       "       datetime.datetime(2020, 6, 5, 0, 0, 22, 600000),\n",
       "       datetime.datetime(2020, 6, 5, 0, 0, 22, 800000),\n",
       "       datetime.datetime(2020, 6, 5, 0, 0, 22, 800000),\n",
       "       datetime.datetime(2020, 6, 5, 0, 0, 22, 800000),\n",
       "       datetime.datetime(2020, 6, 5, 0, 0, 22, 800000),\n",
       "       datetime.datetime(2020, 6, 5, 0, 0, 22, 800000),\n",
       "       datetime.datetime(2020, 6, 5, 0, 0, 22, 800000),\n",
       "       datetime.datetime(2020, 6, 5, 0, 0, 22, 900000),\n",
       "       datetime.datetime(2020, 6, 5, 0, 0, 22, 900000),\n",
       "       datetime.datetime(2020, 6, 5, 0, 0, 23, 100000),\n",
       "       datetime.datetime(2020, 6, 5, 0, 0, 23, 400000),\n",
       "       datetime.datetime(2020, 6, 5, 0, 0, 23, 400000),\n",
       "       datetime.datetime(2020, 6, 5, 0, 0, 23, 700000),\n",
       "       datetime.datetime(2020, 6, 5, 0, 0, 23, 800000),\n",
       "       datetime.datetime(2020, 6, 5, 0, 0, 23, 800000),\n",
       "       datetime.datetime(2020, 6, 5, 0, 0, 24),\n",
       "       datetime.datetime(2020, 6, 5, 0, 0, 24),\n",
       "       datetime.datetime(2020, 6, 5, 0, 0, 24),\n",
       "       datetime.datetime(2020, 6, 5, 0, 0, 24)], dtype=object)"
      ]
     },
     "execution_count": 32,
     "metadata": {},
     "output_type": "execute_result"
    }
   ],
   "source": [
    "datetime_sub"
   ]
  },
  {
   "cell_type": "code",
   "execution_count": null,
   "metadata": {},
   "outputs": [],
   "source": []
  }
 ],
 "metadata": {
  "kernelspec": {
   "display_name": "Python 3",
   "language": "python",
   "name": "python3"
  },
  "language_info": {
   "codemirror_mode": {
    "name": "ipython",
    "version": 3
   },
   "file_extension": ".py",
   "mimetype": "text/x-python",
   "name": "python",
   "nbconvert_exporter": "python",
   "pygments_lexer": "ipython3",
   "version": "3.6.9"
  },
  "toc": {
   "nav_menu": {},
   "number_sections": true,
   "sideBar": true,
   "skip_h1_title": false,
   "title_cell": "Table of Contents",
   "title_sidebar": "Contents",
   "toc_cell": false,
   "toc_position": {},
   "toc_section_display": true,
   "toc_window_display": false
  }
 },
 "nbformat": 4,
 "nbformat_minor": 2
}
